{
 "cells": [
  {
   "cell_type": "markdown",
   "metadata": {
    "id": "Mi6xyuDY0be6"
   },
   "source": [
    "# **Capstone Project - Machine Translation (NLP 2 Group 11)**\n",
    "\n",
    "**CONTEXT:**\n",
    "Machine Translation is the automated translation of source material into another language without human intervention. The database comes from ACL2014 Ninth workshop on Statistical Machine Translation. This workshop mainly focusses on language translation between European language pairs. The idea behind the workshop is to provide the ability for two parties to communicate and exchange the ideas from different\n",
    "countries.\n",
    "\n",
    "**DATA DESCRIPTION:**\n",
    "The database is basically sentences in German/English of various events. Three datasets are obtained from Statistical Machine Translation workshop. Either the dataset can be downloaded from the link or can be used from the shared files. Three datasets are\n",
    "- Europarl v7\n",
    "- Common Crawl corpus\n",
    "- News Commentary\n",
    "\n",
    "**PROJECT OBJECTIVE:**\n",
    "Design a Machine Translation model that can be used to translate sentences from German language to English language or vice-versa.\n",
    "\n"
   ]
  },
  {
   "cell_type": "markdown",
   "metadata": {
    "id": "IbTs3peUNwZD"
   },
   "source": [
    "# **Milestone 1**"
   ]
  },
  {
   "cell_type": "markdown",
   "metadata": {
    "id": "RwO-rGfm0FE_"
   },
   "source": [
    "## **Step 1: Import and merge all the three datasets**"
   ]
  },
  {
   "cell_type": "code",
   "execution_count": 1,
   "metadata": {
    "colab": {
     "base_uri": "https://localhost:8080/"
    },
    "executionInfo": {
     "elapsed": 26505,
     "status": "ok",
     "timestamp": 1724575550573,
     "user": {
      "displayName": "Rajat Agrawal",
      "userId": "02708895037054134028"
     },
     "user_tz": -330
    },
    "id": "cXn3QM5adyVs",
    "outputId": "4a902349-7387-445b-d10e-36f89838c6c6"
   },
   "outputs": [
    {
     "name": "stdout",
     "output_type": "stream",
     "text": [
      "Mounted at /content/drive\n"
     ]
    }
   ],
   "source": [
    "# Connect to Google Drive\n",
    "from google.colab import drive\n",
    "drive.mount('/content/drive')"
   ]
  },
  {
   "cell_type": "code",
   "execution_count": 2,
   "metadata": {
    "executionInfo": {
     "elapsed": 1475,
     "status": "ok",
     "timestamp": 1724575554605,
     "user": {
      "displayName": "Rajat Agrawal",
      "userId": "02708895037054134028"
     },
     "user_tz": -330
    },
    "id": "a6jUhltV8VqC"
   },
   "outputs": [],
   "source": [
    "# import required libraries\n",
    "import pandas as pd\n",
    "import numpy as np\n",
    "\n",
    "import matplotlib.pyplot as plt\n",
    "%matplotlib inline\n",
    "import seaborn as sns"
   ]
  },
  {
   "cell_type": "markdown",
   "metadata": {
    "id": "5Uh9yJpBPDVH"
   },
   "source": [
    "### **Import and Read all files**"
   ]
  },
  {
   "cell_type": "code",
   "execution_count": 3,
   "metadata": {
    "executionInfo": {
     "elapsed": 2,
     "status": "ok",
     "timestamp": 1724575554605,
     "user": {
      "displayName": "Rajat Agrawal",
      "userId": "02708895037054134028"
     },
     "user_tz": -330
    },
    "id": "RsrBNMgTeaF_"
   },
   "outputs": [],
   "source": [
    "# Set Dataset path\n",
    "file_path = '/content/drive/MyDrive/Colab Notebooks/Capstone Project - Machine Translation/Dataset/'"
   ]
  },
  {
   "cell_type": "code",
   "execution_count": 4,
   "metadata": {
    "executionInfo": {
     "elapsed": 4,
     "status": "ok",
     "timestamp": 1724575555239,
     "user": {
      "displayName": "Rajat Agrawal",
      "userId": "02708895037054134028"
     },
     "user_tz": -330
    },
    "id": "PYJNGS3tDUC5"
   },
   "outputs": [],
   "source": [
    "# Define function to open given file, read sentences and add to list\n",
    "def read_file(file_name, list_name):\n",
    "\n",
    "    with open(file_name, 'r') as f:\n",
    "        for line in f:\n",
    "            list_name.append(line)\n",
    "\n",
    "    return list_name"
   ]
  },
  {
   "cell_type": "code",
   "execution_count": 5,
   "metadata": {
    "colab": {
     "base_uri": "https://localhost:8080/"
    },
    "executionInfo": {
     "elapsed": 23811,
     "status": "ok",
     "timestamp": 1724575579046,
     "user": {
      "displayName": "Rajat Agrawal",
      "userId": "02708895037054134028"
     },
     "user_tz": -330
    },
    "id": "Oc5gF2I-Dyd2",
    "outputId": "c545650e-13c3-48f4-da73-2f6e6241502d"
   },
   "outputs": [
    {
     "name": "stdout",
     "output_type": "stream",
     "text": [
      "Length of Common Crawl English Sentences File: 2399123\n",
      "Length of Common Crawl German Sentences File: 2399123\n",
      " \n",
      "English Sentence: iron cement is a ready for use paste which is laid as a fillet by putty knife or finger in the mould edges (corners) of the steel ingot mould.\n",
      "\n",
      "German Sentence: iron cement ist eine gebrauchs-fertige Paste, die mit einem Spachtel oder den Fingern als Hohlkehle in die Formecken (Winkel) der Stahlguss -Kokille aufgetragen wird.\n",
      "\n"
     ]
    }
   ],
   "source": [
    "# Read Common Crawl Files\n",
    "\n",
    "common_crawl_en = []\n",
    "common_crawl_de = []\n",
    "\n",
    "read_file(file_path + 'commoncrawl.de-en_english.txt', common_crawl_en)\n",
    "read_file(file_path + 'commoncrawl.de-en_german.txt', common_crawl_de)\n",
    "\n",
    "print('Length of Common Crawl English Sentences File:',len(common_crawl_en))\n",
    "print('Length of Common Crawl German Sentences File:',len(common_crawl_de))\n",
    "print(' ')\n",
    "print('English Sentence:',common_crawl_en[0])\n",
    "print('German Sentence:',common_crawl_de[0])"
   ]
  },
  {
   "cell_type": "code",
   "execution_count": 6,
   "metadata": {
    "colab": {
     "base_uri": "https://localhost:8080/"
    },
    "executionInfo": {
     "elapsed": 11278,
     "status": "ok",
     "timestamp": 1724575590314,
     "user": {
      "displayName": "Rajat Agrawal",
      "userId": "02708895037054134028"
     },
     "user_tz": -330
    },
    "id": "DjLO39DnEJeT",
    "outputId": "cf3db891-f2d3-4519-95cc-67f4aed14ab7"
   },
   "outputs": [
    {
     "name": "stdout",
     "output_type": "stream",
     "text": [
      "Length of Europarl English Sentences File: 1920209\n",
      "Length of Europarl German Sentences File: 1920209\n",
      " \n",
      "English Sentence: Resumption of the session\n",
      "\n",
      "German Sentence: Wiederaufnahme der Sitzungsperiode\n",
      "\n"
     ]
    }
   ],
   "source": [
    "# Read Europarl Files\n",
    "\n",
    "europarl_en = []\n",
    "europarl_de = []\n",
    "\n",
    "read_file(file_path + 'europarl-v7.de-en_english.txt', europarl_en)\n",
    "read_file(file_path + 'europarl-v7.de-en_german.txt', europarl_de)\n",
    "\n",
    "print('Length of Europarl English Sentences File:',len(europarl_en))\n",
    "print('Length of Europarl German Sentences File:',len(europarl_de))\n",
    "\n",
    "print(' ')\n",
    "print('English Sentence:',europarl_en[0])\n",
    "print('German Sentence:',europarl_de[0])"
   ]
  },
  {
   "cell_type": "code",
   "execution_count": 7,
   "metadata": {
    "colab": {
     "base_uri": "https://localhost:8080/"
    },
    "executionInfo": {
     "elapsed": 3311,
     "status": "ok",
     "timestamp": 1724575593614,
     "user": {
      "displayName": "Rajat Agrawal",
      "userId": "02708895037054134028"
     },
     "user_tz": -330
    },
    "id": "hCGI54qiEX_z",
    "outputId": "8016ebaf-49f5-4f61-f8a6-48479f3c0e46"
   },
   "outputs": [
    {
     "name": "stdout",
     "output_type": "stream",
     "text": [
      "Length of News Commentary English Sentences File: 201995\n",
      "Length of News Commentary German Sentences File: 201854\n",
      " \n",
      "English Sentence: $10,000 Gold?\n",
      "\n",
      "German Sentence: Steigt Gold auf 10.000 Dollar?\n",
      "\n"
     ]
    }
   ],
   "source": [
    "# Read News Commentary Files\n",
    "\n",
    "news_commentary_en = []\n",
    "news_commentary_de = []\n",
    "\n",
    "read_file(file_path + 'news-commentary-v9.de-en_english.txt', news_commentary_en)\n",
    "read_file(file_path + 'news-commentary-v9.de-en_german.txt', news_commentary_de)\n",
    "\n",
    "print('Length of News Commentary English Sentences File:',len(news_commentary_en))\n",
    "print('Length of News Commentary German Sentences File:',len(news_commentary_de))\n",
    "\n",
    "print(' ')\n",
    "print('English Sentence:',news_commentary_en[0])\n",
    "print('German Sentence:',news_commentary_de[0])"
   ]
  },
  {
   "cell_type": "markdown",
   "metadata": {
    "id": "AMdEutuHEvWq"
   },
   "source": [
    "*Note: No of lines in News Commentary - English and German files are different.*"
   ]
  },
  {
   "cell_type": "markdown",
   "metadata": {
    "id": "xSPhn9ts9rP0"
   },
   "source": [
    "Before selecting the sample data from each file and merging, let's perform some Data Analysis on all 3 files"
   ]
  },
  {
   "cell_type": "markdown",
   "metadata": {
    "id": "_OOMZ11U-Kxr"
   },
   "source": [
    "### **Exploratory Data Analysis**"
   ]
  },
  {
   "cell_type": "markdown",
   "metadata": {
    "id": "Bp-wP3zsUeIG"
   },
   "source": [
    "**Check Vocabulary**"
   ]
  },
  {
   "cell_type": "code",
   "execution_count": 8,
   "metadata": {
    "executionInfo": {
     "elapsed": 10,
     "status": "ok",
     "timestamp": 1724575593614,
     "user": {
      "displayName": "Rajat Agrawal",
      "userId": "02708895037054134028"
     },
     "user_tz": -330
    },
    "id": "tvKLT9FlSrxF"
   },
   "outputs": [],
   "source": [
    "# Define function to get vocab size\n",
    "def get_vocab(en_list_name, de_list_name):\n",
    "    all_words_en = ' '.join(en_list_name).lower().split()\n",
    "    all_words_de = ' '.join(de_list_name).lower().split()\n",
    "\n",
    "    total_words_en = len(all_words_en)/1000000\n",
    "    total_words_de = len(all_words_de)/1000000\n",
    "\n",
    "    unique_words_en = set(all_words_en)\n",
    "    unique_words_de = set(all_words_de)\n",
    "\n",
    "    return total_words_en, total_words_de, unique_words_en, unique_words_de"
   ]
  },
  {
   "cell_type": "code",
   "execution_count": 9,
   "metadata": {
    "executionInfo": {
     "elapsed": 39237,
     "status": "ok",
     "timestamp": 1724575649762,
     "user": {
      "displayName": "Rajat Agrawal",
      "userId": "02708895037054134028"
     },
     "user_tz": -330
    },
    "id": "MbuWxVZuUmWC"
   },
   "outputs": [],
   "source": [
    "# Get Total and Unique no of words from each file\n",
    "\n",
    "total_words_cc_en, total_words_cc_de, unique_words_cc_en, unique_words_cc_de = get_vocab(common_crawl_en, common_crawl_de)\n",
    "total_words_ep_en, total_words_ep_de, unique_words_ep_en, unique_words_ep_de = get_vocab(europarl_en, europarl_de)\n",
    "total_words_nc_en, total_words_nc_de, unique_words_nc_en, unique_words_nc_de = get_vocab(news_commentary_en, news_commentary_de)"
   ]
  },
  {
   "cell_type": "code",
   "execution_count": 10,
   "metadata": {
    "colab": {
     "base_uri": "https://localhost:8080/",
     "height": 472
    },
    "executionInfo": {
     "elapsed": 4768,
     "status": "ok",
     "timestamp": 1724575675449,
     "user": {
      "displayName": "Rajat Agrawal",
      "userId": "02708895037054134028"
     },
     "user_tz": -330
    },
    "id": "JF4DKkw0YDE_",
    "outputId": "3108e99d-e244-4732-f975-569b87f4fc86"
   },
   "outputs": [
    {
     "data": {
      "image/png": "[encoded data removed]",
      "text/plain": [
       "<Figure size 640x480 with 1 Axes>"
      ]
     },
     "metadata": {},
     "output_type": "display_data"
    }
   ],
   "source": [
    "# Total Word Count\n",
    "\n",
    "total_words_en = [total_words_cc_en, total_words_ep_en, total_words_nc_en]\n",
    "total_words_de = [total_words_cc_de, total_words_ep_de, total_words_nc_de]\n",
    "\n",
    "datasets = ['Common Crawl', 'Europarl', 'News Commentary']\n",
    "\n",
    "bar_width = 0.35\n",
    "fig, ax = plt.subplots()\n",
    "\n",
    "# Set bars for each dataset\n",
    "bar1 = ax.bar(np.arange(len(datasets)), total_words_en, bar_width, label='English (Total)')\n",
    "bar2 = ax.bar(np.arange(len(datasets)) + bar_width, total_words_de, bar_width, label='German (Total)')\n",
    "\n",
    "# Add labels, title, and legend\n",
    "ax.set_xlabel('Datasets')\n",
    "ax.set_ylabel('Word Count (in millions)')\n",
    "ax.set_title('Word Counts in Different Datasets')\n",
    "ax.set_xticks(np.arange(len(datasets)) + 1.5*bar_width)\n",
    "ax.set_xticklabels(datasets)\n",
    "ax.legend()\n",
    "\n",
    "# Display the plot\n",
    "plt.show()"
   ]
  },
  {
   "cell_type": "code",
   "execution_count": 11,
   "metadata": {
    "colab": {
     "base_uri": "https://localhost:8080/"
    },
    "executionInfo": {
     "elapsed": 671,
     "status": "ok",
     "timestamp": 1724575690637,
     "user": {
      "displayName": "Rajat Agrawal",
      "userId": "02708895037054134028"
     },
     "user_tz": -330
    },
    "id": "La8vgX4m2L4X",
    "outputId": "b905098c-db58-4ef5-f66b-85b699fd1b91"
   },
   "outputs": [
    {
     "name": "stdout",
     "output_type": "stream",
     "text": [
      "Common Crawl:\n",
      "English (Unique)- 1532712\n",
      "German (Unique)- 2557806\n",
      " \n",
      "Europarl:\n",
      "English (Unique)- 271951\n",
      "German (Unique)- 616947\n",
      " \n",
      "News Commentary:\n",
      "English (Unique)- 139001\n",
      "German (Unique)- 139001\n"
     ]
    }
   ],
   "source": [
    "# Unique Word Count\n",
    "\n",
    "print(\"Common Crawl:\")\n",
    "print(\"English (Unique)-\", len(unique_words_cc_en))\n",
    "print(\"German (Unique)-\", len(unique_words_cc_de))\n",
    "\n",
    "print(' ')\n",
    "print(\"Europarl:\")\n",
    "print(\"English (Unique)-\", len(unique_words_ep_en))\n",
    "print(\"German (Unique)-\", len(unique_words_ep_de))\n",
    "\n",
    "print(' ')\n",
    "print(\"News Commentary:\")\n",
    "print(\"English (Unique)-\", len(unique_words_nc_en))\n",
    "print(\"German (Unique)-\", len(unique_words_nc_en))"
   ]
  },
  {
   "cell_type": "markdown",
   "metadata": {
    "id": "PIitD_YJHIEk"
   },
   "source": [
    "**Check and Remove Blank Lines**\n",
    "\n"
   ]
  },
  {
   "cell_type": "code",
   "execution_count": 12,
   "metadata": {
    "executionInfo": {
     "elapsed": 618,
     "status": "ok",
     "timestamp": 1724575795301,
     "user": {
      "displayName": "Rajat Agrawal",
      "userId": "02708895037054134028"
     },
     "user_tz": -330
    },
    "id": "-5f6ItAHGDhR"
   },
   "outputs": [],
   "source": [
    "# Define function to check for blank lines in given file\n",
    "def check_blank(list_name):\n",
    "    blank_lines_index = []\n",
    "    for i in range(len(list_name)):\n",
    "        if list_name[i] == '\\n':\n",
    "            blank_lines_index.append(i)\n",
    "\n",
    "    return blank_lines_index"
   ]
  },
  {
   "cell_type": "code",
   "execution_count": 13,
   "metadata": {
    "colab": {
     "base_uri": "https://localhost:8080/"
    },
    "executionInfo": {
     "elapsed": 865,
     "status": "ok",
     "timestamp": 1724575796872,
     "user": {
      "displayName": "Rajat Agrawal",
      "userId": "02708895037054134028"
     },
     "user_tz": -330
    },
    "id": "zxHCL1riH25f",
    "outputId": "b5438577-db84-407c-b759-1d3e37a0341b"
   },
   "outputs": [
    {
     "name": "stdout",
     "output_type": "stream",
     "text": [
      "No of blank lines in Common Crawl English File: 0\n",
      "No of blank lines in Common Crawl German File: 0\n",
      "No of blank lines in Europarl English File: 8366\n",
      "No of blank lines in Europarl German File: 2923\n",
      "No of blank lines in News Commentary English File: 322\n",
      "No of blank lines in News Commentary German File: 224\n"
     ]
    }
   ],
   "source": [
    "common_crawl_en_blanks = check_blank(common_crawl_en)\n",
    "print('No of blank lines in Common Crawl English File:',len(common_crawl_en_blanks))\n",
    "\n",
    "common_crawl_de_blanks = check_blank(common_crawl_de)\n",
    "print('No of blank lines in Common Crawl German File:',len(common_crawl_de_blanks))\n",
    "\n",
    "europarl_en_blanks = check_blank(europarl_en)\n",
    "print('No of blank lines in Europarl English File:',len(europarl_en_blanks))\n",
    "\n",
    "europarl_de_blanks = check_blank(europarl_de)\n",
    "print('No of blank lines in Europarl German File:',len(europarl_de_blanks))\n",
    "\n",
    "news_commentary_en_blanks = check_blank(news_commentary_en)\n",
    "print('No of blank lines in News Commentary English File:',len(news_commentary_en_blanks))\n",
    "\n",
    "news_commentary_de_blanks = check_blank(news_commentary_de)\n",
    "print('No of blank lines in News Commentary German File:',len(news_commentary_de_blanks))"
   ]
  },
  {
   "cell_type": "code",
   "execution_count": 14,
   "metadata": {
    "executionInfo": {
     "elapsed": 2,
     "status": "ok",
     "timestamp": 1724575796872,
     "user": {
      "displayName": "Rajat Agrawal",
      "userId": "02708895037054134028"
     },
     "user_tz": -330
    },
    "id": "ZCddf_vkUbtm"
   },
   "outputs": [],
   "source": [
    "# Define function to remove blank lines\n",
    "def remove_blanks(list_name, blanks_list):\n",
    "    for index in sorted(blanks_list, reverse=True):\n",
    "        if index < len(list_name):\n",
    "            del list_name[index]\n",
    "\n",
    "    return list_name"
   ]
  },
  {
   "cell_type": "code",
   "execution_count": 15,
   "metadata": {
    "colab": {
     "base_uri": "https://localhost:8080/"
    },
    "executionInfo": {
     "elapsed": 7069,
     "status": "ok",
     "timestamp": 1724575804836,
     "user": {
      "displayName": "Rajat Agrawal",
      "userId": "02708895037054134028"
     },
     "user_tz": -330
    },
    "id": "znQ9fucFU2wa",
    "outputId": "f72abf87-f2f1-4122-a22d-63c01d2c0c90"
   },
   "outputs": [
    {
     "name": "stdout",
     "output_type": "stream",
     "text": [
      "Europarl English File Length, after removing blank lines: 1908920\n",
      "Europarl German File Length: 1908920\n",
      " \n",
      "News Commentary English File Length, after removing blank lines: 201449\n",
      "News Commentary German File Length,after removing blank lines: 201309\n"
     ]
    }
   ],
   "source": [
    "# Combine indices of lines to be removed\n",
    "europarl_blanks = sorted(europarl_en_blanks + europarl_de_blanks)\n",
    "news_commentary_blanks = sorted(news_commentary_en_blanks + news_commentary_de_blanks)\n",
    "\n",
    "# Remove lines\n",
    "print('Europarl English File Length, after removing blank lines:',len(remove_blanks(europarl_en, europarl_blanks)))\n",
    "print('Europarl German File Length:',len(remove_blanks(europarl_de, europarl_blanks)))\n",
    "\n",
    "print(' ')\n",
    "print('News Commentary English File Length, after removing blank lines:',len(remove_blanks(news_commentary_en, news_commentary_blanks)))\n",
    "print('News Commentary German File Length,after removing blank lines:',len(remove_blanks(news_commentary_de, news_commentary_blanks)))"
   ]
  },
  {
   "cell_type": "markdown",
   "metadata": {
    "id": "n3-Rm7j1PgkE"
   },
   "source": [
    "### **Merge the datasets**"
   ]
  },
  {
   "cell_type": "markdown",
   "metadata": {
    "id": "pWuIspP3OJCZ"
   },
   "source": [
    "- Since the size of datasets is quite bug, it will not be feasible to use entire datasets for training, due to amount of computing resources and training time which will be required.\n",
    "- So, for training we will take 10000 sentences from each original dataset and merge to form a common English and German dataset"
   ]
  },
  {
   "cell_type": "code",
   "execution_count": 16,
   "metadata": {
    "colab": {
     "base_uri": "https://localhost:8080/"
    },
    "executionInfo": {
     "elapsed": 4,
     "status": "ok",
     "timestamp": 1724575804837,
     "user": {
      "displayName": "Rajat Agrawal",
      "userId": "02708895037054134028"
     },
     "user_tz": -330
    },
    "id": "BmR8tXseF3SU",
    "outputId": "f6163b36-88ea-4734-e9b0-e9b86d73cf9b"
   },
   "outputs": [
    {
     "name": "stdout",
     "output_type": "stream",
     "text": [
      "Length of Merged English File: 30000\n",
      "Length of Merged German File: 30000\n"
     ]
    }
   ],
   "source": [
    "# Merge the three lists\n",
    "en_sentences = common_crawl_en[:10000] + europarl_en[:10000] + news_commentary_en[:10000]\n",
    "de_sentences = common_crawl_de[:10000] + europarl_de[:10000] + news_commentary_de[:10000]\n",
    "\n",
    "# Print the lengths of the merged lists\n",
    "print('Length of Merged English File:', len(en_sentences))\n",
    "print('Length of Merged German File:', len(de_sentences))"
   ]
  },
  {
   "cell_type": "code",
   "execution_count": 17,
   "metadata": {
    "colab": {
     "base_uri": "https://localhost:8080/",
     "height": 206
    },
    "executionInfo": {
     "elapsed": 1103,
     "status": "ok",
     "timestamp": 1724575805938,
     "user": {
      "displayName": "Rajat Agrawal",
      "userId": "02708895037054134028"
     },
     "user_tz": -330
    },
    "id": "K-3QSsRcPSsz",
    "outputId": "b1c8d0a1-017f-432c-da20-792e81bf57e3"
   },
   "outputs": [
    {
     "data": {
      "application/vnd.google.colaboratory.intrinsic+json": {
       "summary": "{\n  \"name\": \"df\",\n  \"rows\": 30000,\n  \"fields\": [\n    {\n      \"column\": \"english\",\n      \"properties\": {\n        \"dtype\": \"string\",\n        \"num_unique_values\": 29788,\n        \"samples\": [\n          \"The Canaries have 141 protected areas, four of which are are National Parks.\\n\",\n          \"The guest reviews are submitted by our customers after their stay at La Villa Fierval .\\n\",\n          \"These distributive effects play an important role in the politics of exchange-rate devaluations, and most of these effects appear in fiscal devaluations as well.\\n\"\n        ],\n        \"semantic_type\": \"\",\n        \"description\": \"\"\n      }\n    },\n    {\n      \"column\": \"german\",\n      \"properties\": {\n        \"dtype\": \"string\",\n        \"num_unique_values\": 29854,\n        \"samples\": [\n          \"Altener\\n\",\n          \"Diese zu gew\\u00e4hrleisten, ist ein Hauptanliegen.\\n\",\n          \"Tats\\u00e4chlich hat die Regierung des franz\\u00f6sischen Pr\\u00e4sidenten Nicolas Sarkozy gerade eine angek\\u00fcndigt.\\n\"\n        ],\n        \"semantic_type\": \"\",\n        \"description\": \"\"\n      }\n    }\n  ]\n}",
       "type": "dataframe",
       "variable_name": "df"
      },
      "text/html": [
       "\n",
       "  <div id=\"df-7a411ab9-b4f2-4136-b566-aef575e65a20\" class=\"colab-df-container\">\n",
       "    <div>\n",
       "<style scoped>\n",
       "    .dataframe tbody tr th:only-of-type {\n",
       "        vertical-align: middle;\n",
       "    }\n",
       "\n",
       "    .dataframe tbody tr th {\n",
       "        vertical-align: top;\n",
       "    }\n",
       "\n",
       "    .dataframe thead th {\n",
       "        text-align: right;\n",
       "    }\n",
       "</style>\n",
       "<table border=\"1\" class=\"dataframe\">\n",
       "  <thead>\n",
       "    <tr style=\"text-align: right;\">\n",
       "      <th></th>\n",
       "      <th>english</th>\n",
       "      <th>german</th>\n",
       "    </tr>\n",
       "  </thead>\n",
       "  <tbody>\n",
       "    <tr>\n",
       "      <th>0</th>\n",
       "      <td>iron cement is a ready for use paste which is ...</td>\n",
       "      <td>iron cement ist eine gebrauchs-fertige Paste, ...</td>\n",
       "    </tr>\n",
       "    <tr>\n",
       "      <th>1</th>\n",
       "      <td>iron cement protects the ingot against the hot...</td>\n",
       "      <td>Nach der Aushärtung schützt iron cement die Ko...</td>\n",
       "    </tr>\n",
       "    <tr>\n",
       "      <th>2</th>\n",
       "      <td>a fire restant repair cement for fire places, ...</td>\n",
       "      <td>feuerfester Reparaturkitt für Feuerungsanlagen...</td>\n",
       "    </tr>\n",
       "    <tr>\n",
       "      <th>3</th>\n",
       "      <td>Construction and repair of highways and...\\n</td>\n",
       "      <td>Der Bau und die Reparatur der Autostraßen...\\n</td>\n",
       "    </tr>\n",
       "    <tr>\n",
       "      <th>4</th>\n",
       "      <td>An announcement must be commercial character.\\n</td>\n",
       "      <td>die Mitteilungen sollen den geschäftlichen kom...</td>\n",
       "    </tr>\n",
       "  </tbody>\n",
       "</table>\n",
       "</div>\n",
       "    <div class=\"colab-df-buttons\">\n",
       "\n",
       "  <div class=\"colab-df-container\">\n",
       "    <button class=\"colab-df-convert\" onclick=\"convertToInteractive('df-7a411ab9-b4f2-4136-b566-aef575e65a20')\"\n",
       "            title=\"Convert this dataframe to an interactive table.\"\n",
       "            style=\"display:none;\">\n",
       "\n",
       "  <svg xmlns=\"http://www.w3.org/2000/svg\" height=\"24px\" viewBox=\"0 -960 960 960\">\n",
       "    <path d=\"M120-120v-720h720v720H120Zm60-500h600v-160H180v160Zm220 220h160v-160H400v160Zm0 220h160v-160H400v160ZM180-400h160v-160H180v160Zm440 0h160v-160H620v160ZM180-180h160v-160H180v160Zm440 0h160v-160H620v160Z\"/>\n",
       "  </svg>\n",
       "    </button>\n",
       "\n",
       "  <style>\n",
       "    .colab-df-container {\n",
       "      display:flex;\n",
       "      gap: 12px;\n",
       "    }\n",
       "\n",
       "    .colab-df-convert {\n",
       "      background-color: #E8F0FE;\n",
       "      border: none;\n",
       "      border-radius: 50%;\n",
       "      cursor: pointer;\n",
       "      display: none;\n",
       "      fill: #1967D2;\n",
       "      height: 32px;\n",
       "      padding: 0 0 0 0;\n",
       "      width: 32px;\n",
       "    }\n",
       "\n",
       "    .colab-df-convert:hover {\n",
       "      background-color: #E2EBFA;\n",
       "      box-shadow: 0px 1px 2px rgba(60, 64, 67, 0.3), 0px 1px 3px 1px rgba(60, 64, 67, 0.15);\n",
       "      fill: #174EA6;\n",
       "    }\n",
       "\n",
       "    .colab-df-buttons div {\n",
       "      margin-bottom: 4px;\n",
       "    }\n",
       "\n",
       "    [theme=dark] .colab-df-convert {\n",
       "      background-color: #3B4455;\n",
       "      fill: #D2E3FC;\n",
       "    }\n",
       "\n",
       "    [theme=dark] .colab-df-convert:hover {\n",
       "      background-color: #434B5C;\n",
       "      box-shadow: 0px 1px 3px 1px rgba(0, 0, 0, 0.15);\n",
       "      filter: drop-shadow(0px 1px 2px rgba(0, 0, 0, 0.3));\n",
       "      fill: #FFFFFF;\n",
       "    }\n",
       "  </style>\n",
       "\n",
       "    <script>\n",
       "      const buttonEl =\n",
       "        document.querySelector('#df-7a411ab9-b4f2-4136-b566-aef575e65a20 button.colab-df-convert');\n",
       "      buttonEl.style.display =\n",
       "        google.colab.kernel.accessAllowed ? 'block' : 'none';\n",
       "\n",
       "      async function convertToInteractive(key) {\n",
       "        const element = document.querySelector('#df-7a411ab9-b4f2-4136-b566-aef575e65a20');\n",
       "        const dataTable =\n",
       "          await google.colab.kernel.invokeFunction('convertToInteractive',\n",
       "                                                    [key], {});\n",
       "        if (!dataTable) return;\n",
       "\n",
       "        const docLinkHtml = 'Like what you see? Visit the ' +\n",
       "          '<a target=\"_blank\" href=https://colab.research.google.com/notebooks/data_table.ipynb>data table notebook</a>'\n",
       "          + ' to learn more about interactive tables.';\n",
       "        element.innerHTML = '';\n",
       "        dataTable['output_type'] = 'display_data';\n",
       "        await google.colab.output.renderOutput(dataTable, element);\n",
       "        const docLink = document.createElement('div');\n",
       "        docLink.innerHTML = docLinkHtml;\n",
       "        element.appendChild(docLink);\n",
       "      }\n",
       "    </script>\n",
       "  </div>\n",
       "\n",
       "\n",
       "<div id=\"df-6c8fd7c9-e0db-40c7-a3f7-174705f916a8\">\n",
       "  <button class=\"colab-df-quickchart\" onclick=\"quickchart('df-6c8fd7c9-e0db-40c7-a3f7-174705f916a8')\"\n",
       "            title=\"Suggest charts\"\n",
       "            style=\"display:none;\">\n",
       "\n",
       "<svg xmlns=\"http://www.w3.org/2000/svg\" height=\"24px\"viewBox=\"0 0 24 24\"\n",
       "     width=\"24px\">\n",
       "    <g>\n",
       "        <path d=\"M19 3H5c-1.1 0-2 .9-2 2v14c0 1.1.9 2 2 2h14c1.1 0 2-.9 2-2V5c0-1.1-.9-2-2-2zM9 17H7v-7h2v7zm4 0h-2V7h2v10zm4 0h-2v-4h2v4z\"/>\n",
       "    </g>\n",
       "</svg>\n",
       "  </button>\n",
       "\n",
       "<style>\n",
       "  .colab-df-quickchart {\n",
       "      --bg-color: #E8F0FE;\n",
       "      --fill-color: #1967D2;\n",
       "      --hover-bg-color: #E2EBFA;\n",
       "      --hover-fill-color: #174EA6;\n",
       "      --disabled-fill-color: #AAA;\n",
       "      --disabled-bg-color: #DDD;\n",
       "  }\n",
       "\n",
       "  [theme=dark] .colab-df-quickchart {\n",
       "      --bg-color: #3B4455;\n",
       "      --fill-color: #D2E3FC;\n",
       "      --hover-bg-color: #434B5C;\n",
       "      --hover-fill-color: #FFFFFF;\n",
       "      --disabled-bg-color: #3B4455;\n",
       "      --disabled-fill-color: #666;\n",
       "  }\n",
       "\n",
       "  .colab-df-quickchart {\n",
       "    background-color: var(--bg-color);\n",
       "    border: none;\n",
       "    border-radius: 50%;\n",
       "    cursor: pointer;\n",
       "    display: none;\n",
       "    fill: var(--fill-color);\n",
       "    height: 32px;\n",
       "    padding: 0;\n",
       "    width: 32px;\n",
       "  }\n",
       "\n",
       "  .colab-df-quickchart:hover {\n",
       "    background-color: var(--hover-bg-color);\n",
       "    box-shadow: 0 1px 2px rgba(60, 64, 67, 0.3), 0 1px 3px 1px rgba(60, 64, 67, 0.15);\n",
       "    fill: var(--button-hover-fill-color);\n",
       "  }\n",
       "\n",
       "  .colab-df-quickchart-complete:disabled,\n",
       "  .colab-df-quickchart-complete:disabled:hover {\n",
       "    background-color: var(--disabled-bg-color);\n",
       "    fill: var(--disabled-fill-color);\n",
       "    box-shadow: none;\n",
       "  }\n",
       "\n",
       "  .colab-df-spinner {\n",
       "    border: 2px solid var(--fill-color);\n",
       "    border-color: transparent;\n",
       "    border-bottom-color: var(--fill-color);\n",
       "    animation:\n",
       "      spin 1s steps(1) infinite;\n",
       "  }\n",
       "\n",
       "  @keyframes spin {\n",
       "    0% {\n",
       "      border-color: transparent;\n",
       "      border-bottom-color: var(--fill-color);\n",
       "      border-left-color: var(--fill-color);\n",
       "    }\n",
       "    20% {\n",
       "      border-color: transparent;\n",
       "      border-left-color: var(--fill-color);\n",
       "      border-top-color: var(--fill-color);\n",
       "    }\n",
       "    30% {\n",
       "      border-color: transparent;\n",
       "      border-left-color: var(--fill-color);\n",
       "      border-top-color: var(--fill-color);\n",
       "      border-right-color: var(--fill-color);\n",
       "    }\n",
       "    40% {\n",
       "      border-color: transparent;\n",
       "      border-right-color: var(--fill-color);\n",
       "      border-top-color: var(--fill-color);\n",
       "    }\n",
       "    60% {\n",
       "      border-color: transparent;\n",
       "      border-right-color: var(--fill-color);\n",
       "    }\n",
       "    80% {\n",
       "      border-color: transparent;\n",
       "      border-right-color: var(--fill-color);\n",
       "      border-bottom-color: var(--fill-color);\n",
       "    }\n",
       "    90% {\n",
       "      border-color: transparent;\n",
       "      border-bottom-color: var(--fill-color);\n",
       "    }\n",
       "  }\n",
       "</style>\n",
       "\n",
       "  <script>\n",
       "    async function quickchart(key) {\n",
       "      const quickchartButtonEl =\n",
       "        document.querySelector('#' + key + ' button');\n",
       "      quickchartButtonEl.disabled = true;  // To prevent multiple clicks.\n",
       "      quickchartButtonEl.classList.add('colab-df-spinner');\n",
       "      try {\n",
       "        const charts = await google.colab.kernel.invokeFunction(\n",
       "            'suggestCharts', [key], {});\n",
       "      } catch (error) {\n",
       "        console.error('Error during call to suggestCharts:', error);\n",
       "      }\n",
       "      quickchartButtonEl.classList.remove('colab-df-spinner');\n",
       "      quickchartButtonEl.classList.add('colab-df-quickchart-complete');\n",
       "    }\n",
       "    (() => {\n",
       "      let quickchartButtonEl =\n",
       "        document.querySelector('#df-6c8fd7c9-e0db-40c7-a3f7-174705f916a8 button');\n",
       "      quickchartButtonEl.style.display =\n",
       "        google.colab.kernel.accessAllowed ? 'block' : 'none';\n",
       "    })();\n",
       "  </script>\n",
       "</div>\n",
       "\n",
       "    </div>\n",
       "  </div>\n"
      ],
      "text/plain": [
       "                                             english  \\\n",
       "0  iron cement is a ready for use paste which is ...   \n",
       "1  iron cement protects the ingot against the hot...   \n",
       "2  a fire restant repair cement for fire places, ...   \n",
       "3       Construction and repair of highways and...\\n   \n",
       "4    An announcement must be commercial character.\\n   \n",
       "\n",
       "                                              german  \n",
       "0  iron cement ist eine gebrauchs-fertige Paste, ...  \n",
       "1  Nach der Aushärtung schützt iron cement die Ko...  \n",
       "2  feuerfester Reparaturkitt für Feuerungsanlagen...  \n",
       "3     Der Bau und die Reparatur der Autostraßen...\\n  \n",
       "4  die Mitteilungen sollen den geschäftlichen kom...  "
      ]
     },
     "execution_count": 17,
     "metadata": {},
     "output_type": "execute_result"
    }
   ],
   "source": [
    "# Create a DataFrame from the merged lists\n",
    "df = pd.DataFrame({'english': en_sentences, 'german': de_sentences})\n",
    "\n",
    "df.head()"
   ]
  },
  {
   "cell_type": "code",
   "execution_count": 18,
   "metadata": {
    "colab": {
     "base_uri": "https://localhost:8080/",
     "height": 206
    },
    "executionInfo": {
     "elapsed": 16,
     "status": "ok",
     "timestamp": 1724575805938,
     "user": {
      "displayName": "Rajat Agrawal",
      "userId": "02708895037054134028"
     },
     "user_tz": -330
    },
    "id": "XvReTIHvLzlN",
    "outputId": "2e2e6335-e2d3-4ca1-d398-348c9c327c76"
   },
   "outputs": [
    {
     "data": {
      "application/vnd.google.colaboratory.intrinsic+json": {
       "summary": "{\n  \"name\": \"df\",\n  \"rows\": 5,\n  \"fields\": [\n    {\n      \"column\": \"english\",\n      \"properties\": {\n        \"dtype\": \"string\",\n        \"num_unique_values\": 5,\n        \"samples\": [\n          \"Clearly this is not about the availability of resources.\\n\",\n          \"I cannot believe that people in developed counties, when informed about the issues, would support rescuing bankers and oppose partial compensation for poor countries and regions.\\n\",\n          \"It is about the inappropriate priorities in how resources are allocated.\\n\"\n        ],\n        \"semantic_type\": \"\",\n        \"description\": \"\"\n      }\n    },\n    {\n      \"column\": \"german\",\n      \"properties\": {\n        \"dtype\": \"string\",\n        \"num_unique_values\": 5,\n        \"samples\": [\n          \"Es geht dabei eindeutig nicht um das Vorhandensein von Mitteln.\\n\",\n          \"Ich kann nicht glauben, dass die Menschen in den Industriel\\u00e4ndern, wenn sie \\u00fcber diese Themen informiert werden, die Rettung der Banker unterst\\u00fctzen und sich einer Teilentsch\\u00e4digung der armen L\\u00e4nder und Regionen entgegenstellen w\\u00fcrden.\\n\",\n          \"Es geht um unangemessene Priorit\\u00e4ten und darum, wof\\u00fcr Mittel verwendet werden.\\n\"\n        ],\n        \"semantic_type\": \"\",\n        \"description\": \"\"\n      }\n    }\n  ]\n}",
       "type": "dataframe"
      },
      "text/html": [
       "\n",
       "  <div id=\"df-fc48fbcb-10a0-497c-8f3c-eaea3ec1a014\" class=\"colab-df-container\">\n",
       "    <div>\n",
       "<style scoped>\n",
       "    .dataframe tbody tr th:only-of-type {\n",
       "        vertical-align: middle;\n",
       "    }\n",
       "\n",
       "    .dataframe tbody tr th {\n",
       "        vertical-align: top;\n",
       "    }\n",
       "\n",
       "    .dataframe thead th {\n",
       "        text-align: right;\n",
       "    }\n",
       "</style>\n",
       "<table border=\"1\" class=\"dataframe\">\n",
       "  <thead>\n",
       "    <tr style=\"text-align: right;\">\n",
       "      <th></th>\n",
       "      <th>english</th>\n",
       "      <th>german</th>\n",
       "    </tr>\n",
       "  </thead>\n",
       "  <tbody>\n",
       "    <tr>\n",
       "      <th>29995</th>\n",
       "      <td>If the developed world is able to pay trillion...</td>\n",
       "      <td>Wenn die Industrieländer in der Lage sind, meh...</td>\n",
       "    </tr>\n",
       "    <tr>\n",
       "      <th>29996</th>\n",
       "      <td>Clearly this is not about the availability of ...</td>\n",
       "      <td>Es geht dabei eindeutig nicht um das Vorhanden...</td>\n",
       "    </tr>\n",
       "    <tr>\n",
       "      <th>29997</th>\n",
       "      <td>It is about the inappropriate priorities in ho...</td>\n",
       "      <td>Es geht um unangemessene Prioritäten und darum...</td>\n",
       "    </tr>\n",
       "    <tr>\n",
       "      <th>29998</th>\n",
       "      <td>It is about moral values that make it appropri...</td>\n",
       "      <td>Es geht um moralische Werte, die es angemessen...</td>\n",
       "    </tr>\n",
       "    <tr>\n",
       "      <th>29999</th>\n",
       "      <td>I cannot believe that people in developed coun...</td>\n",
       "      <td>Ich kann nicht glauben, dass die Menschen in d...</td>\n",
       "    </tr>\n",
       "  </tbody>\n",
       "</table>\n",
       "</div>\n",
       "    <div class=\"colab-df-buttons\">\n",
       "\n",
       "  <div class=\"colab-df-container\">\n",
       "    <button class=\"colab-df-convert\" onclick=\"convertToInteractive('df-fc48fbcb-10a0-497c-8f3c-eaea3ec1a014')\"\n",
       "            title=\"Convert this dataframe to an interactive table.\"\n",
       "            style=\"display:none;\">\n",
       "\n",
       "  <svg xmlns=\"http://www.w3.org/2000/svg\" height=\"24px\" viewBox=\"0 -960 960 960\">\n",
       "    <path d=\"M120-120v-720h720v720H120Zm60-500h600v-160H180v160Zm220 220h160v-160H400v160Zm0 220h160v-160H400v160ZM180-400h160v-160H180v160Zm440 0h160v-160H620v160ZM180-180h160v-160H180v160Zm440 0h160v-160H620v160Z\"/>\n",
       "  </svg>\n",
       "    </button>\n",
       "\n",
       "  <style>\n",
       "    .colab-df-container {\n",
       "      display:flex;\n",
       "      gap: 12px;\n",
       "    }\n",
       "\n",
       "    .colab-df-convert {\n",
       "      background-color: #E8F0FE;\n",
       "      border: none;\n",
       "      border-radius: 50%;\n",
       "      cursor: pointer;\n",
       "      display: none;\n",
       "      fill: #1967D2;\n",
       "      height: 32px;\n",
       "      padding: 0 0 0 0;\n",
       "      width: 32px;\n",
       "    }\n",
       "\n",
       "    .colab-df-convert:hover {\n",
       "      background-color: #E2EBFA;\n",
       "      box-shadow: 0px 1px 2px rgba(60, 64, 67, 0.3), 0px 1px 3px 1px rgba(60, 64, 67, 0.15);\n",
       "      fill: #174EA6;\n",
       "    }\n",
       "\n",
       "    .colab-df-buttons div {\n",
       "      margin-bottom: 4px;\n",
       "    }\n",
       "\n",
       "    [theme=dark] .colab-df-convert {\n",
       "      background-color: #3B4455;\n",
       "      fill: #D2E3FC;\n",
       "    }\n",
       "\n",
       "    [theme=dark] .colab-df-convert:hover {\n",
       "      background-color: #434B5C;\n",
       "      box-shadow: 0px 1px 3px 1px rgba(0, 0, 0, 0.15);\n",
       "      filter: drop-shadow(0px 1px 2px rgba(0, 0, 0, 0.3));\n",
       "      fill: #FFFFFF;\n",
       "    }\n",
       "  </style>\n",
       "\n",
       "    <script>\n",
       "      const buttonEl =\n",
       "        document.querySelector('#df-fc48fbcb-10a0-497c-8f3c-eaea3ec1a014 button.colab-df-convert');\n",
       "      buttonEl.style.display =\n",
       "        google.colab.kernel.accessAllowed ? 'block' : 'none';\n",
       "\n",
       "      async function convertToInteractive(key) {\n",
       "        const element = document.querySelector('#df-fc48fbcb-10a0-497c-8f3c-eaea3ec1a014');\n",
       "        const dataTable =\n",
       "          await google.colab.kernel.invokeFunction('convertToInteractive',\n",
       "                                                    [key], {});\n",
       "        if (!dataTable) return;\n",
       "\n",
       "        const docLinkHtml = 'Like what you see? Visit the ' +\n",
       "          '<a target=\"_blank\" href=https://colab.research.google.com/notebooks/data_table.ipynb>data table notebook</a>'\n",
       "          + ' to learn more about interactive tables.';\n",
       "        element.innerHTML = '';\n",
       "        dataTable['output_type'] = 'display_data';\n",
       "        await google.colab.output.renderOutput(dataTable, element);\n",
       "        const docLink = document.createElement('div');\n",
       "        docLink.innerHTML = docLinkHtml;\n",
       "        element.appendChild(docLink);\n",
       "      }\n",
       "    </script>\n",
       "  </div>\n",
       "\n",
       "\n",
       "<div id=\"df-c56b8a1d-948c-48c3-9691-d8dbe32eff1d\">\n",
       "  <button class=\"colab-df-quickchart\" onclick=\"quickchart('df-c56b8a1d-948c-48c3-9691-d8dbe32eff1d')\"\n",
       "            title=\"Suggest charts\"\n",
       "            style=\"display:none;\">\n",
       "\n",
       "<svg xmlns=\"http://www.w3.org/2000/svg\" height=\"24px\"viewBox=\"0 0 24 24\"\n",
       "     width=\"24px\">\n",
       "    <g>\n",
       "        <path d=\"M19 3H5c-1.1 0-2 .9-2 2v14c0 1.1.9 2 2 2h14c1.1 0 2-.9 2-2V5c0-1.1-.9-2-2-2zM9 17H7v-7h2v7zm4 0h-2V7h2v10zm4 0h-2v-4h2v4z\"/>\n",
       "    </g>\n",
       "</svg>\n",
       "  </button>\n",
       "\n",
       "<style>\n",
       "  .colab-df-quickchart {\n",
       "      --bg-color: #E8F0FE;\n",
       "      --fill-color: #1967D2;\n",
       "      --hover-bg-color: #E2EBFA;\n",
       "      --hover-fill-color: #174EA6;\n",
       "      --disabled-fill-color: #AAA;\n",
       "      --disabled-bg-color: #DDD;\n",
       "  }\n",
       "\n",
       "  [theme=dark] .colab-df-quickchart {\n",
       "      --bg-color: #3B4455;\n",
       "      --fill-color: #D2E3FC;\n",
       "      --hover-bg-color: #434B5C;\n",
       "      --hover-fill-color: #FFFFFF;\n",
       "      --disabled-bg-color: #3B4455;\n",
       "      --disabled-fill-color: #666;\n",
       "  }\n",
       "\n",
       "  .colab-df-quickchart {\n",
       "    background-color: var(--bg-color);\n",
       "    border: none;\n",
       "    border-radius: 50%;\n",
       "    cursor: pointer;\n",
       "    display: none;\n",
       "    fill: var(--fill-color);\n",
       "    height: 32px;\n",
       "    padding: 0;\n",
       "    width: 32px;\n",
       "  }\n",
       "\n",
       "  .colab-df-quickchart:hover {\n",
       "    background-color: var(--hover-bg-color);\n",
       "    box-shadow: 0 1px 2px rgba(60, 64, 67, 0.3), 0 1px 3px 1px rgba(60, 64, 67, 0.15);\n",
       "    fill: var(--button-hover-fill-color);\n",
       "  }\n",
       "\n",
       "  .colab-df-quickchart-complete:disabled,\n",
       "  .colab-df-quickchart-complete:disabled:hover {\n",
       "    background-color: var(--disabled-bg-color);\n",
       "    fill: var(--disabled-fill-color);\n",
       "    box-shadow: none;\n",
       "  }\n",
       "\n",
       "  .colab-df-spinner {\n",
       "    border: 2px solid var(--fill-color);\n",
       "    border-color: transparent;\n",
       "    border-bottom-color: var(--fill-color);\n",
       "    animation:\n",
       "      spin 1s steps(1) infinite;\n",
       "  }\n",
       "\n",
       "  @keyframes spin {\n",
       "    0% {\n",
       "      border-color: transparent;\n",
       "      border-bottom-color: var(--fill-color);\n",
       "      border-left-color: var(--fill-color);\n",
       "    }\n",
       "    20% {\n",
       "      border-color: transparent;\n",
       "      border-left-color: var(--fill-color);\n",
       "      border-top-color: var(--fill-color);\n",
       "    }\n",
       "    30% {\n",
       "      border-color: transparent;\n",
       "      border-left-color: var(--fill-color);\n",
       "      border-top-color: var(--fill-color);\n",
       "      border-right-color: var(--fill-color);\n",
       "    }\n",
       "    40% {\n",
       "      border-color: transparent;\n",
       "      border-right-color: var(--fill-color);\n",
       "      border-top-color: var(--fill-color);\n",
       "    }\n",
       "    60% {\n",
       "      border-color: transparent;\n",
       "      border-right-color: var(--fill-color);\n",
       "    }\n",
       "    80% {\n",
       "      border-color: transparent;\n",
       "      border-right-color: var(--fill-color);\n",
       "      border-bottom-color: var(--fill-color);\n",
       "    }\n",
       "    90% {\n",
       "      border-color: transparent;\n",
       "      border-bottom-color: var(--fill-color);\n",
       "    }\n",
       "  }\n",
       "</style>\n",
       "\n",
       "  <script>\n",
       "    async function quickchart(key) {\n",
       "      const quickchartButtonEl =\n",
       "        document.querySelector('#' + key + ' button');\n",
       "      quickchartButtonEl.disabled = true;  // To prevent multiple clicks.\n",
       "      quickchartButtonEl.classList.add('colab-df-spinner');\n",
       "      try {\n",
       "        const charts = await google.colab.kernel.invokeFunction(\n",
       "            'suggestCharts', [key], {});\n",
       "      } catch (error) {\n",
       "        console.error('Error during call to suggestCharts:', error);\n",
       "      }\n",
       "      quickchartButtonEl.classList.remove('colab-df-spinner');\n",
       "      quickchartButtonEl.classList.add('colab-df-quickchart-complete');\n",
       "    }\n",
       "    (() => {\n",
       "      let quickchartButtonEl =\n",
       "        document.querySelector('#df-c56b8a1d-948c-48c3-9691-d8dbe32eff1d button');\n",
       "      quickchartButtonEl.style.display =\n",
       "        google.colab.kernel.accessAllowed ? 'block' : 'none';\n",
       "    })();\n",
       "  </script>\n",
       "</div>\n",
       "\n",
       "    </div>\n",
       "  </div>\n"
      ],
      "text/plain": [
       "                                                 english  \\\n",
       "29995  If the developed world is able to pay trillion...   \n",
       "29996  Clearly this is not about the availability of ...   \n",
       "29997  It is about the inappropriate priorities in ho...   \n",
       "29998  It is about moral values that make it appropri...   \n",
       "29999  I cannot believe that people in developed coun...   \n",
       "\n",
       "                                                  german  \n",
       "29995  Wenn die Industrieländer in der Lage sind, meh...  \n",
       "29996  Es geht dabei eindeutig nicht um das Vorhanden...  \n",
       "29997  Es geht um unangemessene Prioritäten und darum...  \n",
       "29998  Es geht um moralische Werte, die es angemessen...  \n",
       "29999  Ich kann nicht glauben, dass die Menschen in d...  "
      ]
     },
     "execution_count": 18,
     "metadata": {},
     "output_type": "execute_result"
    }
   ],
   "source": [
    "df.tail()"
   ]
  },
  {
   "cell_type": "code",
   "execution_count": 19,
   "metadata": {
    "colab": {
     "base_uri": "https://localhost:8080/"
    },
    "executionInfo": {
     "elapsed": 14,
     "status": "ok",
     "timestamp": 1724575805938,
     "user": {
      "displayName": "Rajat Agrawal",
      "userId": "02708895037054134028"
     },
     "user_tz": -330
    },
    "id": "cVrwH1cTiHbH",
    "outputId": "386740a8-a67e-4038-a83e-ba982afcbafd"
   },
   "outputs": [
    {
     "data": {
      "text/plain": [
       "(30000, 2)"
      ]
     },
     "execution_count": 19,
     "metadata": {},
     "output_type": "execute_result"
    }
   ],
   "source": [
    "df.shape"
   ]
  },
  {
   "cell_type": "markdown",
   "metadata": {
    "id": "3HWfQ0OV1ZGd"
   },
   "source": [
    "## **Step 2: Data Cleaning**"
   ]
  },
  {
   "cell_type": "markdown",
   "metadata": {
    "id": "9xLdcbFyBPPc"
   },
   "source": [
    "- Previously, we have already checked and removed all blank lines from each of the files, before selecting the sample data from each file and merging them.\n",
    "- As part of data cleaning, we will now check for any NULL values, remove punctuation marks and covert the text to lowercase\n"
   ]
  },
  {
   "cell_type": "markdown",
   "metadata": {
    "id": "HUbUCDXKBc5q"
   },
   "source": [
    "**Check for any NULL values**"
   ]
  },
  {
   "cell_type": "code",
   "execution_count": 21,
   "metadata": {
    "colab": {
     "base_uri": "https://localhost:8080/",
     "height": 147
    },
    "executionInfo": {
     "elapsed": 7,
     "status": "ok",
     "timestamp": 1724575808195,
     "user": {
      "displayName": "Rajat Agrawal",
      "userId": "02708895037054134028"
     },
     "user_tz": -330
    },
    "id": "JFvFXfB9b7Oz",
    "outputId": "38ebb938-c689-4d20-a6ae-508bd18bbb6a"
   },
   "outputs": [
    {
     "data": {
      "text/html": [
       "<div>\n",
       "<style scoped>\n",
       "    .dataframe tbody tr th:only-of-type {\n",
       "        vertical-align: middle;\n",
       "    }\n",
       "\n",
       "    .dataframe tbody tr th {\n",
       "        vertical-align: top;\n",
       "    }\n",
       "\n",
       "    .dataframe thead th {\n",
       "        text-align: right;\n",
       "    }\n",
       "</style>\n",
       "<table border=\"1\" class=\"dataframe\">\n",
       "  <thead>\n",
       "    <tr style=\"text-align: right;\">\n",
       "      <th></th>\n",
       "      <th>0</th>\n",
       "    </tr>\n",
       "  </thead>\n",
       "  <tbody>\n",
       "    <tr>\n",
       "      <th>english</th>\n",
       "      <td>0</td>\n",
       "    </tr>\n",
       "    <tr>\n",
       "      <th>german</th>\n",
       "      <td>0</td>\n",
       "    </tr>\n",
       "  </tbody>\n",
       "</table>\n",
       "</div><br><label><b>dtype:</b> int64</label>"
      ],
      "text/plain": [
       "english    0\n",
       "german     0\n",
       "dtype: int64"
      ]
     },
     "execution_count": 21,
     "metadata": {},
     "output_type": "execute_result"
    }
   ],
   "source": [
    "df.isnull().sum()"
   ]
  },
  {
   "cell_type": "markdown",
   "metadata": {
    "id": "39VWz6RAWzT0"
   },
   "source": [
    "Since we have removed all the blank lines, there are no NULL values remaining in the training data."
   ]
  },
  {
   "cell_type": "markdown",
   "metadata": {
    "id": "Lx6SISqcBWV2"
   },
   "source": [
    "**Remove Punctuation Marks and Convert to Lowercase**"
   ]
  },
  {
   "cell_type": "code",
   "execution_count": 22,
   "metadata": {
    "executionInfo": {
     "elapsed": 862,
     "status": "ok",
     "timestamp": 1724575812308,
     "user": {
      "displayName": "Rajat Agrawal",
      "userId": "02708895037054134028"
     },
     "user_tz": -330
    },
    "id": "PrnDWaU7X8Gi"
   },
   "outputs": [],
   "source": [
    "import string\n",
    "\n",
    "# Define function to remove puntuation marks and numbers, and then convert to lowercase\n",
    "def clean_text(text):\n",
    "    text = text.translate(str.maketrans('', '', string.punctuation)).lower()\n",
    "    return text"
   ]
  },
  {
   "cell_type": "code",
   "execution_count": 23,
   "metadata": {
    "colab": {
     "base_uri": "https://localhost:8080/",
     "height": 206
    },
    "executionInfo": {
     "elapsed": 738,
     "status": "ok",
     "timestamp": 1724575813786,
     "user": {
      "displayName": "Rajat Agrawal",
      "userId": "02708895037054134028"
     },
     "user_tz": -330
    },
    "id": "ArZ_eUYXTcsv",
    "outputId": "cffd3c25-f043-4eaf-a28f-f108af9f113d"
   },
   "outputs": [
    {
     "data": {
      "application/vnd.google.colaboratory.intrinsic+json": {
       "summary": "{\n  \"name\": \"df\",\n  \"rows\": 5,\n  \"fields\": [\n    {\n      \"column\": \"english\",\n      \"properties\": {\n        \"dtype\": \"string\",\n        \"num_unique_values\": 5,\n        \"samples\": [\n          \"Clearly this is not about the availability of resources.\\n\",\n          \"I cannot believe that people in developed counties, when informed about the issues, would support rescuing bankers and oppose partial compensation for poor countries and regions.\\n\",\n          \"It is about the inappropriate priorities in how resources are allocated.\\n\"\n        ],\n        \"semantic_type\": \"\",\n        \"description\": \"\"\n      }\n    },\n    {\n      \"column\": \"german\",\n      \"properties\": {\n        \"dtype\": \"string\",\n        \"num_unique_values\": 5,\n        \"samples\": [\n          \"Es geht dabei eindeutig nicht um das Vorhandensein von Mitteln.\\n\",\n          \"Ich kann nicht glauben, dass die Menschen in den Industriel\\u00e4ndern, wenn sie \\u00fcber diese Themen informiert werden, die Rettung der Banker unterst\\u00fctzen und sich einer Teilentsch\\u00e4digung der armen L\\u00e4nder und Regionen entgegenstellen w\\u00fcrden.\\n\",\n          \"Es geht um unangemessene Priorit\\u00e4ten und darum, wof\\u00fcr Mittel verwendet werden.\\n\"\n        ],\n        \"semantic_type\": \"\",\n        \"description\": \"\"\n      }\n    },\n    {\n      \"column\": \"english_cleaned\",\n      \"properties\": {\n        \"dtype\": \"string\",\n        \"num_unique_values\": 5,\n        \"samples\": [\n          \"clearly this is not about the availability of resources\\n\",\n          \"i cannot believe that people in developed counties when informed about the issues would support rescuing bankers and oppose partial compensation for poor countries and regions\\n\",\n          \"it is about the inappropriate priorities in how resources are allocated\\n\"\n        ],\n        \"semantic_type\": \"\",\n        \"description\": \"\"\n      }\n    },\n    {\n      \"column\": \"german_cleaned\",\n      \"properties\": {\n        \"dtype\": \"string\",\n        \"num_unique_values\": 5,\n        \"samples\": [\n          \"es geht dabei eindeutig nicht um das vorhandensein von mitteln\\n\",\n          \"ich kann nicht glauben dass die menschen in den industriel\\u00e4ndern wenn sie \\u00fcber diese themen informiert werden die rettung der banker unterst\\u00fctzen und sich einer teilentsch\\u00e4digung der armen l\\u00e4nder und regionen entgegenstellen w\\u00fcrden\\n\",\n          \"es geht um unangemessene priorit\\u00e4ten und darum wof\\u00fcr mittel verwendet werden\\n\"\n        ],\n        \"semantic_type\": \"\",\n        \"description\": \"\"\n      }\n    }\n  ]\n}",
       "type": "dataframe"
      },
      "text/html": [
       "\n",
       "  <div id=\"df-f249b334-87c1-48bd-be32-49abf76c873f\" class=\"colab-df-container\">\n",
       "    <div>\n",
       "<style scoped>\n",
       "    .dataframe tbody tr th:only-of-type {\n",
       "        vertical-align: middle;\n",
       "    }\n",
       "\n",
       "    .dataframe tbody tr th {\n",
       "        vertical-align: top;\n",
       "    }\n",
       "\n",
       "    .dataframe thead th {\n",
       "        text-align: right;\n",
       "    }\n",
       "</style>\n",
       "<table border=\"1\" class=\"dataframe\">\n",
       "  <thead>\n",
       "    <tr style=\"text-align: right;\">\n",
       "      <th></th>\n",
       "      <th>english</th>\n",
       "      <th>german</th>\n",
       "      <th>english_cleaned</th>\n",
       "      <th>german_cleaned</th>\n",
       "    </tr>\n",
       "  </thead>\n",
       "  <tbody>\n",
       "    <tr>\n",
       "      <th>29995</th>\n",
       "      <td>If the developed world is able to pay trillion...</td>\n",
       "      <td>Wenn die Industrieländer in der Lage sind, meh...</td>\n",
       "      <td>if the developed world is able to pay trillion...</td>\n",
       "      <td>wenn die industrieländer in der lage sind mehr...</td>\n",
       "    </tr>\n",
       "    <tr>\n",
       "      <th>29996</th>\n",
       "      <td>Clearly this is not about the availability of ...</td>\n",
       "      <td>Es geht dabei eindeutig nicht um das Vorhanden...</td>\n",
       "      <td>clearly this is not about the availability of ...</td>\n",
       "      <td>es geht dabei eindeutig nicht um das vorhanden...</td>\n",
       "    </tr>\n",
       "    <tr>\n",
       "      <th>29997</th>\n",
       "      <td>It is about the inappropriate priorities in ho...</td>\n",
       "      <td>Es geht um unangemessene Prioritäten und darum...</td>\n",
       "      <td>it is about the inappropriate priorities in ho...</td>\n",
       "      <td>es geht um unangemessene prioritäten und darum...</td>\n",
       "    </tr>\n",
       "    <tr>\n",
       "      <th>29998</th>\n",
       "      <td>It is about moral values that make it appropri...</td>\n",
       "      <td>Es geht um moralische Werte, die es angemessen...</td>\n",
       "      <td>it is about moral values that make it appropri...</td>\n",
       "      <td>es geht um moralische werte die es angemessen ...</td>\n",
       "    </tr>\n",
       "    <tr>\n",
       "      <th>29999</th>\n",
       "      <td>I cannot believe that people in developed coun...</td>\n",
       "      <td>Ich kann nicht glauben, dass die Menschen in d...</td>\n",
       "      <td>i cannot believe that people in developed coun...</td>\n",
       "      <td>ich kann nicht glauben dass die menschen in de...</td>\n",
       "    </tr>\n",
       "  </tbody>\n",
       "</table>\n",
       "</div>\n",
       "    <div class=\"colab-df-buttons\">\n",
       "\n",
       "  <div class=\"colab-df-container\">\n",
       "    <button class=\"colab-df-convert\" onclick=\"convertToInteractive('df-f249b334-87c1-48bd-be32-49abf76c873f')\"\n",
       "            title=\"Convert this dataframe to an interactive table.\"\n",
       "            style=\"display:none;\">\n",
       "\n",
       "  <svg xmlns=\"http://www.w3.org/2000/svg\" height=\"24px\" viewBox=\"0 -960 960 960\">\n",
       "    <path d=\"M120-120v-720h720v720H120Zm60-500h600v-160H180v160Zm220 220h160v-160H400v160Zm0 220h160v-160H400v160ZM180-400h160v-160H180v160Zm440 0h160v-160H620v160ZM180-180h160v-160H180v160Zm440 0h160v-160H620v160Z\"/>\n",
       "  </svg>\n",
       "    </button>\n",
       "\n",
       "  <style>\n",
       "    .colab-df-container {\n",
       "      display:flex;\n",
       "      gap: 12px;\n",
       "    }\n",
       "\n",
       "    .colab-df-convert {\n",
       "      background-color: #E8F0FE;\n",
       "      border: none;\n",
       "      border-radius: 50%;\n",
       "      cursor: pointer;\n",
       "      display: none;\n",
       "      fill: #1967D2;\n",
       "      height: 32px;\n",
       "      padding: 0 0 0 0;\n",
       "      width: 32px;\n",
       "    }\n",
       "\n",
       "    .colab-df-convert:hover {\n",
       "      background-color: #E2EBFA;\n",
       "      box-shadow: 0px 1px 2px rgba(60, 64, 67, 0.3), 0px 1px 3px 1px rgba(60, 64, 67, 0.15);\n",
       "      fill: #174EA6;\n",
       "    }\n",
       "\n",
       "    .colab-df-buttons div {\n",
       "      margin-bottom: 4px;\n",
       "    }\n",
       "\n",
       "    [theme=dark] .colab-df-convert {\n",
       "      background-color: #3B4455;\n",
       "      fill: #D2E3FC;\n",
       "    }\n",
       "\n",
       "    [theme=dark] .colab-df-convert:hover {\n",
       "      background-color: #434B5C;\n",
       "      box-shadow: 0px 1px 3px 1px rgba(0, 0, 0, 0.15);\n",
       "      filter: drop-shadow(0px 1px 2px rgba(0, 0, 0, 0.3));\n",
       "      fill: #FFFFFF;\n",
       "    }\n",
       "  </style>\n",
       "\n",
       "    <script>\n",
       "      const buttonEl =\n",
       "        document.querySelector('#df-f249b334-87c1-48bd-be32-49abf76c873f button.colab-df-convert');\n",
       "      buttonEl.style.display =\n",
       "        google.colab.kernel.accessAllowed ? 'block' : 'none';\n",
       "\n",
       "      async function convertToInteractive(key) {\n",
       "        const element = document.querySelector('#df-f249b334-87c1-48bd-be32-49abf76c873f');\n",
       "        const dataTable =\n",
       "          await google.colab.kernel.invokeFunction('convertToInteractive',\n",
       "                                                    [key], {});\n",
       "        if (!dataTable) return;\n",
       "\n",
       "        const docLinkHtml = 'Like what you see? Visit the ' +\n",
       "          '<a target=\"_blank\" href=https://colab.research.google.com/notebooks/data_table.ipynb>data table notebook</a>'\n",
       "          + ' to learn more about interactive tables.';\n",
       "        element.innerHTML = '';\n",
       "        dataTable['output_type'] = 'display_data';\n",
       "        await google.colab.output.renderOutput(dataTable, element);\n",
       "        const docLink = document.createElement('div');\n",
       "        docLink.innerHTML = docLinkHtml;\n",
       "        element.appendChild(docLink);\n",
       "      }\n",
       "    </script>\n",
       "  </div>\n",
       "\n",
       "\n",
       "<div id=\"df-e11e2a94-2b28-4cbe-9994-d39c6cb1ddb0\">\n",
       "  <button class=\"colab-df-quickchart\" onclick=\"quickchart('df-e11e2a94-2b28-4cbe-9994-d39c6cb1ddb0')\"\n",
       "            title=\"Suggest charts\"\n",
       "            style=\"display:none;\">\n",
       "\n",
       "<svg xmlns=\"http://www.w3.org/2000/svg\" height=\"24px\"viewBox=\"0 0 24 24\"\n",
       "     width=\"24px\">\n",
       "    <g>\n",
       "        <path d=\"M19 3H5c-1.1 0-2 .9-2 2v14c0 1.1.9 2 2 2h14c1.1 0 2-.9 2-2V5c0-1.1-.9-2-2-2zM9 17H7v-7h2v7zm4 0h-2V7h2v10zm4 0h-2v-4h2v4z\"/>\n",
       "    </g>\n",
       "</svg>\n",
       "  </button>\n",
       "\n",
       "<style>\n",
       "  .colab-df-quickchart {\n",
       "      --bg-color: #E8F0FE;\n",
       "      --fill-color: #1967D2;\n",
       "      --hover-bg-color: #E2EBFA;\n",
       "      --hover-fill-color: #174EA6;\n",
       "      --disabled-fill-color: #AAA;\n",
       "      --disabled-bg-color: #DDD;\n",
       "  }\n",
       "\n",
       "  [theme=dark] .colab-df-quickchart {\n",
       "      --bg-color: #3B4455;\n",
       "      --fill-color: #D2E3FC;\n",
       "      --hover-bg-color: #434B5C;\n",
       "      --hover-fill-color: #FFFFFF;\n",
       "      --disabled-bg-color: #3B4455;\n",
       "      --disabled-fill-color: #666;\n",
       "  }\n",
       "\n",
       "  .colab-df-quickchart {\n",
       "    background-color: var(--bg-color);\n",
       "    border: none;\n",
       "    border-radius: 50%;\n",
       "    cursor: pointer;\n",
       "    display: none;\n",
       "    fill: var(--fill-color);\n",
       "    height: 32px;\n",
       "    padding: 0;\n",
       "    width: 32px;\n",
       "  }\n",
       "\n",
       "  .colab-df-quickchart:hover {\n",
       "    background-color: var(--hover-bg-color);\n",
       "    box-shadow: 0 1px 2px rgba(60, 64, 67, 0.3), 0 1px 3px 1px rgba(60, 64, 67, 0.15);\n",
       "    fill: var(--button-hover-fill-color);\n",
       "  }\n",
       "\n",
       "  .colab-df-quickchart-complete:disabled,\n",
       "  .colab-df-quickchart-complete:disabled:hover {\n",
       "    background-color: var(--disabled-bg-color);\n",
       "    fill: var(--disabled-fill-color);\n",
       "    box-shadow: none;\n",
       "  }\n",
       "\n",
       "  .colab-df-spinner {\n",
       "    border: 2px solid var(--fill-color);\n",
       "    border-color: transparent;\n",
       "    border-bottom-color: var(--fill-color);\n",
       "    animation:\n",
       "      spin 1s steps(1) infinite;\n",
       "  }\n",
       "\n",
       "  @keyframes spin {\n",
       "    0% {\n",
       "      border-color: transparent;\n",
       "      border-bottom-color: var(--fill-color);\n",
       "      border-left-color: var(--fill-color);\n",
       "    }\n",
       "    20% {\n",
       "      border-color: transparent;\n",
       "      border-left-color: var(--fill-color);\n",
       "      border-top-color: var(--fill-color);\n",
       "    }\n",
       "    30% {\n",
       "      border-color: transparent;\n",
       "      border-left-color: var(--fill-color);\n",
       "      border-top-color: var(--fill-color);\n",
       "      border-right-color: var(--fill-color);\n",
       "    }\n",
       "    40% {\n",
       "      border-color: transparent;\n",
       "      border-right-color: var(--fill-color);\n",
       "      border-top-color: var(--fill-color);\n",
       "    }\n",
       "    60% {\n",
       "      border-color: transparent;\n",
       "      border-right-color: var(--fill-color);\n",
       "    }\n",
       "    80% {\n",
       "      border-color: transparent;\n",
       "      border-right-color: var(--fill-color);\n",
       "      border-bottom-color: var(--fill-color);\n",
       "    }\n",
       "    90% {\n",
       "      border-color: transparent;\n",
       "      border-bottom-color: var(--fill-color);\n",
       "    }\n",
       "  }\n",
       "</style>\n",
       "\n",
       "  <script>\n",
       "    async function quickchart(key) {\n",
       "      const quickchartButtonEl =\n",
       "        document.querySelector('#' + key + ' button');\n",
       "      quickchartButtonEl.disabled = true;  // To prevent multiple clicks.\n",
       "      quickchartButtonEl.classList.add('colab-df-spinner');\n",
       "      try {\n",
       "        const charts = await google.colab.kernel.invokeFunction(\n",
       "            'suggestCharts', [key], {});\n",
       "      } catch (error) {\n",
       "        console.error('Error during call to suggestCharts:', error);\n",
       "      }\n",
       "      quickchartButtonEl.classList.remove('colab-df-spinner');\n",
       "      quickchartButtonEl.classList.add('colab-df-quickchart-complete');\n",
       "    }\n",
       "    (() => {\n",
       "      let quickchartButtonEl =\n",
       "        document.querySelector('#df-e11e2a94-2b28-4cbe-9994-d39c6cb1ddb0 button');\n",
       "      quickchartButtonEl.style.display =\n",
       "        google.colab.kernel.accessAllowed ? 'block' : 'none';\n",
       "    })();\n",
       "  </script>\n",
       "</div>\n",
       "\n",
       "    </div>\n",
       "  </div>\n"
      ],
      "text/plain": [
       "                                                 english  \\\n",
       "29995  If the developed world is able to pay trillion...   \n",
       "29996  Clearly this is not about the availability of ...   \n",
       "29997  It is about the inappropriate priorities in ho...   \n",
       "29998  It is about moral values that make it appropri...   \n",
       "29999  I cannot believe that people in developed coun...   \n",
       "\n",
       "                                                  german  \\\n",
       "29995  Wenn die Industrieländer in der Lage sind, meh...   \n",
       "29996  Es geht dabei eindeutig nicht um das Vorhanden...   \n",
       "29997  Es geht um unangemessene Prioritäten und darum...   \n",
       "29998  Es geht um moralische Werte, die es angemessen...   \n",
       "29999  Ich kann nicht glauben, dass die Menschen in d...   \n",
       "\n",
       "                                         english_cleaned  \\\n",
       "29995  if the developed world is able to pay trillion...   \n",
       "29996  clearly this is not about the availability of ...   \n",
       "29997  it is about the inappropriate priorities in ho...   \n",
       "29998  it is about moral values that make it appropri...   \n",
       "29999  i cannot believe that people in developed coun...   \n",
       "\n",
       "                                          german_cleaned  \n",
       "29995  wenn die industrieländer in der lage sind mehr...  \n",
       "29996  es geht dabei eindeutig nicht um das vorhanden...  \n",
       "29997  es geht um unangemessene prioritäten und darum...  \n",
       "29998  es geht um moralische werte die es angemessen ...  \n",
       "29999  ich kann nicht glauben dass die menschen in de...  "
      ]
     },
     "execution_count": 23,
     "metadata": {},
     "output_type": "execute_result"
    }
   ],
   "source": [
    "df['english_cleaned'] = df['english'].apply(lambda x: clean_text(x))\n",
    "df['german_cleaned'] = df['german'].apply(lambda x: clean_text(x))\n",
    "\n",
    "df.tail()"
   ]
  },
  {
   "cell_type": "markdown",
   "metadata": {
    "id": "q0I8YtN01ZYE"
   },
   "source": [
    "## **Step 3: NLP Pre-processing**"
   ]
  },
  {
   "cell_type": "code",
   "execution_count": 24,
   "metadata": {
    "colab": {
     "base_uri": "https://localhost:8080/",
     "height": 927
    },
    "executionInfo": {
     "elapsed": 2014,
     "status": "ok",
     "timestamp": 1724575816592,
     "user": {
      "displayName": "Rajat Agrawal",
      "userId": "02708895037054134028"
     },
     "user_tz": -330
    },
    "id": "Wahht6ndJO4Q",
    "outputId": "6ff9ed0f-99b8-4eb1-9f63-5d924ecb4f6d"
   },
   "outputs": [
    {
     "data": {
      "image/png": "[encoded data removed]",
      "text/plain": [
       "<Figure size 640x480 with 1 Axes>"
      ]
     },
     "metadata": {},
     "output_type": "display_data"
    },
    {
     "data": {
      "image/png": "[encoded data removed]",
      "text/plain": [
       "<Figure size 640x480 with 1 Axes>"
      ]
     },
     "metadata": {},
     "output_type": "display_data"
    }
   ],
   "source": [
    "# Plot sentence length distribution for each language\n",
    "\n",
    "def plot_sentence_lengths(sentences, language):\n",
    "    lengths = [len(sentence.split()) for sentence in sentences]\n",
    "    plt.hist(lengths, bins=range(0, max(lengths) + 1, 5))\n",
    "    plt.title(f'Sentence Length Distribution - {language}')\n",
    "    plt.xlabel('Sentence Length')\n",
    "    plt.ylabel('Frequency')\n",
    "    plt.show()\n",
    "\n",
    "plot_sentence_lengths(df['english_cleaned'], 'English')\n",
    "plot_sentence_lengths(df['german_cleaned'], 'German')"
   ]
  },
  {
   "cell_type": "code",
   "execution_count": 25,
   "metadata": {
    "colab": {
     "base_uri": "https://localhost:8080/"
    },
    "executionInfo": {
     "elapsed": 1453,
     "status": "ok",
     "timestamp": 1724575838366,
     "user": {
      "displayName": "Rajat Agrawal",
      "userId": "02708895037054134028"
     },
     "user_tz": -330
    },
    "id": "ac_51SM0b5vn",
    "outputId": "0b5094a2-ca72-40e9-973e-83535928c389"
   },
   "outputs": [
    {
     "name": "stdout",
     "output_type": "stream",
     "text": [
      "Maximum English Sentence length: 172\n",
      "Maximum German Sentence length: 193\n"
     ]
    }
   ],
   "source": [
    "# Get Maximum sentence length for each language\n",
    "\n",
    "max_length_english = int(df['english_cleaned'].str.split().str.len().max())\n",
    "print(\"Maximum English Sentence length:\", max_length_english)\n",
    "\n",
    "max_length_german = int(df['german_cleaned'].str.split().str.len().max())\n",
    "print(\"Maximum German Sentence length:\", max_length_german)"
   ]
  },
  {
   "cell_type": "markdown",
   "metadata": {
    "id": "xCNOzdqeSsA7"
   },
   "source": [
    "#### **Tokenization and Padding**"
   ]
  },
  {
   "cell_type": "code",
   "execution_count": 41,
   "metadata": {
    "executionInfo": {
     "elapsed": 769,
     "status": "ok",
     "timestamp": 1724573959877,
     "user": {
      "displayName": "Rajat Agrawal",
      "userId": "02708895037054134028"
     },
     "user_tz": -330
    },
    "id": "m8mtpRklSNXq"
   },
   "outputs": [],
   "source": [
    "from tensorflow.keras.preprocessing.text import Tokenizer\n",
    "from tensorflow.keras.preprocessing.sequence import pad_sequences"
   ]
  },
  {
   "cell_type": "code",
   "execution_count": 42,
   "metadata": {
    "executionInfo": {
     "elapsed": 830,
     "status": "ok",
     "timestamp": 1724573961388,
     "user": {
      "displayName": "Rajat Agrawal",
      "userId": "02708895037054134028"
     },
     "user_tz": -330
    },
    "id": "3acS4ci_PqrM"
   },
   "outputs": [],
   "source": [
    "# Define function to perform tokenization and padding\n",
    "def tokenization(sentences, max_length):\n",
    "    tokenizer = Tokenizer()\n",
    "    tokenizer.fit_on_texts(sentences)\n",
    "    sequences = tokenizer.texts_to_sequences(sentences)\n",
    "    padded_sequences = pad_sequences(sequences, maxlen=max_length, padding='post')\n",
    "\n",
    "    return tokenizer, padded_sequences"
   ]
  },
  {
   "cell_type": "code",
   "execution_count": 43,
   "metadata": {
    "colab": {
     "base_uri": "https://localhost:8080/"
    },
    "executionInfo": {
     "elapsed": 4884,
     "status": "ok",
     "timestamp": 1724573967577,
     "user": {
      "displayName": "Rajat Agrawal",
      "userId": "02708895037054134028"
     },
     "user_tz": -330
    },
    "id": "g7BXJvHBpjxm",
    "outputId": "58f1f682-7605-4858-968b-595f40f5f057"
   },
   "outputs": [
    {
     "name": "stdout",
     "output_type": "stream",
     "text": [
      "English Vocabulary size: 34856\n",
      "German Vocabulary size: 59642\n",
      "English Padded Sequence Shape: (30000, 172)\n",
      "German Padded Sequence Shape: (30000, 193)\n"
     ]
    }
   ],
   "source": [
    "# Tokenize and Pad Sentences\n",
    "en_tokenizer, en_padded_sequences = tokenization(df['english_cleaned'].tolist(),max_length_english)\n",
    "de_tokenizer, de_padded_sequences = tokenization(df['german_cleaned'].tolist(),max_length_german)\n",
    "\n",
    "# Get vocabulary size\n",
    "en_vocab_size = len(en_tokenizer.word_index)+1\n",
    "print(\"English Vocabulary size:\", en_vocab_size)\n",
    "\n",
    "de_vocab_size = len(de_tokenizer.word_index)+1\n",
    "print(\"German Vocabulary size:\", de_vocab_size)\n",
    "\n",
    "# Check Padded Sequence Shape\n",
    "print(\"English Padded Sequence Shape:\", en_padded_sequences.shape)\n",
    "print(\"German Padded Sequence Shape:\", de_padded_sequences.shape)"
   ]
  },
  {
   "cell_type": "code",
   "execution_count": 44,
   "metadata": {
    "colab": {
     "base_uri": "https://localhost:8080/"
    },
    "executionInfo": {
     "elapsed": 2,
     "status": "ok",
     "timestamp": 1724573967577,
     "user": {
      "displayName": "Rajat Agrawal",
      "userId": "02708895037054134028"
     },
     "user_tz": -330
    },
    "id": "j8kLxXOPpskX",
    "outputId": "7259d3d5-1b66-4353-ab7b-7fddfb7b50cc"
   },
   "outputs": [
    {
     "name": "stdout",
     "output_type": "stream",
     "text": [
      "Actual English Sentence:\n",
      "iron cement is a ready for use paste which is laid as a fillet by putty knife or finger in the mould edges corners of the steel ingot mould\n",
      "\n",
      "Tokenized and Padded English Sentence:\n",
      "[ 3723  8346     7     6  1482     9   129 13675    22     7  1946    16\n",
      "     6 18499    21 18500 18501    31  9565     5     1 11138  9566  4880\n",
      "     2     1  1430 11139 11138     0     0     0     0     0     0     0\n",
      "     0     0     0     0     0     0     0     0     0     0     0     0\n",
      "     0     0     0     0     0     0     0     0     0     0     0     0\n",
      "     0     0     0     0     0     0     0     0     0     0     0     0\n",
      "     0     0     0     0     0     0     0     0     0     0     0     0\n",
      "     0     0     0     0     0     0     0     0     0     0     0     0\n",
      "     0     0     0     0     0     0     0     0     0     0     0     0\n",
      "     0     0     0     0     0     0     0     0     0     0     0     0\n",
      "     0     0     0     0     0     0     0     0     0     0     0     0\n",
      "     0     0     0     0     0     0     0     0     0     0     0     0\n",
      "     0     0     0     0     0     0     0     0     0     0     0     0\n",
      "     0     0     0     0     0     0     0     0     0     0     0     0\n",
      "     0     0     0     0]\n",
      " \n",
      "Actual German Sentence:\n",
      "iron cement ist eine gebrauchsfertige paste die mit einem spachtel oder den fingern als hohlkehle in die formecken winkel der stahlguss kokille aufgetragen wird\n",
      "\n",
      "Tokenized and Padded German Sentence:\n",
      "[17746 13715     9    12 26073 17747     1    14    48 26074    40     6\n",
      " 26075    26 26076     4     1 26077 17748     2 17749 17750 26078    29\n",
      "     0     0     0     0     0     0     0     0     0     0     0     0\n",
      "     0     0     0     0     0     0     0     0     0     0     0     0\n",
      "     0     0     0     0     0     0     0     0     0     0     0     0\n",
      "     0     0     0     0     0     0     0     0     0     0     0     0\n",
      "     0     0     0     0     0     0     0     0     0     0     0     0\n",
      "     0     0     0     0     0     0     0     0     0     0     0     0\n",
      "     0     0     0     0     0     0     0     0     0     0     0     0\n",
      "     0     0     0     0     0     0     0     0     0     0     0     0\n",
      "     0     0     0     0     0     0     0     0     0     0     0     0\n",
      "     0     0     0     0     0     0     0     0     0     0     0     0\n",
      "     0     0     0     0     0     0     0     0     0     0     0     0\n",
      "     0     0     0     0     0     0     0     0     0     0     0     0\n",
      "     0     0     0     0     0     0     0     0     0     0     0     0\n",
      "     0     0     0     0     0     0     0     0     0     0     0     0\n",
      "     0]\n"
     ]
    }
   ],
   "source": [
    "# Check Sample Sentence and its Padded Sequence\n",
    "print('Actual English Sentence:')\n",
    "print(df['english_cleaned'].tolist()[0])\n",
    "\n",
    "print('Tokenized and Padded English Sentence:')\n",
    "print(en_padded_sequences[0])\n",
    "\n",
    "print(' ')\n",
    "print('Actual German Sentence:')\n",
    "print(df['german_cleaned'].tolist()[0])\n",
    "\n",
    "print('Tokenized and Padded German Sentence:')\n",
    "print(de_padded_sequences[0])"
   ]
  },
  {
   "cell_type": "markdown",
   "metadata": {
    "id": "08Uy3SwI1Zhq"
   },
   "source": [
    "## **Step 4: Design, Train and Test Simple RNN and LSTM Models (without Embeddings)**"
   ]
  },
  {
   "cell_type": "markdown",
   "metadata": {
    "id": "zejsHDf5r_rV"
   },
   "source": [
    "Since we are building an English to German translation model, English sentences will be our input and German sentences will be output."
   ]
  },
  {
   "cell_type": "code",
   "execution_count": 45,
   "metadata": {
    "executionInfo": {
     "elapsed": 1005,
     "status": "ok",
     "timestamp": 1724573975728,
     "user": {
      "displayName": "Rajat Agrawal",
      "userId": "02708895037054134028"
     },
     "user_tz": -330
    },
    "id": "-Vh146neQMTL"
   },
   "outputs": [],
   "source": [
    "from keras.models import Sequential\n",
    "from keras.layers import SimpleRNN, GRU, LSTM, Input, Embedding, Dropout, Dense\n",
    "from tensorflow.keras.optimizers import Adam, RMSprop\n",
    "from keras.callbacks import ModelCheckpoint\n",
    "from keras.models import load_model"
   ]
  },
  {
   "cell_type": "code",
   "execution_count": 46,
   "metadata": {
    "colab": {
     "base_uri": "https://localhost:8080/"
    },
    "executionInfo": {
     "elapsed": 2,
     "status": "ok",
     "timestamp": 1724573976518,
     "user": {
      "displayName": "Rajat Agrawal",
      "userId": "02708895037054134028"
     },
     "user_tz": -330
    },
    "id": "1DDKZIb1rZvX",
    "outputId": "f8551c1a-3ea9-4c3f-ebd0-c2224841d04f"
   },
   "outputs": [
    {
     "name": "stdout",
     "output_type": "stream",
     "text": [
      "Shape of X_train: (27000, 172)\n",
      "Shape of y_train: (27000, 193)\n",
      "Shape of X_test: (3000, 172)\n",
      "Shape of y_test: (3000, 193)\n"
     ]
    }
   ],
   "source": [
    "# Split the data into training and test sets\n",
    "\n",
    "from sklearn.model_selection import train_test_split\n",
    "\n",
    "X_train, X_test, y_train, y_test = train_test_split(en_padded_sequences, de_padded_sequences, test_size=0.1, random_state=42)\n",
    "\n",
    "print(\"Shape of X_train:\", X_train.shape)\n",
    "print(\"Shape of y_train:\", y_train.shape)\n",
    "print(\"Shape of X_test:\", X_test.shape)\n",
    "print(\"Shape of y_test:\", y_test.shape)"
   ]
  },
  {
   "cell_type": "markdown",
   "metadata": {
    "id": "lDvxWNFiVaRu"
   },
   "source": [
    "#### **Build, Train and Test a Simple RNN Model (without Embeddings)**"
   ]
  },
  {
   "cell_type": "code",
   "execution_count": null,
   "metadata": {
    "id": "FjaKzpPpYx17"
   },
   "outputs": [],
   "source": [
    "# Define function to build and compile RNN model\n",
    "def simple_rnn_model(input_shape, output_sequence_length, english_vocab_size, german_vocab_size):\n",
    "    model = Sequential()\n",
    "    model.add(Input(shape=input_shape[1:]))\n",
    "    model.add(SimpleRNN(64, return_sequences=True))\n",
    "    model.add(Dropout(0.2))\n",
    "    model.add(Dense(german_vocab_size, activation='softmax'))\n",
    "\n",
    "    optimizer = Adam(learning_rate=0.001, clipvalue=0.5)\n",
    "    model.compile(optimizer=optimizer, loss='sparse_categorical_crossentropy', metrics=['accuracy'])\n",
    "\n",
    "    return model"
   ]
  },
  {
   "cell_type": "code",
   "execution_count": null,
   "metadata": {
    "colab": {
     "base_uri": "https://localhost:8080/"
    },
    "executionInfo": {
     "elapsed": 5,
     "status": "ok",
     "timestamp": 1724421048503,
     "user": {
      "displayName": "Rajat Agrawal",
      "userId": "02708895037054134028"
     },
     "user_tz": -330
    },
    "id": "3-jery-mYsPA",
    "outputId": "55be162e-2554-4f9f-eb84-dd05817f49c6"
   },
   "outputs": [
    {
     "name": "stdout",
     "output_type": "stream",
     "text": [
      "German Padded Sequences New Shape: (27000, 193, 1)\n"
     ]
    }
   ],
   "source": [
    "# Reshaping the output (Keras's sparse_categorical_crossentropy function requires the labels to be in 3 dimensions)\n",
    "y_train_reshaped = y_train.reshape(y_train.shape[0], y_train.shape[1], 1)\n",
    "print(\"German Padded Sequences New Shape:\", y_train_reshaped.shape)"
   ]
  },
  {
   "cell_type": "code",
   "execution_count": null,
   "metadata": {
    "colab": {
     "base_uri": "https://localhost:8080/"
    },
    "executionInfo": {
     "elapsed": 5,
     "status": "ok",
     "timestamp": 1724421048960,
     "user": {
      "displayName": "Rajat Agrawal",
      "userId": "02708895037054134028"
     },
     "user_tz": -330
    },
    "id": "Gy_Mrun-YsPM",
    "outputId": "f3d89f51-5456-4df7-a8d0-f2a0703ac6e2"
   },
   "outputs": [
    {
     "name": "stdout",
     "output_type": "stream",
     "text": [
      "English Padded Sequences New Shape: (27000, 193, 1)\n"
     ]
    }
   ],
   "source": [
    "# Reshaping the input (to be same as output)\n",
    "X_train_reshaped = pad_sequences(X_train, maxlen=max_length_german, padding='post')\n",
    "X_train_reshaped = X_train_reshaped.reshape((-1, X_train_reshaped.shape[1], 1))\n",
    "print(\"English Padded Sequences New Shape:\", X_train_reshaped.shape)"
   ]
  },
  {
   "cell_type": "code",
   "execution_count": null,
   "metadata": {
    "colab": {
     "base_uri": "https://localhost:8080/",
     "height": 232
    },
    "executionInfo": {
     "elapsed": 1713,
     "status": "ok",
     "timestamp": 1724421053763,
     "user": {
      "displayName": "Rajat Agrawal",
      "userId": "02708895037054134028"
     },
     "user_tz": -330
    },
    "id": "FcLDRdNdYsPM",
    "outputId": "b85e12a3-0851-4649-9618-0844042e24eb"
   },
   "outputs": [
    {
     "data": {
      "text/html": [
       "<pre style=\"white-space:pre;overflow-x:auto;line-height:normal;font-family:Menlo,'DejaVu Sans Mono',consolas,'Courier New',monospace\"><span style=\"font-weight: bold\">Model: \"sequential\"</span>\n",
       "</pre>\n"
      ],
      "text/plain": [
       "\u001b[1mModel: \"sequential\"\u001b[0m\n"
      ]
     },
     "metadata": {},
     "output_type": "display_data"
    },
    {
     "data": {
      "text/html": [
       "<pre style=\"white-space:pre;overflow-x:auto;line-height:normal;font-family:Menlo,'DejaVu Sans Mono',consolas,'Courier New',monospace\">┏━━━━━━━━━━━━━━━━━━━━━━━━━━━━━━━━━━━━━━┳━━━━━━━━━━━━━━━━━━━━━━━━━━━━━┳━━━━━━━━━━━━━━━━━┓\n",
       "┃<span style=\"font-weight: bold\"> Layer (type)                         </span>┃<span style=\"font-weight: bold\"> Output Shape                </span>┃<span style=\"font-weight: bold\">         Param # </span>┃\n",
       "┡━━━━━━━━━━━━━━━━━━━━━━━━━━━━━━━━━━━━━━╇━━━━━━━━━━━━━━━━━━━━━━━━━━━━━╇━━━━━━━━━━━━━━━━━┩\n",
       "│ simple_rnn (<span style=\"color: #0087ff; text-decoration-color: #0087ff\">SimpleRNN</span>)               │ (<span style=\"color: #00d7ff; text-decoration-color: #00d7ff\">None</span>, <span style=\"color: #00af00; text-decoration-color: #00af00\">193</span>, <span style=\"color: #00af00; text-decoration-color: #00af00\">64</span>)             │           <span style=\"color: #00af00; text-decoration-color: #00af00\">4,224</span> │\n",
       "├──────────────────────────────────────┼─────────────────────────────┼─────────────────┤\n",
       "│ dropout (<span style=\"color: #0087ff; text-decoration-color: #0087ff\">Dropout</span>)                    │ (<span style=\"color: #00d7ff; text-decoration-color: #00d7ff\">None</span>, <span style=\"color: #00af00; text-decoration-color: #00af00\">193</span>, <span style=\"color: #00af00; text-decoration-color: #00af00\">64</span>)             │               <span style=\"color: #00af00; text-decoration-color: #00af00\">0</span> │\n",
       "├──────────────────────────────────────┼─────────────────────────────┼─────────────────┤\n",
       "│ dense (<span style=\"color: #0087ff; text-decoration-color: #0087ff\">Dense</span>)                        │ (<span style=\"color: #00d7ff; text-decoration-color: #00d7ff\">None</span>, <span style=\"color: #00af00; text-decoration-color: #00af00\">193</span>, <span style=\"color: #00af00; text-decoration-color: #00af00\">59642</span>)          │       <span style=\"color: #00af00; text-decoration-color: #00af00\">3,876,730</span> │\n",
       "└──────────────────────────────────────┴─────────────────────────────┴─────────────────┘\n",
       "</pre>\n"
      ],
      "text/plain": [
       "┏━━━━━━━━━━━━━━━━━━━━━━━━━━━━━━━━━━━━━━┳━━━━━━━━━━━━━━━━━━━━━━━━━━━━━┳━━━━━━━━━━━━━━━━━┓\n",
       "┃\u001b[1m \u001b[0m\u001b[1mLayer (type)                        \u001b[0m\u001b[1m \u001b[0m┃\u001b[1m \u001b[0m\u001b[1mOutput Shape               \u001b[0m\u001b[1m \u001b[0m┃\u001b[1m \u001b[0m\u001b[1m        Param #\u001b[0m\u001b[1m \u001b[0m┃\n",
       "┡━━━━━━━━━━━━━━━━━━━━━━━━━━━━━━━━━━━━━━╇━━━━━━━━━━━━━━━━━━━━━━━━━━━━━╇━━━━━━━━━━━━━━━━━┩\n",
       "│ simple_rnn (\u001b[38;5;33mSimpleRNN\u001b[0m)               │ (\u001b[38;5;45mNone\u001b[0m, \u001b[38;5;34m193\u001b[0m, \u001b[38;5;34m64\u001b[0m)             │           \u001b[38;5;34m4,224\u001b[0m │\n",
       "├──────────────────────────────────────┼─────────────────────────────┼─────────────────┤\n",
       "│ dropout (\u001b[38;5;33mDropout\u001b[0m)                    │ (\u001b[38;5;45mNone\u001b[0m, \u001b[38;5;34m193\u001b[0m, \u001b[38;5;34m64\u001b[0m)             │               \u001b[38;5;34m0\u001b[0m │\n",
       "├──────────────────────────────────────┼─────────────────────────────┼─────────────────┤\n",
       "│ dense (\u001b[38;5;33mDense\u001b[0m)                        │ (\u001b[38;5;45mNone\u001b[0m, \u001b[38;5;34m193\u001b[0m, \u001b[38;5;34m59642\u001b[0m)          │       \u001b[38;5;34m3,876,730\u001b[0m │\n",
       "└──────────────────────────────────────┴─────────────────────────────┴─────────────────┘\n"
      ]
     },
     "metadata": {},
     "output_type": "display_data"
    },
    {
     "data": {
      "text/html": [
       "<pre style=\"white-space:pre;overflow-x:auto;line-height:normal;font-family:Menlo,'DejaVu Sans Mono',consolas,'Courier New',monospace\"><span style=\"font-weight: bold\"> Total params: </span><span style=\"color: #00af00; text-decoration-color: #00af00\">3,880,954</span> (14.80 MB)\n",
       "</pre>\n"
      ],
      "text/plain": [
       "\u001b[1m Total params: \u001b[0m\u001b[38;5;34m3,880,954\u001b[0m (14.80 MB)\n"
      ]
     },
     "metadata": {},
     "output_type": "display_data"
    },
    {
     "data": {
      "text/html": [
       "<pre style=\"white-space:pre;overflow-x:auto;line-height:normal;font-family:Menlo,'DejaVu Sans Mono',consolas,'Courier New',monospace\"><span style=\"font-weight: bold\"> Trainable params: </span><span style=\"color: #00af00; text-decoration-color: #00af00\">3,880,954</span> (14.80 MB)\n",
       "</pre>\n"
      ],
      "text/plain": [
       "\u001b[1m Trainable params: \u001b[0m\u001b[38;5;34m3,880,954\u001b[0m (14.80 MB)\n"
      ]
     },
     "metadata": {},
     "output_type": "display_data"
    },
    {
     "data": {
      "text/html": [
       "<pre style=\"white-space:pre;overflow-x:auto;line-height:normal;font-family:Menlo,'DejaVu Sans Mono',consolas,'Courier New',monospace\"><span style=\"font-weight: bold\"> Non-trainable params: </span><span style=\"color: #00af00; text-decoration-color: #00af00\">0</span> (0.00 B)\n",
       "</pre>\n"
      ],
      "text/plain": [
       "\u001b[1m Non-trainable params: \u001b[0m\u001b[38;5;34m0\u001b[0m (0.00 B)\n"
      ]
     },
     "metadata": {},
     "output_type": "display_data"
    }
   ],
   "source": [
    "# Build and Compile the model\n",
    "simple_rnn = simple_rnn_model(X_train_reshaped.shape, max_length_german, en_vocab_size, de_vocab_size)\n",
    "\n",
    "simple_rnn.summary()"
   ]
  },
  {
   "cell_type": "code",
   "execution_count": null,
   "metadata": {
    "id": "bEjyUUJjHi2D"
   },
   "outputs": [],
   "source": [
    "from keras.utils import plot_model\n",
    "\n",
    "plot_model(simple_rnn, to_file='simple_rnn_plot.png', show_shapes=True, show_layer_names=True)"
   ]
  },
  {
   "cell_type": "code",
   "execution_count": null,
   "metadata": {
    "colab": {
     "base_uri": "https://localhost:8080/"
    },
    "executionInfo": {
     "elapsed": 664669,
     "status": "ok",
     "timestamp": 1724422022803,
     "user": {
      "displayName": "Rajat Agrawal",
      "userId": "02708895037054134028"
     },
     "user_tz": -330
    },
    "id": "7pw8AP9Xa0Jf",
    "outputId": "70fbb7c6-6401-4423-dedc-ed3e73012f02"
   },
   "outputs": [
    {
     "name": "stdout",
     "output_type": "stream",
     "text": [
      "Epoch 1/5\n",
      "\u001b[1m338/338\u001b[0m \u001b[32m━━━━━━━━━━━━━━━━━━━━\u001b[0m\u001b[37m\u001b[0m \u001b[1m115s\u001b[0m 303ms/step - accuracy: 0.8123 - loss: 5.1235 - val_accuracy: 0.8880 - val_loss: 0.9663\n",
      "Epoch 2/5\n",
      "\u001b[1m338/338\u001b[0m \u001b[32m━━━━━━━━━━━━━━━━━━━━\u001b[0m\u001b[37m\u001b[0m \u001b[1m123s\u001b[0m 279ms/step - accuracy: 0.8867 - loss: 0.9715 - val_accuracy: 0.8881 - val_loss: 0.9551\n",
      "Epoch 3/5\n",
      "\u001b[1m338/338\u001b[0m \u001b[32m━━━━━━━━━━━━━━━━━━━━\u001b[0m\u001b[37m\u001b[0m \u001b[1m141s\u001b[0m 276ms/step - accuracy: 0.8862 - loss: 0.9641 - val_accuracy: 0.8881 - val_loss: 0.9547\n",
      "Epoch 4/5\n",
      "\u001b[1m338/338\u001b[0m \u001b[32m━━━━━━━━━━━━━━━━━━━━\u001b[0m\u001b[37m\u001b[0m \u001b[1m143s\u001b[0m 279ms/step - accuracy: 0.8853 - loss: 0.9655 - val_accuracy: 0.8881 - val_loss: 0.9553\n",
      "Epoch 5/5\n",
      "\u001b[1m338/338\u001b[0m \u001b[32m━━━━━━━━━━━━━━━━━━━━\u001b[0m\u001b[37m\u001b[0m \u001b[1m141s\u001b[0m 278ms/step - accuracy: 0.8863 - loss: 0.9539 - val_accuracy: 0.8879 - val_loss: 0.9568\n"
     ]
    }
   ],
   "source": [
    "# Train the model\n",
    "filename = 'mt_simple_rnn_model.keras'\n",
    "checkpoint = ModelCheckpoint(filename, monitor='val_accuracy', mode='max', save_best_only=True)   # Create checkpoint to save the model with best validation accuracy\n",
    "\n",
    "simple_rnn_history = simple_rnn.fit(X_train_reshaped, y_train_reshaped, validation_split=0.2, epochs=5, batch_size=64, callbacks=[checkpoint], verbose=1)"
   ]
  },
  {
   "cell_type": "code",
   "execution_count": null,
   "metadata": {
    "id": "qcUsjxUe1At-"
   },
   "outputs": [],
   "source": [
    "# Get the training and validaiton loss\n",
    "loss = simple_rnn_history.history['loss']\n",
    "val_loss = simple_rnn_history.history['val_loss']\n",
    "\n",
    "# Get the training and validation accuracy\n",
    "acc = simple_rnn_history.history['accuracy']\n",
    "val_acc = simple_rnn_history.history['val_accuracy']"
   ]
  },
  {
   "cell_type": "code",
   "execution_count": null,
   "metadata": {
    "colab": {
     "base_uri": "https://localhost:8080/",
     "height": 472
    },
    "executionInfo": {
     "elapsed": 9,
     "status": "ok",
     "timestamp": 1724422040445,
     "user": {
      "displayName": "Rajat Agrawal",
      "userId": "02708895037054134028"
     },
     "user_tz": -330
    },
    "id": "Ind_7sc31AuN",
    "outputId": "b8c3186c-ec4d-4560-980d-8832dc6a9aa7"
   },
   "outputs": [
    {
     "data": {
      "image/png": "[encoded data removed]",
      "text/plain": [
       "<Figure size 640x480 with 1 Axes>"
      ]
     },
     "metadata": {},
     "output_type": "display_data"
    }
   ],
   "source": [
    "# Plot training and validation loss\n",
    "epochs = range(1, len(loss) + 1)\n",
    "plt.plot(epochs, loss, 'r', label='Training Loss')\n",
    "plt.plot(epochs, val_loss, 'g', label='Validation Loss')\n",
    "plt.title('Training vs Validation Loss')\n",
    "plt.xlabel('Epochs')\n",
    "plt.ylabel('Loss')\n",
    "plt.legend()\n",
    "plt.show()"
   ]
  },
  {
   "cell_type": "code",
   "execution_count": null,
   "metadata": {
    "colab": {
     "base_uri": "https://localhost:8080/",
     "height": 472
    },
    "executionInfo": {
     "elapsed": 8,
     "status": "ok",
     "timestamp": 1724422041692,
     "user": {
      "displayName": "Rajat Agrawal",
      "userId": "02708895037054134028"
     },
     "user_tz": -330
    },
    "id": "mYXkSqAo1AuN",
    "outputId": "c2c9a256-bd7d-4e51-d2b7-c69d7887ac06"
   },
   "outputs": [
    {
     "data": {
      "image/png": "[encoded data removed]",
      "text/plain": [
       "<Figure size 640x480 with 1 Axes>"
      ]
     },
     "metadata": {},
     "output_type": "display_data"
    }
   ],
   "source": [
    "# Plot training and validation accuracy\n",
    "epochs = range(1, len(acc) + 1)\n",
    "plt.plot(epochs, acc, 'r', label='Training Accuracy')\n",
    "plt.plot(epochs, val_acc, 'g', label='Validation Accuracy')\n",
    "plt.title('Training vs Validation Accuracy')\n",
    "plt.xlabel('Epochs')\n",
    "plt.ylabel('Accuracy')\n",
    "plt.legend()\n",
    "plt.show()"
   ]
  },
  {
   "cell_type": "code",
   "execution_count": null,
   "metadata": {
    "colab": {
     "base_uri": "https://localhost:8080/"
    },
    "executionInfo": {
     "elapsed": 471,
     "status": "ok",
     "timestamp": 1724422043484,
     "user": {
      "displayName": "Rajat Agrawal",
      "userId": "02708895037054134028"
     },
     "user_tz": -330
    },
    "id": "IZ529sXBbWRL",
    "outputId": "9c77e569-d283-4147-c93e-acf45e35b916"
   },
   "outputs": [
    {
     "name": "stdout",
     "output_type": "stream",
     "text": [
      "Model output shape: (None, 193, 59642)\n"
     ]
    }
   ],
   "source": [
    "# Test the model\n",
    "simple_rnn_model = load_model('mt_simple_rnn_model.keras')\n",
    "\n",
    "print(\"Model output shape:\", simple_rnn_model.output_shape)"
   ]
  },
  {
   "cell_type": "code",
   "execution_count": null,
   "metadata": {
    "colab": {
     "base_uri": "https://localhost:8080/"
    },
    "executionInfo": {
     "elapsed": 3,
     "status": "ok",
     "timestamp": 1724422044465,
     "user": {
      "displayName": "Rajat Agrawal",
      "userId": "02708895037054134028"
     },
     "user_tz": -330
    },
    "id": "vlO1r2_bcHq1",
    "outputId": "c3c5cb0f-43d6-4d92-c899-4c58236ea98f"
   },
   "outputs": [
    {
     "name": "stdout",
     "output_type": "stream",
     "text": [
      "German Test Data New Shape: (3000, 193, 1)\n"
     ]
    }
   ],
   "source": [
    "# Reshaping the output (Keras's sparse_categorical_crossentropy function requires the labels to be in 3 dimensions)\n",
    "y_test_reshaped = y_test.reshape(*y_test.shape, 1)\n",
    "print(\"German Test Data New Shape:\", y_test_reshaped.shape)"
   ]
  },
  {
   "cell_type": "code",
   "execution_count": null,
   "metadata": {
    "colab": {
     "base_uri": "https://localhost:8080/"
    },
    "executionInfo": {
     "elapsed": 4,
     "status": "ok",
     "timestamp": 1724422044985,
     "user": {
      "displayName": "Rajat Agrawal",
      "userId": "02708895037054134028"
     },
     "user_tz": -330
    },
    "id": "rOutiNulcHrL",
    "outputId": "c5cb3b2c-e70f-41c1-b8a6-f061a6154c7e"
   },
   "outputs": [
    {
     "name": "stdout",
     "output_type": "stream",
     "text": [
      "English Test Data New Shape: (3000, 193, 1)\n"
     ]
    }
   ],
   "source": [
    "# Reshaping the input (to be same as output)\n",
    "X_test_reshaped = pad_sequences(X_test, maxlen=max_length_german, padding='post')\n",
    "X_test_reshaped = X_test_reshaped.reshape((-1, X_test_reshaped.shape[1], 1))\n",
    "print(\"English Test Data New Shape:\", X_test_reshaped.shape)"
   ]
  },
  {
   "cell_type": "code",
   "execution_count": null,
   "metadata": {
    "colab": {
     "base_uri": "https://localhost:8080/"
    },
    "executionInfo": {
     "elapsed": 6086,
     "status": "ok",
     "timestamp": 1724422051635,
     "user": {
      "displayName": "Rajat Agrawal",
      "userId": "02708895037054134028"
     },
     "user_tz": -330
    },
    "id": "nA85I3zcZcyO",
    "outputId": "76410c6e-c22e-49c2-912e-62fe972ad1bb"
   },
   "outputs": [
    {
     "name": "stdout",
     "output_type": "stream",
     "text": [
      "Test Loss: 0.9517783522605896\n",
      "Test Accuracy: 0.8900517821311951\n"
     ]
    }
   ],
   "source": [
    "# Evaluate the model on 100 samples from Test data\n",
    "loss, accuracy = simple_rnn_model.evaluate(X_test_reshaped[:100], y_test_reshaped[:100], verbose=0)\n",
    "print('Test Loss:', loss)\n",
    "print('Test Accuracy:', accuracy)"
   ]
  },
  {
   "cell_type": "markdown",
   "metadata": {
    "id": "ENtDM95tkPZd"
   },
   "source": [
    "Even with a Simple RNN model without Embedding, we have a very good accuracy of 90%"
   ]
  },
  {
   "cell_type": "markdown",
   "metadata": {
    "id": "e2-5x53OVwRA"
   },
   "source": [
    "#### **Build, Train and Test Simple LSTM Model**"
   ]
  },
  {
   "cell_type": "code",
   "execution_count": null,
   "metadata": {
    "id": "qRKw-6_n_rS9"
   },
   "outputs": [],
   "source": [
    "# Define function to build and compile RNN model\n",
    "def simple_lstm_model(input_shape, output_sequence_length, english_vocab_size, german_vocab_size):\n",
    "    model = Sequential()\n",
    "    model.add(Input(shape=input_shape[1:]))\n",
    "    model.add(LSTM(64, return_sequences=True))\n",
    "    model.add(Dropout(0.2))\n",
    "    model.add(Dense(german_vocab_size, activation='softmax'))\n",
    "\n",
    "    optimizer = Adam(learning_rate=0.001, clipvalue=0.5)\n",
    "    model.compile(optimizer=optimizer, loss='sparse_categorical_crossentropy', metrics=['accuracy'])\n",
    "\n",
    "    return model"
   ]
  },
  {
   "cell_type": "code",
   "execution_count": null,
   "metadata": {
    "colab": {
     "base_uri": "https://localhost:8080/",
     "height": 232
    },
    "executionInfo": {
     "elapsed": 789,
     "status": "ok",
     "timestamp": 1724422515320,
     "user": {
      "displayName": "Rajat Agrawal",
      "userId": "02708895037054134028"
     },
     "user_tz": -330
    },
    "id": "XxpUN721leM_",
    "outputId": "42351f38-5246-4162-fb1f-d0adb927b9d0"
   },
   "outputs": [
    {
     "data": {
      "text/html": [
       "<pre style=\"white-space:pre;overflow-x:auto;line-height:normal;font-family:Menlo,'DejaVu Sans Mono',consolas,'Courier New',monospace\"><span style=\"font-weight: bold\">Model: \"sequential_1\"</span>\n",
       "</pre>\n"
      ],
      "text/plain": [
       "\u001b[1mModel: \"sequential_1\"\u001b[0m\n"
      ]
     },
     "metadata": {},
     "output_type": "display_data"
    },
    {
     "data": {
      "text/html": [
       "<pre style=\"white-space:pre;overflow-x:auto;line-height:normal;font-family:Menlo,'DejaVu Sans Mono',consolas,'Courier New',monospace\">┏━━━━━━━━━━━━━━━━━━━━━━━━━━━━━━━━━━━━━━┳━━━━━━━━━━━━━━━━━━━━━━━━━━━━━┳━━━━━━━━━━━━━━━━━┓\n",
       "┃<span style=\"font-weight: bold\"> Layer (type)                         </span>┃<span style=\"font-weight: bold\"> Output Shape                </span>┃<span style=\"font-weight: bold\">         Param # </span>┃\n",
       "┡━━━━━━━━━━━━━━━━━━━━━━━━━━━━━━━━━━━━━━╇━━━━━━━━━━━━━━━━━━━━━━━━━━━━━╇━━━━━━━━━━━━━━━━━┩\n",
       "│ lstm (<span style=\"color: #0087ff; text-decoration-color: #0087ff\">LSTM</span>)                          │ (<span style=\"color: #00d7ff; text-decoration-color: #00d7ff\">None</span>, <span style=\"color: #00af00; text-decoration-color: #00af00\">193</span>, <span style=\"color: #00af00; text-decoration-color: #00af00\">64</span>)             │          <span style=\"color: #00af00; text-decoration-color: #00af00\">16,896</span> │\n",
       "├──────────────────────────────────────┼─────────────────────────────┼─────────────────┤\n",
       "│ dropout_1 (<span style=\"color: #0087ff; text-decoration-color: #0087ff\">Dropout</span>)                  │ (<span style=\"color: #00d7ff; text-decoration-color: #00d7ff\">None</span>, <span style=\"color: #00af00; text-decoration-color: #00af00\">193</span>, <span style=\"color: #00af00; text-decoration-color: #00af00\">64</span>)             │               <span style=\"color: #00af00; text-decoration-color: #00af00\">0</span> │\n",
       "├──────────────────────────────────────┼─────────────────────────────┼─────────────────┤\n",
       "│ dense_1 (<span style=\"color: #0087ff; text-decoration-color: #0087ff\">Dense</span>)                      │ (<span style=\"color: #00d7ff; text-decoration-color: #00d7ff\">None</span>, <span style=\"color: #00af00; text-decoration-color: #00af00\">193</span>, <span style=\"color: #00af00; text-decoration-color: #00af00\">59642</span>)          │       <span style=\"color: #00af00; text-decoration-color: #00af00\">3,876,730</span> │\n",
       "└──────────────────────────────────────┴─────────────────────────────┴─────────────────┘\n",
       "</pre>\n"
      ],
      "text/plain": [
       "┏━━━━━━━━━━━━━━━━━━━━━━━━━━━━━━━━━━━━━━┳━━━━━━━━━━━━━━━━━━━━━━━━━━━━━┳━━━━━━━━━━━━━━━━━┓\n",
       "┃\u001b[1m \u001b[0m\u001b[1mLayer (type)                        \u001b[0m\u001b[1m \u001b[0m┃\u001b[1m \u001b[0m\u001b[1mOutput Shape               \u001b[0m\u001b[1m \u001b[0m┃\u001b[1m \u001b[0m\u001b[1m        Param #\u001b[0m\u001b[1m \u001b[0m┃\n",
       "┡━━━━━━━━━━━━━━━━━━━━━━━━━━━━━━━━━━━━━━╇━━━━━━━━━━━━━━━━━━━━━━━━━━━━━╇━━━━━━━━━━━━━━━━━┩\n",
       "│ lstm (\u001b[38;5;33mLSTM\u001b[0m)                          │ (\u001b[38;5;45mNone\u001b[0m, \u001b[38;5;34m193\u001b[0m, \u001b[38;5;34m64\u001b[0m)             │          \u001b[38;5;34m16,896\u001b[0m │\n",
       "├──────────────────────────────────────┼─────────────────────────────┼─────────────────┤\n",
       "│ dropout_1 (\u001b[38;5;33mDropout\u001b[0m)                  │ (\u001b[38;5;45mNone\u001b[0m, \u001b[38;5;34m193\u001b[0m, \u001b[38;5;34m64\u001b[0m)             │               \u001b[38;5;34m0\u001b[0m │\n",
       "├──────────────────────────────────────┼─────────────────────────────┼─────────────────┤\n",
       "│ dense_1 (\u001b[38;5;33mDense\u001b[0m)                      │ (\u001b[38;5;45mNone\u001b[0m, \u001b[38;5;34m193\u001b[0m, \u001b[38;5;34m59642\u001b[0m)          │       \u001b[38;5;34m3,876,730\u001b[0m │\n",
       "└──────────────────────────────────────┴─────────────────────────────┴─────────────────┘\n"
      ]
     },
     "metadata": {},
     "output_type": "display_data"
    },
    {
     "data": {
      "text/html": [
       "<pre style=\"white-space:pre;overflow-x:auto;line-height:normal;font-family:Menlo,'DejaVu Sans Mono',consolas,'Courier New',monospace\"><span style=\"font-weight: bold\"> Total params: </span><span style=\"color: #00af00; text-decoration-color: #00af00\">3,893,626</span> (14.85 MB)\n",
       "</pre>\n"
      ],
      "text/plain": [
       "\u001b[1m Total params: \u001b[0m\u001b[38;5;34m3,893,626\u001b[0m (14.85 MB)\n"
      ]
     },
     "metadata": {},
     "output_type": "display_data"
    },
    {
     "data": {
      "text/html": [
       "<pre style=\"white-space:pre;overflow-x:auto;line-height:normal;font-family:Menlo,'DejaVu Sans Mono',consolas,'Courier New',monospace\"><span style=\"font-weight: bold\"> Trainable params: </span><span style=\"color: #00af00; text-decoration-color: #00af00\">3,893,626</span> (14.85 MB)\n",
       "</pre>\n"
      ],
      "text/plain": [
       "\u001b[1m Trainable params: \u001b[0m\u001b[38;5;34m3,893,626\u001b[0m (14.85 MB)\n"
      ]
     },
     "metadata": {},
     "output_type": "display_data"
    },
    {
     "data": {
      "text/html": [
       "<pre style=\"white-space:pre;overflow-x:auto;line-height:normal;font-family:Menlo,'DejaVu Sans Mono',consolas,'Courier New',monospace\"><span style=\"font-weight: bold\"> Non-trainable params: </span><span style=\"color: #00af00; text-decoration-color: #00af00\">0</span> (0.00 B)\n",
       "</pre>\n"
      ],
      "text/plain": [
       "\u001b[1m Non-trainable params: \u001b[0m\u001b[38;5;34m0\u001b[0m (0.00 B)\n"
      ]
     },
     "metadata": {},
     "output_type": "display_data"
    }
   ],
   "source": [
    "# Build and Compile the model\n",
    "simple_lstm = simple_lstm_model(X_train_reshaped.shape, max_length_german, en_vocab_size, de_vocab_size)\n",
    "\n",
    "simple_lstm.summary()"
   ]
  },
  {
   "cell_type": "code",
   "execution_count": null,
   "metadata": {
    "colab": {
     "base_uri": "https://localhost:8080/",
     "height": 939
    },
    "collapsed": true,
    "executionInfo": {
     "elapsed": 1688,
     "status": "ok",
     "timestamp": 1724422533930,
     "user": {
      "displayName": "Rajat Agrawal",
      "userId": "02708895037054134028"
     },
     "user_tz": -330
    },
    "id": "4kuWyHlDleNA",
    "outputId": "c514d484-8212-4235-c872-4a4ac9056dc2"
   },
   "outputs": [
    {
     "data": {
      "image/png": "[encoded data removed]",
      "text/plain": [
       "<IPython.core.display.Image object>"
      ]
     },
     "execution_count": 57,
     "metadata": {},
     "output_type": "execute_result"
    }
   ],
   "source": [
    "from keras.utils import plot_model\n",
    "\n",
    "plot_model(simple_lstm, to_file='simple_lstm_plot.png', show_shapes=True, show_layer_names=True)"
   ]
  },
  {
   "cell_type": "code",
   "execution_count": null,
   "metadata": {
    "colab": {
     "base_uri": "https://localhost:8080/"
    },
    "executionInfo": {
     "elapsed": 1071345,
     "status": "ok",
     "timestamp": 1724423633747,
     "user": {
      "displayName": "Rajat Agrawal",
      "userId": "02708895037054134028"
     },
     "user_tz": -330
    },
    "id": "PrmvNx8nleNA",
    "outputId": "5772b648-9ee7-43fa-e451-0ee6f8e5c45a"
   },
   "outputs": [
    {
     "name": "stdout",
     "output_type": "stream",
     "text": [
      "Epoch 1/5\n",
      "\u001b[1m338/338\u001b[0m \u001b[32m━━━━━━━━━━━━━━━━━━━━\u001b[0m\u001b[37m\u001b[0m \u001b[1m203s\u001b[0m 586ms/step - accuracy: 0.8665 - loss: 5.1829 - val_accuracy: 0.8877 - val_loss: 0.9630\n",
      "Epoch 2/5\n",
      "\u001b[1m338/338\u001b[0m \u001b[32m━━━━━━━━━━━━━━━━━━━━\u001b[0m\u001b[37m\u001b[0m \u001b[1m198s\u001b[0m 584ms/step - accuracy: 0.8873 - loss: 0.9686 - val_accuracy: 0.8877 - val_loss: 0.9534\n",
      "Epoch 3/5\n",
      "\u001b[1m338/338\u001b[0m \u001b[32m━━━━━━━━━━━━━━━━━━━━\u001b[0m\u001b[37m\u001b[0m \u001b[1m203s\u001b[0m 586ms/step - accuracy: 0.8864 - loss: 0.9620 - val_accuracy: 0.8881 - val_loss: 0.9520\n",
      "Epoch 4/5\n",
      "\u001b[1m338/338\u001b[0m \u001b[32m━━━━━━━━━━━━━━━━━━━━\u001b[0m\u001b[37m\u001b[0m \u001b[1m214s\u001b[0m 622ms/step - accuracy: 0.8866 - loss: 0.9571 - val_accuracy: 0.8884 - val_loss: 0.9511\n",
      "Epoch 5/5\n",
      "\u001b[1m338/338\u001b[0m \u001b[32m━━━━━━━━━━━━━━━━━━━━\u001b[0m\u001b[37m\u001b[0m \u001b[1m249s\u001b[0m 585ms/step - accuracy: 0.8874 - loss: 0.9491 - val_accuracy: 0.8885 - val_loss: 0.9514\n"
     ]
    }
   ],
   "source": [
    "# Train the model\n",
    "filename = 'mt_simple_lstm_model.keras'\n",
    "checkpoint = ModelCheckpoint(filename, monitor='val_accuracy', mode='max', save_best_only=True)   # Create checkpoint to save the model with best validation accuracy\n",
    "\n",
    "simple_lstm_history = simple_lstm.fit(X_train_reshaped, y_train_reshaped, validation_split=0.2, epochs=5, batch_size=64, callbacks=[checkpoint], verbose=1)"
   ]
  },
  {
   "cell_type": "code",
   "execution_count": null,
   "metadata": {
    "id": "iZ1ouXOwleNA"
   },
   "outputs": [],
   "source": [
    "# Get the training and validaiton loss\n",
    "loss = simple_lstm_history.history['loss']\n",
    "val_loss = simple_lstm_history.history['val_loss']\n",
    "\n",
    "# Get the training and validation accuracy\n",
    "acc = simple_lstm_history.history['accuracy']\n",
    "val_acc = simple_lstm_history.history['val_accuracy']"
   ]
  },
  {
   "cell_type": "code",
   "execution_count": null,
   "metadata": {
    "colab": {
     "base_uri": "https://localhost:8080/",
     "height": 472
    },
    "executionInfo": {
     "elapsed": 4,
     "status": "ok",
     "timestamp": 1724423979618,
     "user": {
      "displayName": "Rajat Agrawal",
      "userId": "02708895037054134028"
     },
     "user_tz": -330
    },
    "id": "-jpcFOvSleNA",
    "outputId": "a2c4ab8c-b90c-439a-f7c5-a05084652f0d"
   },
   "outputs": [
    {
     "data": {
      "image/png": "[encoded data removed]",
      "text/plain": [
       "<Figure size 640x480 with 1 Axes>"
      ]
     },
     "metadata": {},
     "output_type": "display_data"
    }
   ],
   "source": [
    "# Plot training and validation loss\n",
    "epochs = range(1, len(loss) + 1)\n",
    "plt.plot(epochs, loss, 'r', label='Training Loss')\n",
    "plt.plot(epochs, val_loss, 'g', label='Validation Loss')\n",
    "plt.title('Training vs Validation Loss')\n",
    "plt.xlabel('Epochs')\n",
    "plt.ylabel('Loss')\n",
    "plt.legend()\n",
    "plt.show()"
   ]
  },
  {
   "cell_type": "code",
   "execution_count": null,
   "metadata": {
    "colab": {
     "base_uri": "https://localhost:8080/",
     "height": 472
    },
    "executionInfo": {
     "elapsed": 938,
     "status": "ok",
     "timestamp": 1724423982670,
     "user": {
      "displayName": "Rajat Agrawal",
      "userId": "02708895037054134028"
     },
     "user_tz": -330
    },
    "id": "30MpchgEleNB",
    "outputId": "40f2a87e-be48-49f9-c2bb-6996d2e0b719"
   },
   "outputs": [
    {
     "data": {
      "image/png": "[encoded data removed]",
      "text/plain": [
       "<Figure size 640x480 with 1 Axes>"
      ]
     },
     "metadata": {},
     "output_type": "display_data"
    }
   ],
   "source": [
    "# Plot training and validation accuracy\n",
    "epochs = range(1, len(acc) + 1)\n",
    "plt.plot(epochs, acc, 'r', label='Training Accuracy')\n",
    "plt.plot(epochs, val_acc, 'g', label='Validation Accuracy')\n",
    "plt.title('Training vs Validation Accuracy')\n",
    "plt.xlabel('Epochs')\n",
    "plt.ylabel('Accuracy')\n",
    "plt.legend()\n",
    "plt.show()"
   ]
  },
  {
   "cell_type": "code",
   "execution_count": null,
   "metadata": {
    "colab": {
     "base_uri": "https://localhost:8080/"
    },
    "executionInfo": {
     "elapsed": 5,
     "status": "ok",
     "timestamp": 1724423984165,
     "user": {
      "displayName": "Rajat Agrawal",
      "userId": "02708895037054134028"
     },
     "user_tz": -330
    },
    "id": "8yP9DrDileNB",
    "outputId": "3a1c1b4a-fd2d-4010-e065-7fadf9c8ce09"
   },
   "outputs": [
    {
     "name": "stdout",
     "output_type": "stream",
     "text": [
      "Model output shape: (None, 193, 59642)\n"
     ]
    }
   ],
   "source": [
    "# Test the model\n",
    "simple_lstm_model = load_model('mt_simple_lstm_model.keras')\n",
    "\n",
    "print(\"Model output shape:\", simple_lstm_model.output_shape)"
   ]
  },
  {
   "cell_type": "code",
   "execution_count": 30,
   "metadata": {
    "colab": {
     "base_uri": "https://localhost:8080/"
    },
    "executionInfo": {
     "elapsed": 1158,
     "status": "ok",
     "timestamp": 1724596160198,
     "user": {
      "displayName": "Rajat Agrawal",
      "userId": "02708895037054134028"
     },
     "user_tz": -330
    },
    "id": "coo4HudEleNC",
    "outputId": "4d382f55-6c68-4542-d016-b405bd9fdef8"
   },
   "outputs": [
    {
     "name": "stdout",
     "output_type": "stream",
     "text": [
      "Test Loss: 0.8728080987930298\n",
      "Test Accuracy: 0.9013472199440002\n"
     ]
    }
   ],
   "source": [
    "# Evaluate the model on 100 samples from Test data\n",
    "loss, accuracy = simple_lstm_model.evaluate(X_test_reshaped[:100], y_test_reshaped[:100], verbose=0)\n",
    "print('Test Loss:', loss)\n",
    "print('Test Accuracy:', accuracy)"
   ]
  },
  {
   "cell_type": "markdown",
   "metadata": {
    "id": "iS6FJOJLmU6H"
   },
   "source": [
    "Simple LSTM model without Embeddings, results in a slightly higher accuracy of ~90%"
   ]
  },
  {
   "cell_type": "markdown",
   "metadata": {
    "id": "4IpBhozq1Zp_"
   },
   "source": [
    "## **Step 5: Interim Report**"
   ]
  },
  {
   "cell_type": "markdown",
   "metadata": {
    "id": "mQzdCwHPNuD0"
   },
   "source": [
    "***Project Interim Report_Machine Translation_NLP2_Group11***"
   ]
  }
 ],
 "metadata": {
  "accelerator": "GPU",
  "colab": {
   "gpuType": "T4",
   "provenance": []
  },
  "kernelspec": {
   "display_name": "Python 3 (ipykernel)",
   "language": "python",
   "name": "python3"
  },
  "language_info": {
   "codemirror_mode": {
    "name": "ipython",
    "version": 3
   },
   "file_extension": ".py",
   "mimetype": "text/x-python",
   "name": "python",
   "nbconvert_exporter": "python",
   "pygments_lexer": "ipython3",
   "version": "3.11.4"
  }
 },
 "nbformat": 4,
 "nbformat_minor": 1
}
