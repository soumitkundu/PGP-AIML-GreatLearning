{
 "cells": [
  {
   "cell_type": "code",
   "execution_count": 18,
   "id": "3723d0e2",
   "metadata": {},
   "outputs": [],
   "source": [
    "# Importing required libraries to read and manipulation data\n",
    "import numpy as np\n",
    "import pandas as pd"
   ]
  },
  {
   "cell_type": "markdown",
   "id": "4d3217ac",
   "metadata": {},
   "source": [
    "### Question 1.A:"
   ]
  },
  {
   "cell_type": "code",
   "execution_count": 19,
   "id": "543a5447",
   "metadata": {},
   "outputs": [
    {
     "data": {
      "text/plain": [
       "(1567, 592)"
      ]
     },
     "execution_count": 19,
     "metadata": {},
     "output_type": "execute_result"
    }
   ],
   "source": [
    "# Import ‘signal-data.csv’ as DataFrame\n",
    "signal_df = pd.read_csv(\"signal-data.csv\")\n",
    "signal_df.shape"
   ]
  },
  {
   "cell_type": "code",
   "execution_count": 20,
   "id": "7dcaea14",
   "metadata": {},
   "outputs": [
    {
     "name": "stdout",
     "output_type": "stream",
     "text": [
      "<class 'pandas.core.frame.DataFrame'>\n",
      "RangeIndex: 1567 entries, 0 to 1566\n",
      "Columns: 592 entries, Time to Pass/Fail\n",
      "dtypes: float64(590), int64(1), object(1)\n",
      "memory usage: 7.1+ MB\n"
     ]
    }
   ],
   "source": [
    "signal_df.info()"
   ]
  },
  {
   "cell_type": "code",
   "execution_count": 21,
   "id": "f3456a4b",
   "metadata": {
    "scrolled": true
   },
   "outputs": [
    {
     "data": {
      "text/html": [
       "<div>\n",
       "<style scoped>\n",
       "    .dataframe tbody tr th:only-of-type {\n",
       "        vertical-align: middle;\n",
       "    }\n",
       "\n",
       "    .dataframe tbody tr th {\n",
       "        vertical-align: top;\n",
       "    }\n",
       "\n",
       "    .dataframe thead th {\n",
       "        text-align: right;\n",
       "    }\n",
       "</style>\n",
       "<table border=\"1\" class=\"dataframe\">\n",
       "  <thead>\n",
       "    <tr style=\"text-align: right;\">\n",
       "      <th></th>\n",
       "      <th>Time</th>\n",
       "      <th>0</th>\n",
       "      <th>1</th>\n",
       "      <th>2</th>\n",
       "      <th>3</th>\n",
       "      <th>4</th>\n",
       "      <th>5</th>\n",
       "      <th>6</th>\n",
       "      <th>7</th>\n",
       "      <th>8</th>\n",
       "      <th>...</th>\n",
       "      <th>581</th>\n",
       "      <th>582</th>\n",
       "      <th>583</th>\n",
       "      <th>584</th>\n",
       "      <th>585</th>\n",
       "      <th>586</th>\n",
       "      <th>587</th>\n",
       "      <th>588</th>\n",
       "      <th>589</th>\n",
       "      <th>Pass/Fail</th>\n",
       "    </tr>\n",
       "  </thead>\n",
       "  <tbody>\n",
       "    <tr>\n",
       "      <th>0</th>\n",
       "      <td>2008-07-19 11:55:00</td>\n",
       "      <td>3030.93</td>\n",
       "      <td>2564.00</td>\n",
       "      <td>2187.7333</td>\n",
       "      <td>1411.1265</td>\n",
       "      <td>1.3602</td>\n",
       "      <td>100.0</td>\n",
       "      <td>97.6133</td>\n",
       "      <td>0.1242</td>\n",
       "      <td>1.5005</td>\n",
       "      <td>...</td>\n",
       "      <td>NaN</td>\n",
       "      <td>0.5005</td>\n",
       "      <td>0.0118</td>\n",
       "      <td>0.0035</td>\n",
       "      <td>2.3630</td>\n",
       "      <td>NaN</td>\n",
       "      <td>NaN</td>\n",
       "      <td>NaN</td>\n",
       "      <td>NaN</td>\n",
       "      <td>-1</td>\n",
       "    </tr>\n",
       "    <tr>\n",
       "      <th>1</th>\n",
       "      <td>2008-07-19 12:32:00</td>\n",
       "      <td>3095.78</td>\n",
       "      <td>2465.14</td>\n",
       "      <td>2230.4222</td>\n",
       "      <td>1463.6606</td>\n",
       "      <td>0.8294</td>\n",
       "      <td>100.0</td>\n",
       "      <td>102.3433</td>\n",
       "      <td>0.1247</td>\n",
       "      <td>1.4966</td>\n",
       "      <td>...</td>\n",
       "      <td>208.2045</td>\n",
       "      <td>0.5019</td>\n",
       "      <td>0.0223</td>\n",
       "      <td>0.0055</td>\n",
       "      <td>4.4447</td>\n",
       "      <td>0.0096</td>\n",
       "      <td>0.0201</td>\n",
       "      <td>0.0060</td>\n",
       "      <td>208.2045</td>\n",
       "      <td>-1</td>\n",
       "    </tr>\n",
       "    <tr>\n",
       "      <th>2</th>\n",
       "      <td>2008-07-19 13:17:00</td>\n",
       "      <td>2932.61</td>\n",
       "      <td>2559.94</td>\n",
       "      <td>2186.4111</td>\n",
       "      <td>1698.0172</td>\n",
       "      <td>1.5102</td>\n",
       "      <td>100.0</td>\n",
       "      <td>95.4878</td>\n",
       "      <td>0.1241</td>\n",
       "      <td>1.4436</td>\n",
       "      <td>...</td>\n",
       "      <td>82.8602</td>\n",
       "      <td>0.4958</td>\n",
       "      <td>0.0157</td>\n",
       "      <td>0.0039</td>\n",
       "      <td>3.1745</td>\n",
       "      <td>0.0584</td>\n",
       "      <td>0.0484</td>\n",
       "      <td>0.0148</td>\n",
       "      <td>82.8602</td>\n",
       "      <td>1</td>\n",
       "    </tr>\n",
       "    <tr>\n",
       "      <th>3</th>\n",
       "      <td>2008-07-19 14:43:00</td>\n",
       "      <td>2988.72</td>\n",
       "      <td>2479.90</td>\n",
       "      <td>2199.0333</td>\n",
       "      <td>909.7926</td>\n",
       "      <td>1.3204</td>\n",
       "      <td>100.0</td>\n",
       "      <td>104.2367</td>\n",
       "      <td>0.1217</td>\n",
       "      <td>1.4882</td>\n",
       "      <td>...</td>\n",
       "      <td>73.8432</td>\n",
       "      <td>0.4990</td>\n",
       "      <td>0.0103</td>\n",
       "      <td>0.0025</td>\n",
       "      <td>2.0544</td>\n",
       "      <td>0.0202</td>\n",
       "      <td>0.0149</td>\n",
       "      <td>0.0044</td>\n",
       "      <td>73.8432</td>\n",
       "      <td>-1</td>\n",
       "    </tr>\n",
       "    <tr>\n",
       "      <th>4</th>\n",
       "      <td>2008-07-19 15:22:00</td>\n",
       "      <td>3032.24</td>\n",
       "      <td>2502.87</td>\n",
       "      <td>2233.3667</td>\n",
       "      <td>1326.5200</td>\n",
       "      <td>1.5334</td>\n",
       "      <td>100.0</td>\n",
       "      <td>100.3967</td>\n",
       "      <td>0.1235</td>\n",
       "      <td>1.5031</td>\n",
       "      <td>...</td>\n",
       "      <td>NaN</td>\n",
       "      <td>0.4800</td>\n",
       "      <td>0.4766</td>\n",
       "      <td>0.1045</td>\n",
       "      <td>99.3032</td>\n",
       "      <td>0.0202</td>\n",
       "      <td>0.0149</td>\n",
       "      <td>0.0044</td>\n",
       "      <td>73.8432</td>\n",
       "      <td>-1</td>\n",
       "    </tr>\n",
       "  </tbody>\n",
       "</table>\n",
       "<p>5 rows × 592 columns</p>\n",
       "</div>"
      ],
      "text/plain": [
       "                  Time        0        1          2          3       4      5  \\\n",
       "0  2008-07-19 11:55:00  3030.93  2564.00  2187.7333  1411.1265  1.3602  100.0   \n",
       "1  2008-07-19 12:32:00  3095.78  2465.14  2230.4222  1463.6606  0.8294  100.0   \n",
       "2  2008-07-19 13:17:00  2932.61  2559.94  2186.4111  1698.0172  1.5102  100.0   \n",
       "3  2008-07-19 14:43:00  2988.72  2479.90  2199.0333   909.7926  1.3204  100.0   \n",
       "4  2008-07-19 15:22:00  3032.24  2502.87  2233.3667  1326.5200  1.5334  100.0   \n",
       "\n",
       "          6       7       8  ...       581     582     583     584      585  \\\n",
       "0   97.6133  0.1242  1.5005  ...       NaN  0.5005  0.0118  0.0035   2.3630   \n",
       "1  102.3433  0.1247  1.4966  ...  208.2045  0.5019  0.0223  0.0055   4.4447   \n",
       "2   95.4878  0.1241  1.4436  ...   82.8602  0.4958  0.0157  0.0039   3.1745   \n",
       "3  104.2367  0.1217  1.4882  ...   73.8432  0.4990  0.0103  0.0025   2.0544   \n",
       "4  100.3967  0.1235  1.5031  ...       NaN  0.4800  0.4766  0.1045  99.3032   \n",
       "\n",
       "      586     587     588       589  Pass/Fail  \n",
       "0     NaN     NaN     NaN       NaN         -1  \n",
       "1  0.0096  0.0201  0.0060  208.2045         -1  \n",
       "2  0.0584  0.0484  0.0148   82.8602          1  \n",
       "3  0.0202  0.0149  0.0044   73.8432         -1  \n",
       "4  0.0202  0.0149  0.0044   73.8432         -1  \n",
       "\n",
       "[5 rows x 592 columns]"
      ]
     },
     "execution_count": 21,
     "metadata": {},
     "output_type": "execute_result"
    }
   ],
   "source": [
    "signal_df.head()"
   ]
  },
  {
   "cell_type": "code",
   "execution_count": 22,
   "id": "ea072727",
   "metadata": {},
   "outputs": [
    {
     "data": {
      "text/html": [
       "<div>\n",
       "<style scoped>\n",
       "    .dataframe tbody tr th:only-of-type {\n",
       "        vertical-align: middle;\n",
       "    }\n",
       "\n",
       "    .dataframe tbody tr th {\n",
       "        vertical-align: top;\n",
       "    }\n",
       "\n",
       "    .dataframe thead th {\n",
       "        text-align: right;\n",
       "    }\n",
       "</style>\n",
       "<table border=\"1\" class=\"dataframe\">\n",
       "  <thead>\n",
       "    <tr style=\"text-align: right;\">\n",
       "      <th></th>\n",
       "      <th>Time</th>\n",
       "      <th>0</th>\n",
       "      <th>1</th>\n",
       "      <th>2</th>\n",
       "      <th>3</th>\n",
       "      <th>4</th>\n",
       "      <th>5</th>\n",
       "      <th>6</th>\n",
       "      <th>7</th>\n",
       "      <th>8</th>\n",
       "      <th>...</th>\n",
       "      <th>581</th>\n",
       "      <th>582</th>\n",
       "      <th>583</th>\n",
       "      <th>584</th>\n",
       "      <th>585</th>\n",
       "      <th>586</th>\n",
       "      <th>587</th>\n",
       "      <th>588</th>\n",
       "      <th>589</th>\n",
       "      <th>Pass/Fail</th>\n",
       "    </tr>\n",
       "  </thead>\n",
       "  <tbody>\n",
       "    <tr>\n",
       "      <th>1562</th>\n",
       "      <td>2008-10-16 15:13:00</td>\n",
       "      <td>2899.41</td>\n",
       "      <td>2464.36</td>\n",
       "      <td>2179.7333</td>\n",
       "      <td>3085.3781</td>\n",
       "      <td>1.4843</td>\n",
       "      <td>100.0</td>\n",
       "      <td>82.2467</td>\n",
       "      <td>0.1248</td>\n",
       "      <td>1.3424</td>\n",
       "      <td>...</td>\n",
       "      <td>203.1720</td>\n",
       "      <td>0.4988</td>\n",
       "      <td>0.0143</td>\n",
       "      <td>0.0039</td>\n",
       "      <td>2.8669</td>\n",
       "      <td>0.0068</td>\n",
       "      <td>0.0138</td>\n",
       "      <td>0.0047</td>\n",
       "      <td>203.1720</td>\n",
       "      <td>-1</td>\n",
       "    </tr>\n",
       "    <tr>\n",
       "      <th>1563</th>\n",
       "      <td>2008-10-16 20:49:00</td>\n",
       "      <td>3052.31</td>\n",
       "      <td>2522.55</td>\n",
       "      <td>2198.5667</td>\n",
       "      <td>1124.6595</td>\n",
       "      <td>0.8763</td>\n",
       "      <td>100.0</td>\n",
       "      <td>98.4689</td>\n",
       "      <td>0.1205</td>\n",
       "      <td>1.4333</td>\n",
       "      <td>...</td>\n",
       "      <td>NaN</td>\n",
       "      <td>0.4975</td>\n",
       "      <td>0.0131</td>\n",
       "      <td>0.0036</td>\n",
       "      <td>2.6238</td>\n",
       "      <td>0.0068</td>\n",
       "      <td>0.0138</td>\n",
       "      <td>0.0047</td>\n",
       "      <td>203.1720</td>\n",
       "      <td>-1</td>\n",
       "    </tr>\n",
       "    <tr>\n",
       "      <th>1564</th>\n",
       "      <td>2008-10-17 05:26:00</td>\n",
       "      <td>2978.81</td>\n",
       "      <td>2379.78</td>\n",
       "      <td>2206.3000</td>\n",
       "      <td>1110.4967</td>\n",
       "      <td>0.8236</td>\n",
       "      <td>100.0</td>\n",
       "      <td>99.4122</td>\n",
       "      <td>0.1208</td>\n",
       "      <td>NaN</td>\n",
       "      <td>...</td>\n",
       "      <td>43.5231</td>\n",
       "      <td>0.4987</td>\n",
       "      <td>0.0153</td>\n",
       "      <td>0.0041</td>\n",
       "      <td>3.0590</td>\n",
       "      <td>0.0197</td>\n",
       "      <td>0.0086</td>\n",
       "      <td>0.0025</td>\n",
       "      <td>43.5231</td>\n",
       "      <td>-1</td>\n",
       "    </tr>\n",
       "    <tr>\n",
       "      <th>1565</th>\n",
       "      <td>2008-10-17 06:01:00</td>\n",
       "      <td>2894.92</td>\n",
       "      <td>2532.01</td>\n",
       "      <td>2177.0333</td>\n",
       "      <td>1183.7287</td>\n",
       "      <td>1.5726</td>\n",
       "      <td>100.0</td>\n",
       "      <td>98.7978</td>\n",
       "      <td>0.1213</td>\n",
       "      <td>1.4622</td>\n",
       "      <td>...</td>\n",
       "      <td>93.4941</td>\n",
       "      <td>0.5004</td>\n",
       "      <td>0.0178</td>\n",
       "      <td>0.0038</td>\n",
       "      <td>3.5662</td>\n",
       "      <td>0.0262</td>\n",
       "      <td>0.0245</td>\n",
       "      <td>0.0075</td>\n",
       "      <td>93.4941</td>\n",
       "      <td>-1</td>\n",
       "    </tr>\n",
       "    <tr>\n",
       "      <th>1566</th>\n",
       "      <td>2008-10-17 06:07:00</td>\n",
       "      <td>2944.92</td>\n",
       "      <td>2450.76</td>\n",
       "      <td>2195.4444</td>\n",
       "      <td>2914.1792</td>\n",
       "      <td>1.5978</td>\n",
       "      <td>100.0</td>\n",
       "      <td>85.1011</td>\n",
       "      <td>0.1235</td>\n",
       "      <td>NaN</td>\n",
       "      <td>...</td>\n",
       "      <td>137.7844</td>\n",
       "      <td>0.4987</td>\n",
       "      <td>0.0181</td>\n",
       "      <td>0.0040</td>\n",
       "      <td>3.6275</td>\n",
       "      <td>0.0117</td>\n",
       "      <td>0.0162</td>\n",
       "      <td>0.0045</td>\n",
       "      <td>137.7844</td>\n",
       "      <td>-1</td>\n",
       "    </tr>\n",
       "  </tbody>\n",
       "</table>\n",
       "<p>5 rows × 592 columns</p>\n",
       "</div>"
      ],
      "text/plain": [
       "                     Time        0        1          2          3       4  \\\n",
       "1562  2008-10-16 15:13:00  2899.41  2464.36  2179.7333  3085.3781  1.4843   \n",
       "1563  2008-10-16 20:49:00  3052.31  2522.55  2198.5667  1124.6595  0.8763   \n",
       "1564  2008-10-17 05:26:00  2978.81  2379.78  2206.3000  1110.4967  0.8236   \n",
       "1565  2008-10-17 06:01:00  2894.92  2532.01  2177.0333  1183.7287  1.5726   \n",
       "1566  2008-10-17 06:07:00  2944.92  2450.76  2195.4444  2914.1792  1.5978   \n",
       "\n",
       "          5        6       7       8  ...       581     582     583     584  \\\n",
       "1562  100.0  82.2467  0.1248  1.3424  ...  203.1720  0.4988  0.0143  0.0039   \n",
       "1563  100.0  98.4689  0.1205  1.4333  ...       NaN  0.4975  0.0131  0.0036   \n",
       "1564  100.0  99.4122  0.1208     NaN  ...   43.5231  0.4987  0.0153  0.0041   \n",
       "1565  100.0  98.7978  0.1213  1.4622  ...   93.4941  0.5004  0.0178  0.0038   \n",
       "1566  100.0  85.1011  0.1235     NaN  ...  137.7844  0.4987  0.0181  0.0040   \n",
       "\n",
       "         585     586     587     588       589  Pass/Fail  \n",
       "1562  2.8669  0.0068  0.0138  0.0047  203.1720         -1  \n",
       "1563  2.6238  0.0068  0.0138  0.0047  203.1720         -1  \n",
       "1564  3.0590  0.0197  0.0086  0.0025   43.5231         -1  \n",
       "1565  3.5662  0.0262  0.0245  0.0075   93.4941         -1  \n",
       "1566  3.6275  0.0117  0.0162  0.0045  137.7844         -1  \n",
       "\n",
       "[5 rows x 592 columns]"
      ]
     },
     "execution_count": 22,
     "metadata": {},
     "output_type": "execute_result"
    }
   ],
   "source": [
    "signal_df.tail()"
   ]
  },
  {
   "cell_type": "markdown",
   "id": "a83ebf30",
   "metadata": {},
   "source": [
    "### Question 1.B:"
   ]
  },
  {
   "cell_type": "code",
   "execution_count": 23,
   "id": "bfcbf802",
   "metadata": {},
   "outputs": [
    {
     "data": {
      "text/html": [
       "<div>\n",
       "<style scoped>\n",
       "    .dataframe tbody tr th:only-of-type {\n",
       "        vertical-align: middle;\n",
       "    }\n",
       "\n",
       "    .dataframe tbody tr th {\n",
       "        vertical-align: top;\n",
       "    }\n",
       "\n",
       "    .dataframe thead th {\n",
       "        text-align: right;\n",
       "    }\n",
       "</style>\n",
       "<table border=\"1\" class=\"dataframe\">\n",
       "  <thead>\n",
       "    <tr style=\"text-align: right;\">\n",
       "      <th></th>\n",
       "      <th>0</th>\n",
       "      <th>1</th>\n",
       "      <th>2</th>\n",
       "      <th>3</th>\n",
       "      <th>4</th>\n",
       "      <th>5</th>\n",
       "      <th>6</th>\n",
       "      <th>7</th>\n",
       "      <th>8</th>\n",
       "      <th>9</th>\n",
       "      <th>...</th>\n",
       "      <th>581</th>\n",
       "      <th>582</th>\n",
       "      <th>583</th>\n",
       "      <th>584</th>\n",
       "      <th>585</th>\n",
       "      <th>586</th>\n",
       "      <th>587</th>\n",
       "      <th>588</th>\n",
       "      <th>589</th>\n",
       "      <th>Pass/Fail</th>\n",
       "    </tr>\n",
       "  </thead>\n",
       "  <tbody>\n",
       "    <tr>\n",
       "      <th>min</th>\n",
       "      <td>2743.24</td>\n",
       "      <td>2158.7500</td>\n",
       "      <td>2060.6600</td>\n",
       "      <td>0.0000</td>\n",
       "      <td>0.6815</td>\n",
       "      <td>100.0</td>\n",
       "      <td>82.1311</td>\n",
       "      <td>0.0000</td>\n",
       "      <td>1.1910</td>\n",
       "      <td>-0.0534</td>\n",
       "      <td>...</td>\n",
       "      <td>0.00000</td>\n",
       "      <td>0.477800</td>\n",
       "      <td>0.0060</td>\n",
       "      <td>0.0017</td>\n",
       "      <td>1.197500</td>\n",
       "      <td>-0.016900</td>\n",
       "      <td>0.0032</td>\n",
       "      <td>0.0010</td>\n",
       "      <td>0.0000</td>\n",
       "      <td>-1.0</td>\n",
       "    </tr>\n",
       "    <tr>\n",
       "      <th>25%</th>\n",
       "      <td>2966.26</td>\n",
       "      <td>2452.2475</td>\n",
       "      <td>2181.0444</td>\n",
       "      <td>1081.8758</td>\n",
       "      <td>1.0177</td>\n",
       "      <td>100.0</td>\n",
       "      <td>97.9200</td>\n",
       "      <td>0.1211</td>\n",
       "      <td>1.4112</td>\n",
       "      <td>-0.0108</td>\n",
       "      <td>...</td>\n",
       "      <td>46.18490</td>\n",
       "      <td>0.497900</td>\n",
       "      <td>0.0116</td>\n",
       "      <td>0.0031</td>\n",
       "      <td>2.306500</td>\n",
       "      <td>0.013425</td>\n",
       "      <td>0.0106</td>\n",
       "      <td>0.0033</td>\n",
       "      <td>44.3686</td>\n",
       "      <td>-1.0</td>\n",
       "    </tr>\n",
       "    <tr>\n",
       "      <th>50%</th>\n",
       "      <td>3011.49</td>\n",
       "      <td>2499.4050</td>\n",
       "      <td>2201.0667</td>\n",
       "      <td>1285.2144</td>\n",
       "      <td>1.3168</td>\n",
       "      <td>100.0</td>\n",
       "      <td>101.5122</td>\n",
       "      <td>0.1224</td>\n",
       "      <td>1.4616</td>\n",
       "      <td>-0.0013</td>\n",
       "      <td>...</td>\n",
       "      <td>72.28890</td>\n",
       "      <td>0.500200</td>\n",
       "      <td>0.0138</td>\n",
       "      <td>0.0036</td>\n",
       "      <td>2.757650</td>\n",
       "      <td>0.020500</td>\n",
       "      <td>0.0148</td>\n",
       "      <td>0.0046</td>\n",
       "      <td>71.9005</td>\n",
       "      <td>-1.0</td>\n",
       "    </tr>\n",
       "    <tr>\n",
       "      <th>75%</th>\n",
       "      <td>3056.65</td>\n",
       "      <td>2538.8225</td>\n",
       "      <td>2218.0555</td>\n",
       "      <td>1591.2235</td>\n",
       "      <td>1.5257</td>\n",
       "      <td>100.0</td>\n",
       "      <td>104.5867</td>\n",
       "      <td>0.1238</td>\n",
       "      <td>1.5169</td>\n",
       "      <td>0.0084</td>\n",
       "      <td>...</td>\n",
       "      <td>116.53915</td>\n",
       "      <td>0.502375</td>\n",
       "      <td>0.0165</td>\n",
       "      <td>0.0041</td>\n",
       "      <td>3.295175</td>\n",
       "      <td>0.027600</td>\n",
       "      <td>0.0203</td>\n",
       "      <td>0.0064</td>\n",
       "      <td>114.7497</td>\n",
       "      <td>-1.0</td>\n",
       "    </tr>\n",
       "    <tr>\n",
       "      <th>max</th>\n",
       "      <td>3356.35</td>\n",
       "      <td>2846.4400</td>\n",
       "      <td>2315.2667</td>\n",
       "      <td>3715.0417</td>\n",
       "      <td>1114.5366</td>\n",
       "      <td>100.0</td>\n",
       "      <td>129.2522</td>\n",
       "      <td>0.1286</td>\n",
       "      <td>1.6564</td>\n",
       "      <td>0.0749</td>\n",
       "      <td>...</td>\n",
       "      <td>737.30480</td>\n",
       "      <td>0.509800</td>\n",
       "      <td>0.4766</td>\n",
       "      <td>0.1045</td>\n",
       "      <td>99.303200</td>\n",
       "      <td>0.102800</td>\n",
       "      <td>0.0799</td>\n",
       "      <td>0.0286</td>\n",
       "      <td>737.3048</td>\n",
       "      <td>1.0</td>\n",
       "    </tr>\n",
       "  </tbody>\n",
       "</table>\n",
       "<p>5 rows × 591 columns</p>\n",
       "</div>"
      ],
      "text/plain": [
       "           0          1          2          3          4      5         6  \\\n",
       "min  2743.24  2158.7500  2060.6600     0.0000     0.6815  100.0   82.1311   \n",
       "25%  2966.26  2452.2475  2181.0444  1081.8758     1.0177  100.0   97.9200   \n",
       "50%  3011.49  2499.4050  2201.0667  1285.2144     1.3168  100.0  101.5122   \n",
       "75%  3056.65  2538.8225  2218.0555  1591.2235     1.5257  100.0  104.5867   \n",
       "max  3356.35  2846.4400  2315.2667  3715.0417  1114.5366  100.0  129.2522   \n",
       "\n",
       "          7       8       9  ...        581       582     583     584  \\\n",
       "min  0.0000  1.1910 -0.0534  ...    0.00000  0.477800  0.0060  0.0017   \n",
       "25%  0.1211  1.4112 -0.0108  ...   46.18490  0.497900  0.0116  0.0031   \n",
       "50%  0.1224  1.4616 -0.0013  ...   72.28890  0.500200  0.0138  0.0036   \n",
       "75%  0.1238  1.5169  0.0084  ...  116.53915  0.502375  0.0165  0.0041   \n",
       "max  0.1286  1.6564  0.0749  ...  737.30480  0.509800  0.4766  0.1045   \n",
       "\n",
       "           585       586     587     588       589  Pass/Fail  \n",
       "min   1.197500 -0.016900  0.0032  0.0010    0.0000       -1.0  \n",
       "25%   2.306500  0.013425  0.0106  0.0033   44.3686       -1.0  \n",
       "50%   2.757650  0.020500  0.0148  0.0046   71.9005       -1.0  \n",
       "75%   3.295175  0.027600  0.0203  0.0064  114.7497       -1.0  \n",
       "max  99.303200  0.102800  0.0799  0.0286  737.3048        1.0  \n",
       "\n",
       "[5 rows x 591 columns]"
      ]
     },
     "execution_count": 23,
     "metadata": {},
     "output_type": "execute_result"
    }
   ],
   "source": [
    "# Print 5 point summary and share at least 2 observations\n",
    "signal_df.describe().loc[['min', '25%', '50%', '75%', 'max']]"
   ]
  },
  {
   "cell_type": "code",
   "execution_count": 64,
   "id": "fc5d0635",
   "metadata": {},
   "outputs": [
    {
     "data": {
      "text/plain": [
       "-1    1463\n",
       " 1     104\n",
       "Name: Pass/Fail, dtype: int64"
      ]
     },
     "execution_count": 64,
     "metadata": {},
     "output_type": "execute_result"
    }
   ],
   "source": [
    "pd.value_counts(signal_df['Pass/Fail'])"
   ]
  },
  {
   "cell_type": "markdown",
   "id": "6e8eda1c",
   "metadata": {},
   "source": [
    "#### Insights\n",
    "- There are 1567 rows and 592 columns in total, too many number of features available in the data.\n",
    "- The target column is Pass/Fail, -1 = Pass and 1 = Fail. We can see imbalanced distribution there.\n",
    "- The column Time contains timestamp value, object data type. Need to check further if any other object type is exists or not.\n",
    "- Seems like all other columns named as number and contains numeric values.\n",
    "- The column 5 contains only single value 100 in all rows.\n",
    "- Max value for column 4 is too high from average or 3rd quartile, indicates highly right schewed or outliers. Similarly some other columns like 3, 581, 583, 584, 585, 589 are also looks like highly right schewed.\n",
    "- The colums 0, 1, 2, 6, 8, 582 looks contains balanced data."
   ]
  },
  {
   "cell_type": "code",
   "execution_count": 24,
   "id": "71560355",
   "metadata": {},
   "outputs": [
    {
     "data": {
      "text/plain": [
       "Time          0\n",
       "0             6\n",
       "1             7\n",
       "2            14\n",
       "3            14\n",
       "             ..\n",
       "586           1\n",
       "587           1\n",
       "588           1\n",
       "589           1\n",
       "Pass/Fail     0\n",
       "Length: 592, dtype: int64"
      ]
     },
     "execution_count": 24,
     "metadata": {},
     "output_type": "execute_result"
    }
   ],
   "source": [
    "signal_df.isnull().sum()"
   ]
  },
  {
   "cell_type": "markdown",
   "id": "818eb86c",
   "metadata": {},
   "source": [
    "### Question 2.A:"
   ]
  },
  {
   "cell_type": "code",
   "execution_count": 25,
   "id": "5f79f14d",
   "metadata": {},
   "outputs": [
    {
     "data": {
      "text/plain": [
       "(1567, 560)"
      ]
     },
     "execution_count": 25,
     "metadata": {},
     "output_type": "execute_result"
    }
   ],
   "source": [
    "# Write a for loop which will remove all the features with 20%+ Null values and impute rest with mean of the feature\n",
    "\n",
    "null20_cols = [col_name for col_name in signal_df.columns if signal_df[col_name].isnull().sum() / signal_df.shape[0] > 0.2]\n",
    "\n",
    "# taking a copy of original DataFrame before removing features\n",
    "signal_df_clean = signal_df.copy()\n",
    "\n",
    "signal_df_clean.drop(null20_cols, axis = 1, inplace = True)\n",
    "signal_df_clean.shape"
   ]
  },
  {
   "cell_type": "markdown",
   "id": "37828a92",
   "metadata": {},
   "source": [
    "- Removed 32 features with more than 20% null values"
   ]
  },
  {
   "cell_type": "code",
   "execution_count": 26,
   "id": "6e0f3e2f",
   "metadata": {},
   "outputs": [
    {
     "data": {
      "text/plain": [
       "Time         0\n",
       "0            0\n",
       "1            0\n",
       "2            0\n",
       "3            0\n",
       "            ..\n",
       "586          0\n",
       "587          0\n",
       "588          0\n",
       "589          0\n",
       "Pass/Fail    0\n",
       "Length: 560, dtype: int64"
      ]
     },
     "execution_count": 26,
     "metadata": {},
     "output_type": "execute_result"
    }
   ],
   "source": [
    "# impute rest with mean of the feature\n",
    "signal_df_clean.fillna(value = signal_df_clean.mean(numeric_only = True), inplace = True)\n",
    "signal_df_clean.isnull().sum()"
   ]
  },
  {
   "cell_type": "markdown",
   "id": "60786984",
   "metadata": {},
   "source": [
    "### Question 2.B:"
   ]
  },
  {
   "cell_type": "code",
   "execution_count": 27,
   "id": "6799508f",
   "metadata": {},
   "outputs": [
    {
     "data": {
      "text/plain": [
       "(1567, 444)"
      ]
     },
     "execution_count": 27,
     "metadata": {},
     "output_type": "execute_result"
    }
   ],
   "source": [
    "# Identify and drop the features which are having same value for all the rows\n",
    "\n",
    "# lets get the features which having only 1 unique value\n",
    "unique_cols = [col_name for col_name in signal_df_clean.columns if signal_df_clean[col_name].nunique() == 1]\n",
    "signal_df_clean.drop(unique_cols, axis = 1, inplace = True)\n",
    "signal_df_clean.shape"
   ]
  },
  {
   "cell_type": "markdown",
   "id": "8a20f324",
   "metadata": {},
   "source": [
    "- Removed 116 features, had same value in all the rows"
   ]
  },
  {
   "cell_type": "markdown",
   "id": "6768fec0",
   "metadata": {},
   "source": [
    "### Question 2.C:"
   ]
  },
  {
   "cell_type": "code",
   "execution_count": 28,
   "id": "36d22f7d",
   "metadata": {},
   "outputs": [
    {
     "data": {
      "text/html": [
       "<div>\n",
       "<style scoped>\n",
       "    .dataframe tbody tr th:only-of-type {\n",
       "        vertical-align: middle;\n",
       "    }\n",
       "\n",
       "    .dataframe tbody tr th {\n",
       "        vertical-align: top;\n",
       "    }\n",
       "\n",
       "    .dataframe thead th {\n",
       "        text-align: right;\n",
       "    }\n",
       "</style>\n",
       "<table border=\"1\" class=\"dataframe\">\n",
       "  <thead>\n",
       "    <tr style=\"text-align: right;\">\n",
       "      <th></th>\n",
       "      <th>Time</th>\n",
       "    </tr>\n",
       "  </thead>\n",
       "  <tbody>\n",
       "    <tr>\n",
       "      <th>count</th>\n",
       "      <td>1567</td>\n",
       "    </tr>\n",
       "    <tr>\n",
       "      <th>unique</th>\n",
       "      <td>1534</td>\n",
       "    </tr>\n",
       "    <tr>\n",
       "      <th>top</th>\n",
       "      <td>2008-10-15 01:52:00</td>\n",
       "    </tr>\n",
       "    <tr>\n",
       "      <th>freq</th>\n",
       "      <td>3</td>\n",
       "    </tr>\n",
       "  </tbody>\n",
       "</table>\n",
       "</div>"
      ],
      "text/plain": [
       "                       Time\n",
       "count                  1567\n",
       "unique                 1534\n",
       "top     2008-10-15 01:52:00\n",
       "freq                      3"
      ]
     },
     "execution_count": 28,
     "metadata": {},
     "output_type": "execute_result"
    }
   ],
   "source": [
    "# Drop other features if required using relevant functional knowledge. Clearly justify the same\n",
    "\n",
    "# Lets check what are the object datatype there in the dataframe\n",
    "signal_df_clean.describe(include='object')"
   ]
  },
  {
   "cell_type": "code",
   "execution_count": 29,
   "id": "e1f35191",
   "metadata": {},
   "outputs": [
    {
     "data": {
      "text/plain": [
       "0"
      ]
     },
     "execution_count": 29,
     "metadata": {},
     "output_type": "execute_result"
    }
   ],
   "source": [
    "# Lets check if any duplicate rows exists in the data\n",
    "signal_df_clean.duplicated().sum()"
   ]
  },
  {
   "cell_type": "markdown",
   "id": "68dde6b7",
   "metadata": {},
   "source": [
    "- No duplicate row exists"
   ]
  },
  {
   "cell_type": "code",
   "execution_count": 30,
   "id": "a9a4af41",
   "metadata": {},
   "outputs": [],
   "source": [
    "# Okay only the time column is object datatype and almost all rows having unique values. \n",
    "# So we don't require this feature for our model building any more\n",
    "signal_df_clean = signal_df_clean.drop('Time', axis = 1)"
   ]
  },
  {
   "cell_type": "code",
   "execution_count": 60,
   "id": "527a5ff0",
   "metadata": {},
   "outputs": [
    {
     "data": {
      "text/plain": [
       "(1567, 270)"
      ]
     },
     "execution_count": 60,
     "metadata": {},
     "output_type": "execute_result"
    }
   ],
   "source": [
    "# Lets check correlation matrix and drop one from each of the highly correlated features\n",
    "signal_df_corr = signal_df_clean.corr().abs() # converting the negative values as positive\n",
    "signal_df_mask = np.triu(np.ones_like(signal_df_corr, dtype = bool)) # taking the upper triangle as true\n",
    "signal_df_corr_mask = signal_df_corr.mask(signal_df_mask)\n",
    "# filtering the highly correlated features where correlation is more than 0.95 to drop\n",
    "signal_cols_to_drop = [col for col in signal_df_corr_mask.columns if any(signal_df_corr_mask[col] > 0.95)]\n",
    "\n",
    "# before dropping the features lats take a copy of the clean dataframe\n",
    "signal_df_clean_v2 = signal_df_clean.copy()\n",
    "signal_df_clean_v2.drop(signal_cols_to_drop, axis = 1, inplace = True)\n",
    "signal_df_clean_v2.shape"
   ]
  },
  {
   "cell_type": "markdown",
   "id": "b0012640",
   "metadata": {},
   "source": [
    "- Removed 173 features with high correlation value"
   ]
  },
  {
   "cell_type": "markdown",
   "id": "72dbfa98",
   "metadata": {},
   "source": [
    "### Question 2.D:"
   ]
  },
  {
   "cell_type": "code",
   "execution_count": 32,
   "id": "0592b9c4",
   "metadata": {},
   "outputs": [],
   "source": [
    "# Check for multi-collinearity in the data and take necessary action\n",
    "\n",
    "# Importing library for VIF\n",
    "from statsmodels.stats.outliers_influence import variance_inflation_factor"
   ]
  },
  {
   "cell_type": "code",
   "execution_count": 33,
   "id": "500705ff",
   "metadata": {},
   "outputs": [],
   "source": [
    "# creating a function to calculate VIF\n",
    "def calculateVIF(x):\n",
    "  vif = pd.DataFrame()\n",
    "  vif['column_name'] = x.columns\n",
    "  vif[\"VIF\"] = [variance_inflation_factor(x.values, i) for i in range(x.shape[1])]\n",
    "  return(vif)"
   ]
  },
  {
   "cell_type": "code",
   "execution_count": 36,
   "id": "72a22692",
   "metadata": {},
   "outputs": [],
   "source": [
    "# removing the target variable to calculate VIF\n",
    "X = signal_df_clean_v2.iloc[:,:-1]\n",
    "vif_data = calculateVIF(X)"
   ]
  },
  {
   "cell_type": "code",
   "execution_count": 39,
   "id": "99b4257c",
   "metadata": {},
   "outputs": [
    {
     "name": "stdout",
     "output_type": "stream",
     "text": [
      "    column_name           VIF\n",
      "0             0   2250.582732\n",
      "1             1   1295.916199\n",
      "2             2   9302.161351\n",
      "3             3     80.941182\n",
      "4             6   1005.286185\n",
      "..          ...           ...\n",
      "259         570   1485.809800\n",
      "260         571    157.098374\n",
      "261         575     59.722147\n",
      "263         577     62.872336\n",
      "264         582  30614.281232\n",
      "\n",
      "[200 rows x 2 columns]\n"
     ]
    }
   ],
   "source": [
    "print(vif_data[vif_data['VIF'] > 10])"
   ]
  },
  {
   "cell_type": "code",
   "execution_count": 42,
   "id": "534d4cea",
   "metadata": {},
   "outputs": [
    {
     "data": {
      "text/html": [
       "<div>\n",
       "<style scoped>\n",
       "    .dataframe tbody tr th:only-of-type {\n",
       "        vertical-align: middle;\n",
       "    }\n",
       "\n",
       "    .dataframe tbody tr th {\n",
       "        vertical-align: top;\n",
       "    }\n",
       "\n",
       "    .dataframe thead th {\n",
       "        text-align: right;\n",
       "    }\n",
       "</style>\n",
       "<table border=\"1\" class=\"dataframe\">\n",
       "  <thead>\n",
       "    <tr style=\"text-align: right;\">\n",
       "      <th></th>\n",
       "      <th>0</th>\n",
       "      <th>1</th>\n",
       "      <th>2</th>\n",
       "      <th>3</th>\n",
       "      <th>6</th>\n",
       "      <th>7</th>\n",
       "      <th>8</th>\n",
       "      <th>9</th>\n",
       "      <th>10</th>\n",
       "      <th>11</th>\n",
       "      <th>...</th>\n",
       "      <th>571</th>\n",
       "      <th>575</th>\n",
       "      <th>576</th>\n",
       "      <th>577</th>\n",
       "      <th>582</th>\n",
       "      <th>585</th>\n",
       "      <th>586</th>\n",
       "      <th>588</th>\n",
       "      <th>589</th>\n",
       "      <th>Pass/Fail</th>\n",
       "    </tr>\n",
       "  </thead>\n",
       "  <tbody>\n",
       "    <tr>\n",
       "      <th>0</th>\n",
       "      <td>3030.93</td>\n",
       "      <td>2564.00</td>\n",
       "      <td>2187.7333</td>\n",
       "      <td>1411.1265</td>\n",
       "      <td>97.6133</td>\n",
       "      <td>0.1242</td>\n",
       "      <td>1.5005</td>\n",
       "      <td>0.0162</td>\n",
       "      <td>-0.0034</td>\n",
       "      <td>0.9455</td>\n",
       "      <td>...</td>\n",
       "      <td>2.1113</td>\n",
       "      <td>0.1026</td>\n",
       "      <td>1.6765</td>\n",
       "      <td>14.9509</td>\n",
       "      <td>0.5005</td>\n",
       "      <td>2.3630</td>\n",
       "      <td>0.021458</td>\n",
       "      <td>0.005283</td>\n",
       "      <td>99.670066</td>\n",
       "      <td>-1</td>\n",
       "    </tr>\n",
       "    <tr>\n",
       "      <th>1</th>\n",
       "      <td>3095.78</td>\n",
       "      <td>2465.14</td>\n",
       "      <td>2230.4222</td>\n",
       "      <td>1463.6606</td>\n",
       "      <td>102.3433</td>\n",
       "      <td>0.1247</td>\n",
       "      <td>1.4966</td>\n",
       "      <td>-0.0005</td>\n",
       "      <td>-0.0148</td>\n",
       "      <td>0.9627</td>\n",
       "      <td>...</td>\n",
       "      <td>2.4335</td>\n",
       "      <td>0.0772</td>\n",
       "      <td>1.1065</td>\n",
       "      <td>10.9003</td>\n",
       "      <td>0.5019</td>\n",
       "      <td>4.4447</td>\n",
       "      <td>0.009600</td>\n",
       "      <td>0.006000</td>\n",
       "      <td>208.204500</td>\n",
       "      <td>-1</td>\n",
       "    </tr>\n",
       "    <tr>\n",
       "      <th>2</th>\n",
       "      <td>2932.61</td>\n",
       "      <td>2559.94</td>\n",
       "      <td>2186.4111</td>\n",
       "      <td>1698.0172</td>\n",
       "      <td>95.4878</td>\n",
       "      <td>0.1241</td>\n",
       "      <td>1.4436</td>\n",
       "      <td>0.0041</td>\n",
       "      <td>0.0013</td>\n",
       "      <td>0.9615</td>\n",
       "      <td>...</td>\n",
       "      <td>2.0293</td>\n",
       "      <td>0.0640</td>\n",
       "      <td>2.0952</td>\n",
       "      <td>9.2721</td>\n",
       "      <td>0.4958</td>\n",
       "      <td>3.1745</td>\n",
       "      <td>0.058400</td>\n",
       "      <td>0.014800</td>\n",
       "      <td>82.860200</td>\n",
       "      <td>1</td>\n",
       "    </tr>\n",
       "    <tr>\n",
       "      <th>3</th>\n",
       "      <td>2988.72</td>\n",
       "      <td>2479.90</td>\n",
       "      <td>2199.0333</td>\n",
       "      <td>909.7926</td>\n",
       "      <td>104.2367</td>\n",
       "      <td>0.1217</td>\n",
       "      <td>1.4882</td>\n",
       "      <td>-0.0124</td>\n",
       "      <td>-0.0033</td>\n",
       "      <td>0.9629</td>\n",
       "      <td>...</td>\n",
       "      <td>2.0253</td>\n",
       "      <td>0.0525</td>\n",
       "      <td>1.7585</td>\n",
       "      <td>8.5831</td>\n",
       "      <td>0.4990</td>\n",
       "      <td>2.0544</td>\n",
       "      <td>0.020200</td>\n",
       "      <td>0.004400</td>\n",
       "      <td>73.843200</td>\n",
       "      <td>-1</td>\n",
       "    </tr>\n",
       "    <tr>\n",
       "      <th>4</th>\n",
       "      <td>3032.24</td>\n",
       "      <td>2502.87</td>\n",
       "      <td>2233.3667</td>\n",
       "      <td>1326.5200</td>\n",
       "      <td>100.3967</td>\n",
       "      <td>0.1235</td>\n",
       "      <td>1.5031</td>\n",
       "      <td>-0.0031</td>\n",
       "      <td>-0.0072</td>\n",
       "      <td>0.9569</td>\n",
       "      <td>...</td>\n",
       "      <td>2.0275</td>\n",
       "      <td>0.0706</td>\n",
       "      <td>1.6597</td>\n",
       "      <td>10.9698</td>\n",
       "      <td>0.4800</td>\n",
       "      <td>99.3032</td>\n",
       "      <td>0.020200</td>\n",
       "      <td>0.004400</td>\n",
       "      <td>73.843200</td>\n",
       "      <td>-1</td>\n",
       "    </tr>\n",
       "  </tbody>\n",
       "</table>\n",
       "<p>5 rows × 270 columns</p>\n",
       "</div>"
      ],
      "text/plain": [
       "         0        1          2          3         6       7       8       9  \\\n",
       "0  3030.93  2564.00  2187.7333  1411.1265   97.6133  0.1242  1.5005  0.0162   \n",
       "1  3095.78  2465.14  2230.4222  1463.6606  102.3433  0.1247  1.4966 -0.0005   \n",
       "2  2932.61  2559.94  2186.4111  1698.0172   95.4878  0.1241  1.4436  0.0041   \n",
       "3  2988.72  2479.90  2199.0333   909.7926  104.2367  0.1217  1.4882 -0.0124   \n",
       "4  3032.24  2502.87  2233.3667  1326.5200  100.3967  0.1235  1.5031 -0.0031   \n",
       "\n",
       "       10      11  ...     571     575     576      577     582      585  \\\n",
       "0 -0.0034  0.9455  ...  2.1113  0.1026  1.6765  14.9509  0.5005   2.3630   \n",
       "1 -0.0148  0.9627  ...  2.4335  0.0772  1.1065  10.9003  0.5019   4.4447   \n",
       "2  0.0013  0.9615  ...  2.0293  0.0640  2.0952   9.2721  0.4958   3.1745   \n",
       "3 -0.0033  0.9629  ...  2.0253  0.0525  1.7585   8.5831  0.4990   2.0544   \n",
       "4 -0.0072  0.9569  ...  2.0275  0.0706  1.6597  10.9698  0.4800  99.3032   \n",
       "\n",
       "        586       588         589  Pass/Fail  \n",
       "0  0.021458  0.005283   99.670066         -1  \n",
       "1  0.009600  0.006000  208.204500         -1  \n",
       "2  0.058400  0.014800   82.860200          1  \n",
       "3  0.020200  0.004400   73.843200         -1  \n",
       "4  0.020200  0.004400   73.843200         -1  \n",
       "\n",
       "[5 rows x 270 columns]"
      ]
     },
     "execution_count": 42,
     "metadata": {},
     "output_type": "execute_result"
    }
   ],
   "source": [
    "signal_df_clean_v2.head()"
   ]
  },
  {
   "cell_type": "markdown",
   "id": "137539b4",
   "metadata": {},
   "source": [
    "### Question 2.E:"
   ]
  },
  {
   "cell_type": "code",
   "execution_count": 17,
   "id": "700f2ebb",
   "metadata": {},
   "outputs": [],
   "source": [
    "# Make all relevant modifications on the data using both functional/logical reasoning/assumptions."
   ]
  },
  {
   "cell_type": "markdown",
   "id": "2de09000",
   "metadata": {},
   "source": [
    "- I have already done data modification in the above steps. So I dont think it is required any more.\n",
    "- In the first seep, I have already removed those features where null value is above 20%.\n",
    "- Next imputed the rest null values with its average.\n",
    "- Then removed those columns where the value is same for all occurance.\n",
    "- After that removed the time column as the value is unique in almost all rows.\n",
    "- Also removed those features where correlation is very high.\n",
    "- There are 200 columns left with high VIF, will be treated once I use PCA"
   ]
  },
  {
   "cell_type": "markdown",
   "id": "5a38c285",
   "metadata": {},
   "source": [
    "### Question 3.A:"
   ]
  },
  {
   "cell_type": "code",
   "execution_count": 40,
   "id": "c223e1cb",
   "metadata": {},
   "outputs": [],
   "source": [
    "# Perform a detailed univariate Analysis with appropriate detailed comments after each analysis\n",
    "# importing library for data visualization\n",
    "import matplotlib.pyplot as plt\n",
    "%matplotlib inline\n",
    "import seaborn as sns"
   ]
  },
  {
   "cell_type": "code",
   "execution_count": 54,
   "id": "e6976cd8",
   "metadata": {},
   "outputs": [
    {
     "data": {
      "image/png": "[encoded data removed]",
      "text/plain": [
       "<Figure size 640x480 with 1 Axes>"
      ]
     },
     "metadata": {},
     "output_type": "display_data"
    }
   ],
   "source": [
    "# first lets check the target variable\n",
    "sns.countplot(x = 'Pass/Fail', data = signal_df_clean_v2);"
   ]
  },
  {
   "cell_type": "markdown",
   "id": "e80db662",
   "metadata": {},
   "source": [
    "- There is a huge difference with Pass Fail ratio, more than 1400 rows marked as Pass where as around 100 rows marked as Fail"
   ]
  },
  {
   "cell_type": "code",
   "execution_count": 44,
   "id": "a16d65d5",
   "metadata": {},
   "outputs": [
    {
     "data": {
      "image/png": "[encoded data removed]",
      "text/plain": [
       "<Figure size 640x480 with 1 Axes>"
      ]
     },
     "metadata": {},
     "output_type": "display_data"
    }
   ],
   "source": [
    "sns.histplot(x = signal_df_clean_v2['0'], kde = True);"
   ]
  },
  {
   "cell_type": "markdown",
   "id": "6c21f1df",
   "metadata": {},
   "source": [
    "- Slightly righr schewed, but more or less balanced data"
   ]
  },
  {
   "cell_type": "code",
   "execution_count": 55,
   "id": "952f5663",
   "metadata": {},
   "outputs": [
    {
     "data": {
      "image/png": "[encoded data removed]",
      "text/plain": [
       "<Figure size 640x480 with 1 Axes>"
      ]
     },
     "metadata": {},
     "output_type": "display_data"
    }
   ],
   "source": [
    "sns.histplot(data = signal_df_clean_v2, x = '1', kde = True);"
   ]
  },
  {
   "cell_type": "markdown",
   "id": "5fdade51",
   "metadata": {},
   "source": [
    "- We can say this feature is distributed properly"
   ]
  },
  {
   "cell_type": "code",
   "execution_count": 57,
   "id": "9b9bafb4",
   "metadata": {},
   "outputs": [
    {
     "data": {
      "image/png": "[encoded data removed]",
      "text/plain": [
       "<Figure size 640x480 with 1 Axes>"
      ]
     },
     "metadata": {},
     "output_type": "display_data"
    }
   ],
   "source": [
    "sns.boxplot(data = signal_df_clean_v2, x = '585');"
   ]
  },
  {
   "cell_type": "markdown",
   "id": "a5430b32",
   "metadata": {},
   "source": [
    "- There is some outliers exists, let me replace those with mean"
   ]
  },
  {
   "cell_type": "code",
   "execution_count": 61,
   "id": "9e480849",
   "metadata": {},
   "outputs": [
    {
     "data": {
      "image/png": "[encoded data removed]",
      "text/plain": [
       "<Figure size 640x480 with 1 Axes>"
      ]
     },
     "metadata": {},
     "output_type": "display_data"
    }
   ],
   "source": [
    "signal_df_clean_v2['585'] = signal_df_clean_v2['585'].where(signal_df_clean_v2['585'] <= 90, signal_df_clean_v2['585'].mean())\n",
    "# lets check the boxplot again after replacing\n",
    "sns.boxplot(data = signal_df_clean_v2, x = '585');"
   ]
  },
  {
   "cell_type": "code",
   "execution_count": 62,
   "id": "bbb4535b",
   "metadata": {},
   "outputs": [
    {
     "data": {
      "image/png": "[encoded data removed]",
      "text/plain": [
       "<Figure size 640x480 with 1 Axes>"
      ]
     },
     "metadata": {},
     "output_type": "display_data"
    }
   ],
   "source": [
    "# lets check some other variable\n",
    "sns.boxplot(data = signal_df_clean_v2, x = '3');"
   ]
  },
  {
   "cell_type": "markdown",
   "id": "081a06bc",
   "metadata": {},
   "source": [
    "- we can say the value near 0 is outlier, it can be replaced"
   ]
  },
  {
   "cell_type": "code",
   "execution_count": 63,
   "id": "1e4b7165",
   "metadata": {},
   "outputs": [
    {
     "data": {
      "image/png": "[encoded data removed]",
      "text/plain": [
       "<Figure size 640x480 with 1 Axes>"
      ]
     },
     "metadata": {},
     "output_type": "display_data"
    }
   ],
   "source": [
    "signal_df_clean_v2['3'] = signal_df_clean_v2['3'].where(signal_df_clean_v2['3'] > 500, signal_df_clean_v2['3'].mean())\n",
    "# lets check the boxplot again after replacing\n",
    "sns.boxplot(data = signal_df_clean_v2, x = '3');"
   ]
  },
  {
   "cell_type": "markdown",
   "id": "6133eb56",
   "metadata": {},
   "source": [
    "- The data is right schewed and outliers showing in the box plot, but we cant replace those as it is not clear that those are actually outliers"
   ]
  },
  {
   "cell_type": "markdown",
   "id": "e9291754",
   "metadata": {},
   "source": [
    "### Question 3.B:"
   ]
  },
  {
   "cell_type": "code",
   "execution_count": 68,
   "id": "50db0a86",
   "metadata": {},
   "outputs": [
    {
     "data": {
      "text/plain": [
       "<Axes: xlabel='Pass/Fail', ylabel='121'>"
      ]
     },
     "execution_count": 68,
     "metadata": {},
     "output_type": "execute_result"
    },
    {
     "data": {
      "image/png": "[encoded data removed]",
      "text/plain": [
       "<Figure size 640x480 with 1 Axes>"
      ]
     },
     "metadata": {},
     "output_type": "display_data"
    }
   ],
   "source": [
    "# Perform bivariate and multivariate analysis with appropriate detailed comments after each analysis\n",
    "\n",
    "# lets randomly check fome feature\n",
    "sns.violinplot(x = \"Pass/Fail\", y = \"121\", data = signal_df_clean_v2)"
   ]
  },
  {
   "cell_type": "markdown",
   "id": "db0a619f",
   "metadata": {},
   "source": [
    "- Not so significance difference in distribution with respect to the target"
   ]
  },
  {
   "cell_type": "code",
   "execution_count": 88,
   "id": "f946e622",
   "metadata": {},
   "outputs": [
    {
     "data": {
      "image/png": "[encoded data removed]",
      "text/plain": [
       "<Figure size 640x480 with 1 Axes>"
      ]
     },
     "metadata": {},
     "output_type": "display_data"
    }
   ],
   "source": [
    "sns.lineplot(x = \"468\", y = \"420\", hue = \"Pass/Fail\", data = signal_df_clean_v2);"
   ]
  },
  {
   "cell_type": "markdown",
   "id": "85a3c92b",
   "metadata": {},
   "source": [
    "- we can say if case of fail the value in 420 is not so high"
   ]
  },
  {
   "cell_type": "code",
   "execution_count": 92,
   "id": "fe44c1b1",
   "metadata": {},
   "outputs": [
    {
     "data": {
      "text/plain": [
       "<Axes: xlabel='Pass/Fail', ylabel='19'>"
      ]
     },
     "execution_count": 92,
     "metadata": {},
     "output_type": "execute_result"
    },
    {
     "data": {
      "image/png": "[encoded data removed]",
      "text/plain": [
       "<Figure size 640x480 with 1 Axes>"
      ]
     },
     "metadata": {},
     "output_type": "display_data"
    }
   ],
   "source": [
    "sns.boxplot(x = \"Pass/Fail\", y = '19', data = signal_df_clean_v2)"
   ]
  },
  {
   "cell_type": "markdown",
   "id": "cbe8f39b",
   "metadata": {},
   "source": [
    "- for the column 19 some outliers there in bothe side for the case of Pass, It is quite obvious as the number of datapoints are vely low for Fail cases"
   ]
  },
  {
   "cell_type": "code",
   "execution_count": 94,
   "id": "373c9051",
   "metadata": {},
   "outputs": [
    {
     "data": {
      "image/png": "[encoded data removed]",
      "text/plain": [
       "<Figure size 600x600 with 3 Axes>"
      ]
     },
     "metadata": {},
     "output_type": "display_data"
    }
   ],
   "source": [
    "sns.jointplot(x = '571', y = '11', data = signal_df_clean_v2, hue = \"Pass/Fail\");"
   ]
  },
  {
   "cell_type": "markdown",
   "id": "0695c704",
   "metadata": {},
   "source": [
    "- the data 571 seems like left schwed and to column 11 has some outliers with lower value"
   ]
  },
  {
   "cell_type": "markdown",
   "id": "f70b310c",
   "metadata": {},
   "source": [
    "### Question 4.A:"
   ]
  },
  {
   "cell_type": "code",
   "execution_count": 101,
   "id": "799801c5",
   "metadata": {},
   "outputs": [],
   "source": [
    "# Segregate predictors vs target attributes\n",
    "# predictors\n",
    "X = signal_df_clean_v2.iloc[:,:-1]\n",
    "# target\n",
    "y = signal_df_clean_v2[\"Pass/Fail\"]"
   ]
  },
  {
   "cell_type": "markdown",
   "id": "1d0d6a5d",
   "metadata": {},
   "source": [
    "### Question 4.B:"
   ]
  },
  {
   "cell_type": "code",
   "execution_count": 98,
   "id": "cceb1435",
   "metadata": {},
   "outputs": [
    {
     "data": {
      "text/plain": [
       "-1    1463\n",
       " 1     104\n",
       "Name: Pass/Fail, dtype: int64"
      ]
     },
     "execution_count": 98,
     "metadata": {},
     "output_type": "execute_result"
    }
   ],
   "source": [
    "# Check for target balancing and fix it if found imbalanced\n",
    "pd.value_counts(signal_df_clean_v2['Pass/Fail'])"
   ]
  },
  {
   "cell_type": "code",
   "execution_count": 100,
   "id": "5724abfd",
   "metadata": {},
   "outputs": [],
   "source": [
    "# Import library for upsampling\n",
    "from imblearn.over_sampling import SMOTE\n",
    "sm = SMOTE()"
   ]
  },
  {
   "cell_type": "code",
   "execution_count": 103,
   "id": "d061a7a0",
   "metadata": {},
   "outputs": [
    {
     "data": {
      "text/plain": [
       "(2926, 269)"
      ]
     },
     "execution_count": 103,
     "metadata": {},
     "output_type": "execute_result"
    }
   ],
   "source": [
    "X_up_sample, y_up_sample = sm.fit_resample(X, y)\n",
    "X_up_sample.shape"
   ]
  },
  {
   "cell_type": "code",
   "execution_count": 107,
   "id": "d9b1081d",
   "metadata": {},
   "outputs": [
    {
     "data": {
      "text/plain": [
       "(1463, 1463)"
      ]
     },
     "execution_count": 107,
     "metadata": {},
     "output_type": "execute_result"
    }
   ],
   "source": [
    "sum(y_up_sample == -1), sum(y_up_sample == 1)"
   ]
  },
  {
   "cell_type": "markdown",
   "id": "61cc9712",
   "metadata": {},
   "source": [
    "### Question 4.C:"
   ]
  },
  {
   "cell_type": "code",
   "execution_count": 108,
   "id": "a2d6068e",
   "metadata": {
    "scrolled": true
   },
   "outputs": [
    {
     "data": {
      "text/html": [
       "<div>\n",
       "<style scoped>\n",
       "    .dataframe tbody tr th:only-of-type {\n",
       "        vertical-align: middle;\n",
       "    }\n",
       "\n",
       "    .dataframe tbody tr th {\n",
       "        vertical-align: top;\n",
       "    }\n",
       "\n",
       "    .dataframe thead th {\n",
       "        text-align: right;\n",
       "    }\n",
       "</style>\n",
       "<table border=\"1\" class=\"dataframe\">\n",
       "  <thead>\n",
       "    <tr style=\"text-align: right;\">\n",
       "      <th></th>\n",
       "      <th>0</th>\n",
       "      <th>1</th>\n",
       "      <th>2</th>\n",
       "      <th>3</th>\n",
       "      <th>6</th>\n",
       "      <th>7</th>\n",
       "      <th>8</th>\n",
       "      <th>9</th>\n",
       "      <th>10</th>\n",
       "      <th>11</th>\n",
       "      <th>...</th>\n",
       "      <th>570</th>\n",
       "      <th>571</th>\n",
       "      <th>575</th>\n",
       "      <th>576</th>\n",
       "      <th>577</th>\n",
       "      <th>582</th>\n",
       "      <th>585</th>\n",
       "      <th>586</th>\n",
       "      <th>588</th>\n",
       "      <th>589</th>\n",
       "    </tr>\n",
       "  </thead>\n",
       "  <tbody>\n",
       "    <tr>\n",
       "      <th>1005</th>\n",
       "      <td>-0.942493</td>\n",
       "      <td>0.930022</td>\n",
       "      <td>-0.190379</td>\n",
       "      <td>2.155671</td>\n",
       "      <td>-2.304212</td>\n",
       "      <td>0.143126</td>\n",
       "      <td>-0.571097</td>\n",
       "      <td>0.625162</td>\n",
       "      <td>0.748316</td>\n",
       "      <td>0.333374</td>\n",
       "      <td>...</td>\n",
       "      <td>-1.463708</td>\n",
       "      <td>0.595452</td>\n",
       "      <td>6.573325</td>\n",
       "      <td>4.809388</td>\n",
       "      <td>6.435055</td>\n",
       "      <td>-0.733703</td>\n",
       "      <td>0.344132</td>\n",
       "      <td>2.732048</td>\n",
       "      <td>-0.063985</td>\n",
       "      <td>-0.718990</td>\n",
       "    </tr>\n",
       "    <tr>\n",
       "      <th>858</th>\n",
       "      <td>-1.040510</td>\n",
       "      <td>0.047751</td>\n",
       "      <td>-2.923938</td>\n",
       "      <td>0.347411</td>\n",
       "      <td>-0.375125</td>\n",
       "      <td>0.490166</td>\n",
       "      <td>-0.247362</td>\n",
       "      <td>-0.666082</td>\n",
       "      <td>0.597668</td>\n",
       "      <td>-0.510668</td>\n",
       "      <td>...</td>\n",
       "      <td>0.162756</td>\n",
       "      <td>0.164217</td>\n",
       "      <td>0.399455</td>\n",
       "      <td>-0.225387</td>\n",
       "      <td>0.341130</td>\n",
       "      <td>0.383237</td>\n",
       "      <td>-1.308545</td>\n",
       "      <td>0.043851</td>\n",
       "      <td>-0.273392</td>\n",
       "      <td>-0.367161</td>\n",
       "    </tr>\n",
       "    <tr>\n",
       "      <th>1485</th>\n",
       "      <td>-1.405348</td>\n",
       "      <td>0.757956</td>\n",
       "      <td>0.127388</td>\n",
       "      <td>2.831724</td>\n",
       "      <td>-2.417159</td>\n",
       "      <td>0.176711</td>\n",
       "      <td>-0.256843</td>\n",
       "      <td>-0.566755</td>\n",
       "      <td>-0.467627</td>\n",
       "      <td>-0.084628</td>\n",
       "      <td>...</td>\n",
       "      <td>0.346920</td>\n",
       "      <td>0.199123</td>\n",
       "      <td>0.418637</td>\n",
       "      <td>-0.253769</td>\n",
       "      <td>0.313176</td>\n",
       "      <td>-0.469164</td>\n",
       "      <td>0.119865</td>\n",
       "      <td>-0.895399</td>\n",
       "      <td>0.285025</td>\n",
       "      <td>0.835221</td>\n",
       "    </tr>\n",
       "    <tr>\n",
       "      <th>382</th>\n",
       "      <td>0.443076</td>\n",
       "      <td>-0.746117</td>\n",
       "      <td>0.449696</td>\n",
       "      <td>-0.647507</td>\n",
       "      <td>0.491969</td>\n",
       "      <td>-0.080771</td>\n",
       "      <td>1.326614</td>\n",
       "      <td>0.029203</td>\n",
       "      <td>-0.575233</td>\n",
       "      <td>0.896070</td>\n",
       "      <td>...</td>\n",
       "      <td>0.169615</td>\n",
       "      <td>-1.715618</td>\n",
       "      <td>-0.959564</td>\n",
       "      <td>-0.232724</td>\n",
       "      <td>-0.692818</td>\n",
       "      <td>-1.086421</td>\n",
       "      <td>-0.769712</td>\n",
       "      <td>-0.401483</td>\n",
       "      <td>1.715970</td>\n",
       "      <td>0.993722</td>\n",
       "    </tr>\n",
       "    <tr>\n",
       "      <th>1012</th>\n",
       "      <td>-0.300214</td>\n",
       "      <td>1.183880</td>\n",
       "      <td>0.795078</td>\n",
       "      <td>0.794480</td>\n",
       "      <td>-0.701789</td>\n",
       "      <td>0.255074</td>\n",
       "      <td>1.206060</td>\n",
       "      <td>-1.752051</td>\n",
       "      <td>0.662232</td>\n",
       "      <td>1.137225</td>\n",
       "      <td>...</td>\n",
       "      <td>0.038560</td>\n",
       "      <td>0.508914</td>\n",
       "      <td>-0.636410</td>\n",
       "      <td>-0.210608</td>\n",
       "      <td>-0.465614</td>\n",
       "      <td>1.118066</td>\n",
       "      <td>0.057661</td>\n",
       "      <td>-0.385289</td>\n",
       "      <td>-0.482798</td>\n",
       "      <td>-0.219131</td>\n",
       "    </tr>\n",
       "  </tbody>\n",
       "</table>\n",
       "<p>5 rows × 269 columns</p>\n",
       "</div>"
      ],
      "text/plain": [
       "             0         1         2         3         6         7         8  \\\n",
       "1005 -0.942493  0.930022 -0.190379  2.155671 -2.304212  0.143126 -0.571097   \n",
       "858  -1.040510  0.047751 -2.923938  0.347411 -0.375125  0.490166 -0.247362   \n",
       "1485 -1.405348  0.757956  0.127388  2.831724 -2.417159  0.176711 -0.256843   \n",
       "382   0.443076 -0.746117  0.449696 -0.647507  0.491969 -0.080771  1.326614   \n",
       "1012 -0.300214  1.183880  0.795078  0.794480 -0.701789  0.255074  1.206060   \n",
       "\n",
       "             9        10        11  ...       570       571       575  \\\n",
       "1005  0.625162  0.748316  0.333374  ... -1.463708  0.595452  6.573325   \n",
       "858  -0.666082  0.597668 -0.510668  ...  0.162756  0.164217  0.399455   \n",
       "1485 -0.566755 -0.467627 -0.084628  ...  0.346920  0.199123  0.418637   \n",
       "382   0.029203 -0.575233  0.896070  ...  0.169615 -1.715618 -0.959564   \n",
       "1012 -1.752051  0.662232  1.137225  ...  0.038560  0.508914 -0.636410   \n",
       "\n",
       "           576       577       582       585       586       588       589  \n",
       "1005  4.809388  6.435055 -0.733703  0.344132  2.732048 -0.063985 -0.718990  \n",
       "858  -0.225387  0.341130  0.383237 -1.308545  0.043851 -0.273392 -0.367161  \n",
       "1485 -0.253769  0.313176 -0.469164  0.119865 -0.895399  0.285025  0.835221  \n",
       "382  -0.232724 -0.692818 -1.086421 -0.769712 -0.401483  1.715970  0.993722  \n",
       "1012 -0.210608 -0.465614  1.118066  0.057661 -0.385289 -0.482798 -0.219131  \n",
       "\n",
       "[5 rows x 269 columns]"
      ]
     },
     "execution_count": 108,
     "metadata": {},
     "output_type": "execute_result"
    }
   ],
   "source": [
    "# Perform train-test split and standardise the data or vice versa if required\n",
    "\n",
    "# import library to perform train test split\n",
    "from sklearn.model_selection import train_test_split\n",
    "\n",
    "# import Standardization library\n",
    "from sklearn.preprocessing import StandardScaler\n",
    "scaler = StandardScaler()\n",
    "\n",
    "scaled_X = pd.DataFrame(scaler.fit_transform(X))\n",
    "scaled_X.columns = X.columns\n",
    "\n",
    "# Lets split the data 80% for train and 20% for test\n",
    "X_train, X_test, y_train, y_test = train_test_split(scaled_X, Y, test_size = 0.20, random_state = 1)\n",
    "X_train.head()"
   ]
  },
  {
   "cell_type": "markdown",
   "id": "e2f33cfb",
   "metadata": {},
   "source": [
    "### Question 4.D:"
   ]
  },
  {
   "cell_type": "code",
   "execution_count": 112,
   "id": "cedec197",
   "metadata": {},
   "outputs": [
    {
     "data": {
      "text/plain": [
       "(0.9329608938547486, 0.0670391061452514)"
      ]
     },
     "execution_count": 112,
     "metadata": {},
     "output_type": "execute_result"
    }
   ],
   "source": [
    "# Check if the train and test data have similar statistical characteristics when compared with original data\n",
    "sum(y_train == -1) / len(y_train), sum(y_train == 1) / len(y_train)"
   ]
  },
  {
   "cell_type": "code",
   "execution_count": 113,
   "id": "0e9d0296",
   "metadata": {},
   "outputs": [
    {
     "data": {
      "text/plain": [
       "(0.9363057324840764, 0.06369426751592357)"
      ]
     },
     "execution_count": 113,
     "metadata": {},
     "output_type": "execute_result"
    }
   ],
   "source": [
    "sum(y_test == -1) / len(y_test), sum(y_test == 1) / len(y_test)"
   ]
  },
  {
   "cell_type": "code",
   "execution_count": 115,
   "id": "1abdfb1a",
   "metadata": {},
   "outputs": [
    {
     "data": {
      "text/plain": [
       "(0.9336311423101468, 0.06636885768985322)"
      ]
     },
     "execution_count": 115,
     "metadata": {},
     "output_type": "execute_result"
    }
   ],
   "source": [
    "sum(y == -1) / len(y), sum(y == 1) / len(y)"
   ]
  },
  {
   "cell_type": "markdown",
   "id": "0fd0a3bb",
   "metadata": {},
   "source": [
    "- not much difference"
   ]
  },
  {
   "cell_type": "markdown",
   "id": "2c5cb5db",
   "metadata": {},
   "source": [
    "### Question 5.A:"
   ]
  },
  {
   "cell_type": "code",
   "execution_count": 116,
   "id": "387bdb04",
   "metadata": {},
   "outputs": [
    {
     "data": {
      "text/html": [
       "<style>#sk-container-id-1 {color: black;}#sk-container-id-1 pre{padding: 0;}#sk-container-id-1 div.sk-toggleable {background-color: white;}#sk-container-id-1 label.sk-toggleable__label {cursor: pointer;display: block;width: 100%;margin-bottom: 0;padding: 0.3em;box-sizing: border-box;text-align: center;}#sk-container-id-1 label.sk-toggleable__label-arrow:before {content: \"▸\";float: left;margin-right: 0.25em;color: #696969;}#sk-container-id-1 label.sk-toggleable__label-arrow:hover:before {color: black;}#sk-container-id-1 div.sk-estimator:hover label.sk-toggleable__label-arrow:before {color: black;}#sk-container-id-1 div.sk-toggleable__content {max-height: 0;max-width: 0;overflow: hidden;text-align: left;background-color: #f0f8ff;}#sk-container-id-1 div.sk-toggleable__content pre {margin: 0.2em;color: black;border-radius: 0.25em;background-color: #f0f8ff;}#sk-container-id-1 input.sk-toggleable__control:checked~div.sk-toggleable__content {max-height: 200px;max-width: 100%;overflow: auto;}#sk-container-id-1 input.sk-toggleable__control:checked~label.sk-toggleable__label-arrow:before {content: \"▾\";}#sk-container-id-1 div.sk-estimator input.sk-toggleable__control:checked~label.sk-toggleable__label {background-color: #d4ebff;}#sk-container-id-1 div.sk-label input.sk-toggleable__control:checked~label.sk-toggleable__label {background-color: #d4ebff;}#sk-container-id-1 input.sk-hidden--visually {border: 0;clip: rect(1px 1px 1px 1px);clip: rect(1px, 1px, 1px, 1px);height: 1px;margin: -1px;overflow: hidden;padding: 0;position: absolute;width: 1px;}#sk-container-id-1 div.sk-estimator {font-family: monospace;background-color: #f0f8ff;border: 1px dotted black;border-radius: 0.25em;box-sizing: border-box;margin-bottom: 0.5em;}#sk-container-id-1 div.sk-estimator:hover {background-color: #d4ebff;}#sk-container-id-1 div.sk-parallel-item::after {content: \"\";width: 100%;border-bottom: 1px solid gray;flex-grow: 1;}#sk-container-id-1 div.sk-label:hover label.sk-toggleable__label {background-color: #d4ebff;}#sk-container-id-1 div.sk-serial::before {content: \"\";position: absolute;border-left: 1px solid gray;box-sizing: border-box;top: 0;bottom: 0;left: 50%;z-index: 0;}#sk-container-id-1 div.sk-serial {display: flex;flex-direction: column;align-items: center;background-color: white;padding-right: 0.2em;padding-left: 0.2em;position: relative;}#sk-container-id-1 div.sk-item {position: relative;z-index: 1;}#sk-container-id-1 div.sk-parallel {display: flex;align-items: stretch;justify-content: center;background-color: white;position: relative;}#sk-container-id-1 div.sk-item::before, #sk-container-id-1 div.sk-parallel-item::before {content: \"\";position: absolute;border-left: 1px solid gray;box-sizing: border-box;top: 0;bottom: 0;left: 50%;z-index: -1;}#sk-container-id-1 div.sk-parallel-item {display: flex;flex-direction: column;z-index: 1;position: relative;background-color: white;}#sk-container-id-1 div.sk-parallel-item:first-child::after {align-self: flex-end;width: 50%;}#sk-container-id-1 div.sk-parallel-item:last-child::after {align-self: flex-start;width: 50%;}#sk-container-id-1 div.sk-parallel-item:only-child::after {width: 0;}#sk-container-id-1 div.sk-dashed-wrapped {border: 1px dashed gray;margin: 0 0.4em 0.5em 0.4em;box-sizing: border-box;padding-bottom: 0.4em;background-color: white;}#sk-container-id-1 div.sk-label label {font-family: monospace;font-weight: bold;display: inline-block;line-height: 1.2em;}#sk-container-id-1 div.sk-label-container {text-align: center;}#sk-container-id-1 div.sk-container {/* jupyter's `normalize.less` sets `[hidden] { display: none; }` but bootstrap.min.css set `[hidden] { display: none !important; }` so we also need the `!important` here to be able to override the default hidden behavior on the sphinx rendered scikit-learn.org. See: https://github.com/scikit-learn/scikit-learn/issues/21755 */display: inline-block !important;position: relative;}#sk-container-id-1 div.sk-text-repr-fallback {display: none;}</style><div id=\"sk-container-id-1\" class=\"sk-top-container\"><div class=\"sk-text-repr-fallback\"><pre>KNeighborsClassifier(n_neighbors=20, weights=&#x27;distance&#x27;)</pre><b>In a Jupyter environment, please rerun this cell to show the HTML representation or trust the notebook. <br />On GitHub, the HTML representation is unable to render, please try loading this page with nbviewer.org.</b></div><div class=\"sk-container\" hidden><div class=\"sk-item\"><div class=\"sk-estimator sk-toggleable\"><input class=\"sk-toggleable__control sk-hidden--visually\" id=\"sk-estimator-id-1\" type=\"checkbox\" checked><label for=\"sk-estimator-id-1\" class=\"sk-toggleable__label sk-toggleable__label-arrow\">KNeighborsClassifier</label><div class=\"sk-toggleable__content\"><pre>KNeighborsClassifier(n_neighbors=20, weights=&#x27;distance&#x27;)</pre></div></div></div></div></div>"
      ],
      "text/plain": [
       "KNeighborsClassifier(n_neighbors=20, weights='distance')"
      ]
     },
     "execution_count": 116,
     "metadata": {},
     "output_type": "execute_result"
    }
   ],
   "source": [
    "# Use any Supervised Learning technique to train a model\n",
    "# import the library\n",
    "from sklearn.neighbors import KNeighborsClassifier\n",
    "\n",
    "# Train a Supervised Learning Classification base model using KNN classifier.\n",
    "knn = KNeighborsClassifier(n_neighbors = 20, weights = 'distance')\n",
    "# fit the model with train data\n",
    "knn.fit(X_train, y_train)"
   ]
  },
  {
   "cell_type": "markdown",
   "id": "6d360b9d",
   "metadata": {},
   "source": [
    "### Question 5.B:"
   ]
  },
  {
   "cell_type": "code",
   "execution_count": 25,
   "id": "a98091f7",
   "metadata": {},
   "outputs": [],
   "source": [
    "# Use cross validation techniques\n"
   ]
  },
  {
   "cell_type": "code",
   "execution_count": null,
   "id": "f64f0083",
   "metadata": {},
   "outputs": [],
   "source": []
  },
  {
   "cell_type": "markdown",
   "id": "8c6f0317",
   "metadata": {},
   "source": [
    "### Question 5.C:"
   ]
  },
  {
   "cell_type": "code",
   "execution_count": 26,
   "id": "6736124c",
   "metadata": {},
   "outputs": [],
   "source": [
    "# Apply hyper-parameter tuning techniques to get the best accuracy\n"
   ]
  },
  {
   "cell_type": "markdown",
   "id": "56ae024e",
   "metadata": {},
   "source": [
    "### Question 5.D:"
   ]
  },
  {
   "cell_type": "code",
   "execution_count": 122,
   "id": "3467358c",
   "metadata": {},
   "outputs": [],
   "source": [
    "# Use any other technique/method which can enhance the model performance\n",
    "\n",
    "# Lets try PCA to \n",
    "from sklearn.decomposition import PCA\n",
    "pca = PCA().fit(X_train)"
   ]
  },
  {
   "cell_type": "code",
   "execution_count": 119,
   "id": "9f879565",
   "metadata": {
    "scrolled": true
   },
   "outputs": [
    {
     "data": {
      "image/png": "[encoded data removed]",
      "text/plain": [
       "<Figure size 640x480 with 1 Axes>"
      ]
     },
     "metadata": {},
     "output_type": "display_data"
    }
   ],
   "source": [
    "#Plotting the Cumulative Summation of the Explained Variance\n",
    "plt.figure()\n",
    "plt.plot(np.cumsum(pca.explained_variance_ratio_) * 100)\n",
    "plt.xlabel('Number of Components')\n",
    "plt.ylabel('Variance (%)')\n",
    "plt.title('Explained Variance')\n",
    "\n",
    "plt.axhline(y=95, color='r', linestyle='--')\n",
    "plt.show()"
   ]
  },
  {
   "cell_type": "code",
   "execution_count": 126,
   "id": "22cdf011",
   "metadata": {},
   "outputs": [],
   "source": [
    "# fit on the training data\n",
    "pca = PCA(200).fit(X_train)\n",
    "\n",
    "# transform both training and validation data\n",
    "X_train_transformed = pca.transform(X_train)\n",
    "X_test_transformed = pca.transform(X_test)"
   ]
  },
  {
   "cell_type": "code",
   "execution_count": 127,
   "id": "c9c8dbd7",
   "metadata": {},
   "outputs": [
    {
     "data": {
      "text/plain": [
       "(1253, 200)"
      ]
     },
     "execution_count": 127,
     "metadata": {},
     "output_type": "execute_result"
    }
   ],
   "source": [
    "# checking shape of data after PCA\n",
    "X_train_transformed.shape"
   ]
  },
  {
   "cell_type": "code",
   "execution_count": 128,
   "id": "3d67ef2b",
   "metadata": {},
   "outputs": [],
   "source": [
    "from sklearn.ensemble import RandomForestClassifier\n",
    "model2 = RandomForestClassifier(random_state = 1, max_depth = 3)"
   ]
  },
  {
   "cell_type": "code",
   "execution_count": 129,
   "id": "c4f63b73",
   "metadata": {
    "scrolled": true
   },
   "outputs": [
    {
     "data": {
      "text/html": [
       "<style>#sk-container-id-2 {color: black;}#sk-container-id-2 pre{padding: 0;}#sk-container-id-2 div.sk-toggleable {background-color: white;}#sk-container-id-2 label.sk-toggleable__label {cursor: pointer;display: block;width: 100%;margin-bottom: 0;padding: 0.3em;box-sizing: border-box;text-align: center;}#sk-container-id-2 label.sk-toggleable__label-arrow:before {content: \"▸\";float: left;margin-right: 0.25em;color: #696969;}#sk-container-id-2 label.sk-toggleable__label-arrow:hover:before {color: black;}#sk-container-id-2 div.sk-estimator:hover label.sk-toggleable__label-arrow:before {color: black;}#sk-container-id-2 div.sk-toggleable__content {max-height: 0;max-width: 0;overflow: hidden;text-align: left;background-color: #f0f8ff;}#sk-container-id-2 div.sk-toggleable__content pre {margin: 0.2em;color: black;border-radius: 0.25em;background-color: #f0f8ff;}#sk-container-id-2 input.sk-toggleable__control:checked~div.sk-toggleable__content {max-height: 200px;max-width: 100%;overflow: auto;}#sk-container-id-2 input.sk-toggleable__control:checked~label.sk-toggleable__label-arrow:before {content: \"▾\";}#sk-container-id-2 div.sk-estimator input.sk-toggleable__control:checked~label.sk-toggleable__label {background-color: #d4ebff;}#sk-container-id-2 div.sk-label input.sk-toggleable__control:checked~label.sk-toggleable__label {background-color: #d4ebff;}#sk-container-id-2 input.sk-hidden--visually {border: 0;clip: rect(1px 1px 1px 1px);clip: rect(1px, 1px, 1px, 1px);height: 1px;margin: -1px;overflow: hidden;padding: 0;position: absolute;width: 1px;}#sk-container-id-2 div.sk-estimator {font-family: monospace;background-color: #f0f8ff;border: 1px dotted black;border-radius: 0.25em;box-sizing: border-box;margin-bottom: 0.5em;}#sk-container-id-2 div.sk-estimator:hover {background-color: #d4ebff;}#sk-container-id-2 div.sk-parallel-item::after {content: \"\";width: 100%;border-bottom: 1px solid gray;flex-grow: 1;}#sk-container-id-2 div.sk-label:hover label.sk-toggleable__label {background-color: #d4ebff;}#sk-container-id-2 div.sk-serial::before {content: \"\";position: absolute;border-left: 1px solid gray;box-sizing: border-box;top: 0;bottom: 0;left: 50%;z-index: 0;}#sk-container-id-2 div.sk-serial {display: flex;flex-direction: column;align-items: center;background-color: white;padding-right: 0.2em;padding-left: 0.2em;position: relative;}#sk-container-id-2 div.sk-item {position: relative;z-index: 1;}#sk-container-id-2 div.sk-parallel {display: flex;align-items: stretch;justify-content: center;background-color: white;position: relative;}#sk-container-id-2 div.sk-item::before, #sk-container-id-2 div.sk-parallel-item::before {content: \"\";position: absolute;border-left: 1px solid gray;box-sizing: border-box;top: 0;bottom: 0;left: 50%;z-index: -1;}#sk-container-id-2 div.sk-parallel-item {display: flex;flex-direction: column;z-index: 1;position: relative;background-color: white;}#sk-container-id-2 div.sk-parallel-item:first-child::after {align-self: flex-end;width: 50%;}#sk-container-id-2 div.sk-parallel-item:last-child::after {align-self: flex-start;width: 50%;}#sk-container-id-2 div.sk-parallel-item:only-child::after {width: 0;}#sk-container-id-2 div.sk-dashed-wrapped {border: 1px dashed gray;margin: 0 0.4em 0.5em 0.4em;box-sizing: border-box;padding-bottom: 0.4em;background-color: white;}#sk-container-id-2 div.sk-label label {font-family: monospace;font-weight: bold;display: inline-block;line-height: 1.2em;}#sk-container-id-2 div.sk-label-container {text-align: center;}#sk-container-id-2 div.sk-container {/* jupyter's `normalize.less` sets `[hidden] { display: none; }` but bootstrap.min.css set `[hidden] { display: none !important; }` so we also need the `!important` here to be able to override the default hidden behavior on the sphinx rendered scikit-learn.org. See: https://github.com/scikit-learn/scikit-learn/issues/21755 */display: inline-block !important;position: relative;}#sk-container-id-2 div.sk-text-repr-fallback {display: none;}</style><div id=\"sk-container-id-2\" class=\"sk-top-container\"><div class=\"sk-text-repr-fallback\"><pre>RandomForestClassifier(max_depth=3, random_state=1)</pre><b>In a Jupyter environment, please rerun this cell to show the HTML representation or trust the notebook. <br />On GitHub, the HTML representation is unable to render, please try loading this page with nbviewer.org.</b></div><div class=\"sk-container\" hidden><div class=\"sk-item\"><div class=\"sk-estimator sk-toggleable\"><input class=\"sk-toggleable__control sk-hidden--visually\" id=\"sk-estimator-id-2\" type=\"checkbox\" checked><label for=\"sk-estimator-id-2\" class=\"sk-toggleable__label sk-toggleable__label-arrow\">RandomForestClassifier</label><div class=\"sk-toggleable__content\"><pre>RandomForestClassifier(max_depth=3, random_state=1)</pre></div></div></div></div></div>"
      ],
      "text/plain": [
       "RandomForestClassifier(max_depth=3, random_state=1)"
      ]
     },
     "execution_count": 129,
     "metadata": {},
     "output_type": "execute_result"
    }
   ],
   "source": [
    "model2.fit(X_train_transformed,y_train)"
   ]
  },
  {
   "cell_type": "code",
   "execution_count": 134,
   "id": "b4b72b50",
   "metadata": {},
   "outputs": [],
   "source": [
    "pred_2 = model2.predict(X_test_transformed)"
   ]
  },
  {
   "cell_type": "code",
   "execution_count": 135,
   "id": "5b22dfc1",
   "metadata": {},
   "outputs": [
    {
     "ename": "NameError",
     "evalue": "name 'accuracy_score' is not defined",
     "output_type": "error",
     "traceback": [
      "\u001b[1;31m---------------------------------------------------------------------------\u001b[0m",
      "\u001b[1;31mNameError\u001b[0m                                 Traceback (most recent call last)",
      "Cell \u001b[1;32mIn[135], line 2\u001b[0m\n\u001b[0;32m      1\u001b[0m \u001b[38;5;66;03m# checking the validation performance - Accuracy Score\u001b[39;00m\n\u001b[1;32m----> 2\u001b[0m accuracy_score(pred_2, y)\n",
      "\u001b[1;31mNameError\u001b[0m: name 'accuracy_score' is not defined"
     ]
    }
   ],
   "source": [
    "# checking the validation performance - Accuracy Score\n",
    "accuracy_score(pred_2, y)"
   ]
  },
  {
   "cell_type": "code",
   "execution_count": null,
   "id": "1d24c1c8",
   "metadata": {},
   "outputs": [],
   "source": []
  },
  {
   "cell_type": "code",
   "execution_count": null,
   "id": "4da7d048",
   "metadata": {},
   "outputs": [],
   "source": []
  },
  {
   "cell_type": "markdown",
   "id": "2a52046c",
   "metadata": {},
   "source": [
    "### Question 5.E:"
   ]
  },
  {
   "cell_type": "code",
   "execution_count": 28,
   "id": "d050ca3b",
   "metadata": {},
   "outputs": [],
   "source": [
    "# Display and explain the classification report in detail\n"
   ]
  },
  {
   "cell_type": "markdown",
   "id": "d4422ec4",
   "metadata": {},
   "source": [
    "### Question 5.F:"
   ]
  },
  {
   "cell_type": "code",
   "execution_count": 29,
   "id": "f2533a98",
   "metadata": {},
   "outputs": [],
   "source": [
    "# Apply the above steps for all possible models that you have learnt so far\n"
   ]
  },
  {
   "cell_type": "markdown",
   "id": "84fd3a81",
   "metadata": {},
   "source": [
    "### Question 6.A:"
   ]
  },
  {
   "cell_type": "code",
   "execution_count": 30,
   "id": "d741dea5",
   "metadata": {},
   "outputs": [],
   "source": [
    "# Display and compare all the models designed with their train and test accuracies\n"
   ]
  },
  {
   "cell_type": "markdown",
   "id": "9485c34f",
   "metadata": {},
   "source": [
    "### Question 6.B:"
   ]
  },
  {
   "cell_type": "code",
   "execution_count": 31,
   "id": "3bb10bad",
   "metadata": {},
   "outputs": [],
   "source": [
    "# Select the final best trained model along with your detailed comments for selecting this model\n"
   ]
  },
  {
   "cell_type": "markdown",
   "id": "504d23ff",
   "metadata": {},
   "source": [
    "### Question 6.C:"
   ]
  },
  {
   "cell_type": "code",
   "execution_count": 32,
   "id": "1e6aa66c",
   "metadata": {},
   "outputs": [],
   "source": [
    "# Pickle the selected model for future use\n"
   ]
  },
  {
   "cell_type": "markdown",
   "id": "e3cc001a",
   "metadata": {},
   "source": [
    "### Question 6.D:"
   ]
  },
  {
   "cell_type": "code",
   "execution_count": 33,
   "id": "e3b28a97",
   "metadata": {},
   "outputs": [],
   "source": [
    "# Write your conclusion on the results\n"
   ]
  },
  {
   "cell_type": "code",
   "execution_count": null,
   "id": "1d0100e7",
   "metadata": {},
   "outputs": [],
   "source": []
  },
  {
   "cell_type": "code",
   "execution_count": null,
   "id": "214567aa",
   "metadata": {},
   "outputs": [],
   "source": []
  },
  {
   "cell_type": "code",
   "execution_count": null,
   "id": "1612aec3",
   "metadata": {},
   "outputs": [],
   "source": []
  }
 ],
 "metadata": {
  "kernelspec": {
   "display_name": "Python 3 (ipykernel)",
   "language": "python",
   "name": "python3"
  },
  "language_info": {
   "codemirror_mode": {
    "name": "ipython",
    "version": 3
   },
   "file_extension": ".py",
   "mimetype": "text/x-python",
   "name": "python",
   "nbconvert_exporter": "python",
   "pygments_lexer": "ipython3",
   "version": "3.11.4"
  }
 },
 "nbformat": 4,
 "nbformat_minor": 5
}
