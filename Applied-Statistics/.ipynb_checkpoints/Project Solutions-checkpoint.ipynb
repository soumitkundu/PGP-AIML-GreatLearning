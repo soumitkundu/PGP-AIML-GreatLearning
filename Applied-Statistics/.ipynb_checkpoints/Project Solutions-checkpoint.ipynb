{
 "cells": [
  {
   "cell_type": "markdown",
   "id": "9730714a",
   "metadata": {},
   "source": [
    "# APPLIED STATISTICS"
   ]
  },
  {
   "cell_type": "markdown",
   "id": "3ecfd11d",
   "metadata": {},
   "source": [
    "## Part A"
   ]
  },
  {
   "cell_type": "markdown",
   "id": "74f7638c",
   "metadata": {},
   "source": [
    "### 1. Please refer the table below to answer below questions:\n",
    "\n",
    "| Planned to purchase Product A | Actually placed order for Product A - Yes | Actually placed order for Product A - No | Total |\n",
    "| ----------------------------- | ----------------------------------------- | ---------------------------------------- | ----- |\n",
    "| **_Yes_**                     | 400                                       | 100                                      | 500   |\n",
    "| **_No_**                      | 200                                       | 1300                                     | 1500  |\n",
    "| **_Total_**                   | 600                                       | 1400                                     | 2000  |\n",
    "\n",
    "> A. Refer above table and find the joint probability of the people who planned to purchase and actually placed an order."
   ]
  },
  {
   "cell_type": "markdown",
   "id": "ccb84a5f",
   "metadata": {},
   "source": [
    "Here "
   ]
  },
  {
   "cell_type": "code",
   "execution_count": null,
   "id": "d2d7f3d4",
   "metadata": {},
   "outputs": [],
   "source": []
  },
  {
   "cell_type": "markdown",
   "id": "06b9d805",
   "metadata": {},
   "source": [
    "> B. Refer to the above table and find the joint probability of the people who planned to purchase and actually placed an order, given that people planned to purchase."
   ]
  },
  {
   "cell_type": "code",
   "execution_count": null,
   "id": "46e7143c",
   "metadata": {},
   "outputs": [],
   "source": []
  },
  {
   "cell_type": "markdown",
   "id": "a1f7e2ce",
   "metadata": {},
   "source": [
    "### 2. An electrical manufacturing company conducts quality checks at specified periods on the products it manufactures. Historically, the failure rate for the manufactured item is 5%. Suppose a random sample of 10 manufactured items is selected. Answer the following questions.\n",
    "\n",
    "> A. Probability that none of the items are defective?"
   ]
  },
  {
   "cell_type": "code",
   "execution_count": null,
   "id": "beb4c176",
   "metadata": {},
   "outputs": [],
   "source": []
  },
  {
   "cell_type": "markdown",
   "id": "fab22a9a",
   "metadata": {},
   "source": [
    "> B. Probability that exactly one of the items is defective?"
   ]
  },
  {
   "cell_type": "code",
   "execution_count": null,
   "id": "136141ef",
   "metadata": {},
   "outputs": [],
   "source": []
  },
  {
   "cell_type": "markdown",
   "id": "d3dc3340",
   "metadata": {},
   "source": [
    "> C. Probability that two or fewer of the items are defective?"
   ]
  },
  {
   "cell_type": "code",
   "execution_count": null,
   "id": "29cf6219",
   "metadata": {},
   "outputs": [],
   "source": []
  },
  {
   "cell_type": "markdown",
   "id": "d151cf85",
   "metadata": {},
   "source": [
    "> D. Probability that three or more of the items are defective?"
   ]
  },
  {
   "cell_type": "code",
   "execution_count": null,
   "id": "73cb7e49",
   "metadata": {},
   "outputs": [],
   "source": []
  },
  {
   "cell_type": "markdown",
   "id": "6a7859e5",
   "metadata": {},
   "source": [
    "### 3. A car salesman sells on an average 3 cars per week.\n",
    "\n",
    "> A. What is Probability that in a given week he will sell some cars?"
   ]
  },
  {
   "cell_type": "code",
   "execution_count": null,
   "id": "44d2c1e8",
   "metadata": {},
   "outputs": [],
   "source": []
  },
  {
   "cell_type": "markdown",
   "id": "b603e923",
   "metadata": {},
   "source": [
    "> B. What is Probability that in a given week he will sell 2 or more but less than 5 cars?"
   ]
  },
  {
   "cell_type": "code",
   "execution_count": null,
   "id": "2beff4f2",
   "metadata": {},
   "outputs": [],
   "source": []
  },
  {
   "cell_type": "markdown",
   "id": "82998b36",
   "metadata": {},
   "source": [
    "> C. Plot the poisson distribution function for cumulative probability of cars sold per-week vs number of cars sold per week."
   ]
  },
  {
   "cell_type": "code",
   "execution_count": null,
   "id": "f6c11cc8",
   "metadata": {},
   "outputs": [],
   "source": []
  },
  {
   "cell_type": "markdown",
   "id": "f1f9227e",
   "metadata": {},
   "source": [
    "### 4. Accuracy in understanding orders for a speech based bot at a restaurant is important for the Company X which has designed, marketed and launched the product for a contactless delivery due to the COVID-19 pandemic. Recognition accuracy that measures the percentage of orders that are taken correctly is 86.8%. Suppose that you place an order with the bot and two friends of yours independently place orders with the same bot. Answer the following questions.\n",
    "\n",
    "> A. What is the probability that all three orders will be recognised correctly?"
   ]
  },
  {
   "cell_type": "code",
   "execution_count": null,
   "id": "7eea559c",
   "metadata": {},
   "outputs": [],
   "source": []
  },
  {
   "cell_type": "markdown",
   "id": "bff2507f",
   "metadata": {},
   "source": [
    "> B. What is the probability that none of the three orders will be recognised correctly?"
   ]
  },
  {
   "cell_type": "code",
   "execution_count": null,
   "id": "3527ab28",
   "metadata": {},
   "outputs": [],
   "source": []
  },
  {
   "cell_type": "markdown",
   "id": "b5c04aef",
   "metadata": {},
   "source": [
    "> C. What is the probability that at least two of the three orders will be recognised correctly?"
   ]
  },
  {
   "cell_type": "code",
   "execution_count": null,
   "id": "7613c3f0",
   "metadata": {},
   "outputs": [],
   "source": []
  },
  {
   "cell_type": "markdown",
   "id": "452c0567",
   "metadata": {},
   "source": [
    "### 5. Explain 1 real life industry scenario (other than the ones mentioned above) where you can use the concepts learnt in this module of Applied Statistics to get data driven business solution."
   ]
  },
  {
   "cell_type": "code",
   "execution_count": null,
   "id": "2eec5072",
   "metadata": {},
   "outputs": [],
   "source": []
  },
  {
   "cell_type": "code",
   "execution_count": null,
   "id": "4807aa10",
   "metadata": {},
   "outputs": [],
   "source": []
  },
  {
   "cell_type": "markdown",
   "id": "c922f2f0",
   "metadata": {},
   "source": [
    "## Part B"
   ]
  },
  {
   "cell_type": "markdown",
   "id": "89b4d847",
   "metadata": {},
   "source": [
    "- **DOMAIN:** Sports\n",
    "- **CONTEXT:** Company X manages the men's top professional basketball division of the American league system. The dataset contains information on all the teams that have participated in all the past tournaments. It has data about how many baskets each team scored, conceded, how many times they came within the first 2 positions, how many tournaments they have qualified, their best position in the past, etc.\n",
    "- **DATA DESCRIPTION:** [Basketball.csv](Dataset/Basketball.csv) - The data set contains information on all the teams so far participated in all the past tournaments.\n",
    "- **DATA DICTIONARY:**\n",
    "\n",
    "1. **Team:** Team’s name\n",
    "2. **Tournament:** Number of played tournaments.\n",
    "3. **Score:** Team’s score so far.\n",
    "4. **PlayedGames:** Games played by the team so far.\n",
    "5. **WonGames:** Games won by the team so far.\n",
    "6. **DrawnGames:** Games drawn by the team so far.\n",
    "7. **LostGames:** Games lost by the team so far.\n",
    "8. **BasketScored:** Basket scored by the team so far.\n",
    "9. **BasketGiven:** Basket scored against the team so far.\n",
    "10. **TournamentChampion:** How many times the team was a champion of the tournaments so far.\n",
    "11. **Runner-up:** How many times the team was a runners-up of the tournaments so far.\n",
    "12. **TeamLaunch:** Year the team was launched on professional basketball.\n",
    "13. **HighestPositionHeld:** Highest position held by the team amongst all the tournaments played.\n",
    "\n",
    "- **PROJECT OBJECTIVE:** Company’s management wants to invest on proposals on managing some of the best teams in the league. The analytics department has been assigned with a task of creating a report on the performance shown by the teams. Some of the older teams are already in contract with competitors. Hence Company X wants to understand which teams they can approach which will be a deal win for them.\n",
    "- **STEPS AND TASK:**"
   ]
  },
  {
   "cell_type": "markdown",
   "id": "6234e3c6",
   "metadata": {},
   "source": [
    "### 1. Read the data set, clean the data and prepare final dataset to be used for analysis."
   ]
  },
  {
   "cell_type": "code",
   "execution_count": null,
   "id": "15b71d4e",
   "metadata": {},
   "outputs": [],
   "source": []
  },
  {
   "cell_type": "markdown",
   "id": "97392c7c",
   "metadata": {},
   "source": [
    "### 2. Perform detailed statistical analysis and EDA using univariate, bi-variate and multivariate EDA techniques to get data driven insights on recommending which teams they can approach which will be a deal win for them. Also as a data and statistics expert you have to develop a detailed performance report using this data.\n",
    "\n",
    ">(Hint: Use statistical techniques and visualisation techniques to come up with useful metrics and reporting. Find out the best performing team, oldest team, team with highest goals, team with lowest performance etc. and many more. These are just random examples. Please use your best analytical approach to build this report. You can mix match columns to create new ones which can be used for better analysis. Create your own features if required. Be highly experimental and analytical here to find hidden patterns. Use graphical interactive libraries to enable you to publish interactive plots in python.)"
   ]
  },
  {
   "cell_type": "code",
   "execution_count": null,
   "id": "bf5353d3",
   "metadata": {},
   "outputs": [],
   "source": []
  },
  {
   "cell_type": "markdown",
   "id": "8a16bcc0",
   "metadata": {},
   "source": [
    "### 3. Please include any improvements or suggestions to the association management on quality, quantity, variety, velocity, veracity etc. on the data points collected by the association to perform a better data analysis in future. At-least 1 suggestion for each point."
   ]
  },
  {
   "cell_type": "code",
   "execution_count": null,
   "id": "a681ad72",
   "metadata": {},
   "outputs": [],
   "source": []
  },
  {
   "cell_type": "code",
   "execution_count": null,
   "id": "cef98418",
   "metadata": {},
   "outputs": [],
   "source": []
  },
  {
   "cell_type": "code",
   "execution_count": null,
   "id": "9f3c723c",
   "metadata": {},
   "outputs": [],
   "source": []
  },
  {
   "cell_type": "markdown",
   "id": "1207deb9",
   "metadata": {},
   "source": [
    "## Part C"
   ]
  },
  {
   "cell_type": "markdown",
   "id": "0ba09c4f",
   "metadata": {},
   "source": [
    "- **DOMAIN:** Startup ecosystem\n",
    "- **CONTEXT:** Company X is a EU online publisher focusing on the startups industry. The company specifically reports on the business related to\n",
    "  technology news, analysis of emerging trends and profiling of new tech businesses and products. Their event i.e. Startup Battlefield is the world’s\n",
    "  pre-eminent startup competition. Startup Battlefield features 15-30 top early stage startups pitching top judges in front of a vast live audience,\n",
    "  present in person and online.\n",
    "- **DATA DESCRIPTION:** [CompanyX_EU.csv](Dataset/CompanyX_EU.csv) - Each row in the dataset is a Start-up company and the columns describe the company.\n",
    "- DATA DICTIONARY:\n",
    "\n",
    "1. **Startup:** Name of the company\n",
    "2. **Product:** Actual product\n",
    "3. **Funding:** Funds raised by the company in USD\n",
    "4. **Event:** The event the company participated in\n",
    "5. **Result:** Described by Contestant, Finalist, Audience choice, Winner or Runner up\n",
    "6. **OperatingState:** Current status of the company, Operating ,Closed, Acquired or IPO\n",
    "   \\*Dataset has been downloaded from the internet. All the credit for the dataset goes to the original creator of the data.\n",
    "\n",
    "- **PROJECT OBJECTIVE:** Analyse the data of the various companies from the given dataset and perform the tasks that are specified in the below steps. Draw insights from the various attributes that are present in the dataset, plot distributions, state hypotheses and draw conclusions from\n",
    "  the dataset.\n",
    "#### STEPS AND TASK:"
   ]
  },
  {
   "cell_type": "markdown",
   "id": "f07deb48",
   "metadata": {},
   "source": [
    "### 1. Read the CSV file."
   ]
  },
  {
   "cell_type": "code",
   "execution_count": null,
   "id": "e8b87986",
   "metadata": {},
   "outputs": [],
   "source": []
  },
  {
   "cell_type": "markdown",
   "id": "d69a6fb6",
   "metadata": {},
   "source": [
    "### 2. Data Exploration:\n",
    "\n",
    "> A. Check the datatypes of each attribute."
   ]
  },
  {
   "cell_type": "code",
   "execution_count": null,
   "id": "904ede57",
   "metadata": {},
   "outputs": [],
   "source": []
  },
  {
   "cell_type": "markdown",
   "id": "5b56a3ec",
   "metadata": {},
   "source": [
    "> B. Check for null values in the attributes."
   ]
  },
  {
   "cell_type": "code",
   "execution_count": null,
   "id": "4c7983c7",
   "metadata": {},
   "outputs": [],
   "source": []
  },
  {
   "cell_type": "markdown",
   "id": "4663eb72",
   "metadata": {},
   "source": [
    "### 3. Data preprocessing & visualisation:\n",
    "\n",
    "> A. Drop the null values."
   ]
  },
  {
   "cell_type": "code",
   "execution_count": null,
   "id": "7a48ea90",
   "metadata": {},
   "outputs": [],
   "source": []
  },
  {
   "cell_type": "markdown",
   "id": "81a71aeb",
   "metadata": {},
   "source": [
    "> B. Convert the ‘Funding’ features to a numerical value.\n",
    "\n",
    ">>(Execute below code)\n",
    ">>\n",
    ">> `df1.loc[:,'Funds_in_million'] = df1['Funding'].apply(lambda x: float(x[1:-1])/1000 if x[-1] == 'K' else (float(x[1:-1])\\*1000 if x[-1] == 'B' else float(x[1:-1])))`"
   ]
  },
  {
   "cell_type": "code",
   "execution_count": null,
   "id": "90482fb3",
   "metadata": {},
   "outputs": [],
   "source": []
  },
  {
   "cell_type": "markdown",
   "id": "3cb34bf7",
   "metadata": {},
   "source": [
    "> C. Plot box plot for funds in million."
   ]
  },
  {
   "cell_type": "code",
   "execution_count": null,
   "id": "81e432f6",
   "metadata": {},
   "outputs": [],
   "source": []
  },
  {
   "cell_type": "markdown",
   "id": "db3e827c",
   "metadata": {},
   "source": [
    "> D. Check the number of outliers greater than the upper fence."
   ]
  },
  {
   "cell_type": "code",
   "execution_count": null,
   "id": "269720ae",
   "metadata": {},
   "outputs": [],
   "source": []
  },
  {
   "cell_type": "markdown",
   "id": "d2267f4f",
   "metadata": {},
   "source": [
    "> E. Check frequency of the OperatingState features classes."
   ]
  },
  {
   "cell_type": "code",
   "execution_count": null,
   "id": "0dbfa189",
   "metadata": {},
   "outputs": [],
   "source": []
  },
  {
   "cell_type": "markdown",
   "id": "64bed2f5",
   "metadata": {},
   "source": [
    "### 4. Statistical Analysis:\n",
    "\n",
    "> A. Is there any significant difference between Funds raised by companies that are still operating vs companies that closed down?"
   ]
  },
  {
   "cell_type": "code",
   "execution_count": null,
   "id": "89e7b1aa",
   "metadata": {},
   "outputs": [],
   "source": []
  },
  {
   "cell_type": "markdown",
   "id": "0140dbd1",
   "metadata": {},
   "source": [
    "> B. Write the null hypothesis and alternative hypothesis."
   ]
  },
  {
   "cell_type": "code",
   "execution_count": null,
   "id": "208ec658",
   "metadata": {},
   "outputs": [],
   "source": []
  },
  {
   "cell_type": "markdown",
   "id": "c709fa44",
   "metadata": {},
   "source": [
    "> C. Test for significance and conclusion"
   ]
  },
  {
   "cell_type": "code",
   "execution_count": null,
   "id": "5b8e3863",
   "metadata": {},
   "outputs": [],
   "source": []
  },
  {
   "cell_type": "markdown",
   "id": "7210fdb7",
   "metadata": {},
   "source": [
    "> D. Make a copy of the original data frame."
   ]
  },
  {
   "cell_type": "code",
   "execution_count": null,
   "id": "8bb0f826",
   "metadata": {},
   "outputs": [],
   "source": []
  },
  {
   "cell_type": "markdown",
   "id": "a97c32f7",
   "metadata": {},
   "source": [
    "> E. Check frequency distribution of Result variables."
   ]
  },
  {
   "cell_type": "code",
   "execution_count": null,
   "id": "ce0130d7",
   "metadata": {},
   "outputs": [],
   "source": []
  },
  {
   "cell_type": "markdown",
   "id": "1e274e3e",
   "metadata": {},
   "source": [
    "> F. Calculate percentage of winners that are still operating and percentage of contestants that are still operating"
   ]
  },
  {
   "cell_type": "code",
   "execution_count": null,
   "id": "2026b819",
   "metadata": {},
   "outputs": [],
   "source": []
  },
  {
   "cell_type": "markdown",
   "id": "38e1eb63",
   "metadata": {},
   "source": [
    "> G. Write your hypothesis comparing the proportion of companies that are operating between winners and contestants."
   ]
  },
  {
   "cell_type": "code",
   "execution_count": null,
   "id": "d3c9a6e8",
   "metadata": {},
   "outputs": [],
   "source": []
  },
  {
   "cell_type": "markdown",
   "id": "0c363d60",
   "metadata": {},
   "source": [
    "> H. Test for significance and conclusion"
   ]
  },
  {
   "cell_type": "code",
   "execution_count": null,
   "id": "6f408c0f",
   "metadata": {},
   "outputs": [],
   "source": []
  },
  {
   "cell_type": "markdown",
   "id": "6ecc9231",
   "metadata": {},
   "source": [
    "> I. Select only the Event that has ‘disrupt’ keyword from 2013 onwards."
   ]
  },
  {
   "cell_type": "code",
   "execution_count": null,
   "id": "5ac28849",
   "metadata": {},
   "outputs": [],
   "source": []
  }
 ],
 "metadata": {
  "kernelspec": {
   "display_name": "Python 3 (ipykernel)",
   "language": "python",
   "name": "python3"
  },
  "language_info": {
   "codemirror_mode": {
    "name": "ipython",
    "version": 3
   },
   "file_extension": ".py",
   "mimetype": "text/x-python",
   "name": "python",
   "nbconvert_exporter": "python",
   "pygments_lexer": "ipython3",
   "version": "3.11.4"
  }
 },
 "nbformat": 4,
 "nbformat_minor": 5
}
